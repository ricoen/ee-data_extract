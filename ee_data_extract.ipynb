{
  "nbformat": 4,
  "nbformat_minor": 0,
  "metadata": {
    "colab": {
      "name": "ee-data_extract.ipynb",
      "provenance": [],
      "collapsed_sections": [],
      "authorship_tag": "ABX9TyMguF0l1JuvuxEfU94PIuBK",
      "include_colab_link": true
    },
    "kernelspec": {
      "name": "python3",
      "display_name": "Python 3"
    }
  },
  "cells": [
    {
      "cell_type": "markdown",
      "metadata": {
        "id": "view-in-github",
        "colab_type": "text"
      },
      "source": [
        "<a href=\"https://colab.research.google.com/github/ricoen/google-ee-data-extract/blob/main/ee_data_extract.ipynb\" target=\"_parent\"><img src=\"https://colab.research.google.com/assets/colab-badge.svg\" alt=\"Open In Colab\"/></a>"
      ]
    },
    {
      "cell_type": "markdown",
      "metadata": {
        "id": "jVC-vgBFzl5n"
      },
      "source": [
        "# Google Earth Engine Data Extract\n",
        "\n",
        "Author [@ricoen](https://github.com/ricoen)<br>\n",
        "\n",
        "MIT Licensed"
      ]
    },
    {
      "cell_type": "code",
      "metadata": {
        "id": "yUsFNzL_YyR1"
      },
      "source": [
        "#Import Earth Engine\n",
        "import ee"
      ],
      "execution_count": null,
      "outputs": []
    },
    {
      "cell_type": "code",
      "metadata": {
        "colab": {
          "base_uri": "https://localhost:8080/"
        },
        "id": "Ng4JRr6X279f",
        "outputId": "73848cca-2f95-4466-f529-ae9f13e2dfa8"
      },
      "source": [
        "#Authenticate EE with your account\n",
        "ee.Authenticate()"
      ],
      "execution_count": null,
      "outputs": [
        {
          "output_type": "stream",
          "text": [
            "To authorize access needed by Earth Engine, open the following URL in a web browser and follow the instructions. If the web browser does not start automatically, please manually browse the URL below.\n",
            "\n",
            "    https://accounts.google.com/o/oauth2/auth?client_id=517222506229-vsmmajv00ul0bs7p89v5m89qs8eb9359.apps.googleusercontent.com&scope=https%3A%2F%2Fwww.googleapis.com%2Fauth%2Fearthengine+https%3A%2F%2Fwww.googleapis.com%2Fauth%2Fdevstorage.full_control&redirect_uri=urn%3Aietf%3Awg%3Aoauth%3A2.0%3Aoob&response_type=code&code_challenge=NJfUhshRhOtm1APfzevsgUVEiIWEGzW7PcghS9m6x_k&code_challenge_method=S256\n",
            "\n",
            "The authorization workflow will generate a code, which you should paste in the box below. \n",
            "Enter verification code: 4/1AY0e-g6KKZgoSXfXZNoiVH-oGpnaZVpjRpmgNpF_oi_Q9udAUo4C0WyCXlI\n",
            "\n",
            "Successfully saved authorization token.\n"
          ],
          "name": "stdout"
        }
      ]
    },
    {
      "cell_type": "code",
      "metadata": {
        "id": "wF76mUYr3TK_"
      },
      "source": [
        "#Initialize EE\n",
        "ee.Initialize()"
      ],
      "execution_count": null,
      "outputs": []
    },
    {
      "cell_type": "code",
      "metadata": {
        "id": "ypKuzTz1oTBa"
      },
      "source": [
        "#Set the dataset from EE Image Collection\n",
        "dataset = ee.ImageCollection('NASA/GLDAS/V021/NOAH/G025/T3H')"
      ],
      "execution_count": null,
      "outputs": []
    },
    {
      "cell_type": "code",
      "metadata": {
        "id": "22lIv_BGqL1t"
      },
      "source": [
        "#Set the dataset taken time\n",
        "taken = dataset.filterDate('2021-01-01', '2021-01-31')"
      ],
      "execution_count": null,
      "outputs": []
    },
    {
      "cell_type": "code",
      "metadata": {
        "id": "z6VikaAxrAHn"
      },
      "source": [
        "#Get the first raster for visualize the data\n",
        "first_raster = ee.Image(taken.first())"
      ],
      "execution_count": null,
      "outputs": []
    },
    {
      "cell_type": "code",
      "metadata": {
        "colab": {
          "base_uri": "https://localhost:8080/"
        },
        "id": "6xQk7FDMrQOY",
        "outputId": "dff616c0-34a7-416c-acf8-150343c49c8e"
      },
      "source": [
        "#Get info from the selected raster\n",
        "img = first_raster\n",
        "\n",
        "img.getInfo()"
      ],
      "execution_count": null,
      "outputs": [
        {
          "output_type": "execute_result",
          "data": {
            "text/plain": [
              "{'bands': [{'crs': 'EPSG:4326',\n",
              "   'crs_transform': [0.25, 0, -180, 0, -0.25, 90],\n",
              "   'data_type': {'precision': 'float', 'type': 'PixelType'},\n",
              "   'dimensions': [1440, 600],\n",
              "   'id': 'Albedo_inst'},\n",
              "  {'crs': 'EPSG:4326',\n",
              "   'crs_transform': [0.25, 0, -180, 0, -0.25, 90],\n",
              "   'data_type': {'precision': 'float', 'type': 'PixelType'},\n",
              "   'dimensions': [1440, 600],\n",
              "   'id': 'AvgSurfT_inst'},\n",
              "  {'crs': 'EPSG:4326',\n",
              "   'crs_transform': [0.25, 0, -180, 0, -0.25, 90],\n",
              "   'data_type': {'precision': 'float', 'type': 'PixelType'},\n",
              "   'dimensions': [1440, 600],\n",
              "   'id': 'CanopInt_inst'},\n",
              "  {'crs': 'EPSG:4326',\n",
              "   'crs_transform': [0.25, 0, -180, 0, -0.25, 90],\n",
              "   'data_type': {'precision': 'float', 'type': 'PixelType'},\n",
              "   'dimensions': [1440, 600],\n",
              "   'id': 'ECanop_tavg'},\n",
              "  {'crs': 'EPSG:4326',\n",
              "   'crs_transform': [0.25, 0, -180, 0, -0.25, 90],\n",
              "   'data_type': {'precision': 'float', 'type': 'PixelType'},\n",
              "   'dimensions': [1440, 600],\n",
              "   'id': 'ESoil_tavg'},\n",
              "  {'crs': 'EPSG:4326',\n",
              "   'crs_transform': [0.25, 0, -180, 0, -0.25, 90],\n",
              "   'data_type': {'precision': 'float', 'type': 'PixelType'},\n",
              "   'dimensions': [1440, 600],\n",
              "   'id': 'Evap_tavg'},\n",
              "  {'crs': 'EPSG:4326',\n",
              "   'crs_transform': [0.25, 0, -180, 0, -0.25, 90],\n",
              "   'data_type': {'precision': 'float', 'type': 'PixelType'},\n",
              "   'dimensions': [1440, 600],\n",
              "   'id': 'LWdown_f_tavg'},\n",
              "  {'crs': 'EPSG:4326',\n",
              "   'crs_transform': [0.25, 0, -180, 0, -0.25, 90],\n",
              "   'data_type': {'precision': 'float', 'type': 'PixelType'},\n",
              "   'dimensions': [1440, 600],\n",
              "   'id': 'Lwnet_tavg'},\n",
              "  {'crs': 'EPSG:4326',\n",
              "   'crs_transform': [0.25, 0, -180, 0, -0.25, 90],\n",
              "   'data_type': {'precision': 'float', 'type': 'PixelType'},\n",
              "   'dimensions': [1440, 600],\n",
              "   'id': 'PotEvap_tavg'},\n",
              "  {'crs': 'EPSG:4326',\n",
              "   'crs_transform': [0.25, 0, -180, 0, -0.25, 90],\n",
              "   'data_type': {'precision': 'float', 'type': 'PixelType'},\n",
              "   'dimensions': [1440, 600],\n",
              "   'id': 'Psurf_f_inst'},\n",
              "  {'crs': 'EPSG:4326',\n",
              "   'crs_transform': [0.25, 0, -180, 0, -0.25, 90],\n",
              "   'data_type': {'precision': 'float', 'type': 'PixelType'},\n",
              "   'dimensions': [1440, 600],\n",
              "   'id': 'Qair_f_inst'},\n",
              "  {'crs': 'EPSG:4326',\n",
              "   'crs_transform': [0.25, 0, -180, 0, -0.25, 90],\n",
              "   'data_type': {'precision': 'float', 'type': 'PixelType'},\n",
              "   'dimensions': [1440, 600],\n",
              "   'id': 'Qg_tavg'},\n",
              "  {'crs': 'EPSG:4326',\n",
              "   'crs_transform': [0.25, 0, -180, 0, -0.25, 90],\n",
              "   'data_type': {'precision': 'float', 'type': 'PixelType'},\n",
              "   'dimensions': [1440, 600],\n",
              "   'id': 'Qh_tavg'},\n",
              "  {'crs': 'EPSG:4326',\n",
              "   'crs_transform': [0.25, 0, -180, 0, -0.25, 90],\n",
              "   'data_type': {'precision': 'float', 'type': 'PixelType'},\n",
              "   'dimensions': [1440, 600],\n",
              "   'id': 'Qle_tavg'},\n",
              "  {'crs': 'EPSG:4326',\n",
              "   'crs_transform': [0.25, 0, -180, 0, -0.25, 90],\n",
              "   'data_type': {'precision': 'float', 'type': 'PixelType'},\n",
              "   'dimensions': [1440, 600],\n",
              "   'id': 'Qs_acc'},\n",
              "  {'crs': 'EPSG:4326',\n",
              "   'crs_transform': [0.25, 0, -180, 0, -0.25, 90],\n",
              "   'data_type': {'precision': 'float', 'type': 'PixelType'},\n",
              "   'dimensions': [1440, 600],\n",
              "   'id': 'Qsb_acc'},\n",
              "  {'crs': 'EPSG:4326',\n",
              "   'crs_transform': [0.25, 0, -180, 0, -0.25, 90],\n",
              "   'data_type': {'precision': 'float', 'type': 'PixelType'},\n",
              "   'dimensions': [1440, 600],\n",
              "   'id': 'Qsm_acc'},\n",
              "  {'crs': 'EPSG:4326',\n",
              "   'crs_transform': [0.25, 0, -180, 0, -0.25, 90],\n",
              "   'data_type': {'precision': 'float', 'type': 'PixelType'},\n",
              "   'dimensions': [1440, 600],\n",
              "   'id': 'Rainf_f_tavg'},\n",
              "  {'crs': 'EPSG:4326',\n",
              "   'crs_transform': [0.25, 0, -180, 0, -0.25, 90],\n",
              "   'data_type': {'precision': 'float', 'type': 'PixelType'},\n",
              "   'dimensions': [1440, 600],\n",
              "   'id': 'Rainf_tavg'},\n",
              "  {'crs': 'EPSG:4326',\n",
              "   'crs_transform': [0.25, 0, -180, 0, -0.25, 90],\n",
              "   'data_type': {'precision': 'float', 'type': 'PixelType'},\n",
              "   'dimensions': [1440, 600],\n",
              "   'id': 'RootMoist_inst'},\n",
              "  {'crs': 'EPSG:4326',\n",
              "   'crs_transform': [0.25, 0, -180, 0, -0.25, 90],\n",
              "   'data_type': {'precision': 'float', 'type': 'PixelType'},\n",
              "   'dimensions': [1440, 600],\n",
              "   'id': 'SWE_inst'},\n",
              "  {'crs': 'EPSG:4326',\n",
              "   'crs_transform': [0.25, 0, -180, 0, -0.25, 90],\n",
              "   'data_type': {'precision': 'float', 'type': 'PixelType'},\n",
              "   'dimensions': [1440, 600],\n",
              "   'id': 'SWdown_f_tavg'},\n",
              "  {'crs': 'EPSG:4326',\n",
              "   'crs_transform': [0.25, 0, -180, 0, -0.25, 90],\n",
              "   'data_type': {'precision': 'float', 'type': 'PixelType'},\n",
              "   'dimensions': [1440, 600],\n",
              "   'id': 'SnowDepth_inst'},\n",
              "  {'crs': 'EPSG:4326',\n",
              "   'crs_transform': [0.25, 0, -180, 0, -0.25, 90],\n",
              "   'data_type': {'precision': 'float', 'type': 'PixelType'},\n",
              "   'dimensions': [1440, 600],\n",
              "   'id': 'Snowf_tavg'},\n",
              "  {'crs': 'EPSG:4326',\n",
              "   'crs_transform': [0.25, 0, -180, 0, -0.25, 90],\n",
              "   'data_type': {'precision': 'float', 'type': 'PixelType'},\n",
              "   'dimensions': [1440, 600],\n",
              "   'id': 'SoilMoi0_10cm_inst'},\n",
              "  {'crs': 'EPSG:4326',\n",
              "   'crs_transform': [0.25, 0, -180, 0, -0.25, 90],\n",
              "   'data_type': {'precision': 'float', 'type': 'PixelType'},\n",
              "   'dimensions': [1440, 600],\n",
              "   'id': 'SoilMoi100_200cm_inst'},\n",
              "  {'crs': 'EPSG:4326',\n",
              "   'crs_transform': [0.25, 0, -180, 0, -0.25, 90],\n",
              "   'data_type': {'precision': 'float', 'type': 'PixelType'},\n",
              "   'dimensions': [1440, 600],\n",
              "   'id': 'SoilMoi10_40cm_inst'},\n",
              "  {'crs': 'EPSG:4326',\n",
              "   'crs_transform': [0.25, 0, -180, 0, -0.25, 90],\n",
              "   'data_type': {'precision': 'float', 'type': 'PixelType'},\n",
              "   'dimensions': [1440, 600],\n",
              "   'id': 'SoilMoi40_100cm_inst'},\n",
              "  {'crs': 'EPSG:4326',\n",
              "   'crs_transform': [0.25, 0, -180, 0, -0.25, 90],\n",
              "   'data_type': {'precision': 'float', 'type': 'PixelType'},\n",
              "   'dimensions': [1440, 600],\n",
              "   'id': 'SoilTMP0_10cm_inst'},\n",
              "  {'crs': 'EPSG:4326',\n",
              "   'crs_transform': [0.25, 0, -180, 0, -0.25, 90],\n",
              "   'data_type': {'precision': 'float', 'type': 'PixelType'},\n",
              "   'dimensions': [1440, 600],\n",
              "   'id': 'SoilTMP100_200cm_inst'},\n",
              "  {'crs': 'EPSG:4326',\n",
              "   'crs_transform': [0.25, 0, -180, 0, -0.25, 90],\n",
              "   'data_type': {'precision': 'float', 'type': 'PixelType'},\n",
              "   'dimensions': [1440, 600],\n",
              "   'id': 'SoilTMP10_40cm_inst'},\n",
              "  {'crs': 'EPSG:4326',\n",
              "   'crs_transform': [0.25, 0, -180, 0, -0.25, 90],\n",
              "   'data_type': {'precision': 'float', 'type': 'PixelType'},\n",
              "   'dimensions': [1440, 600],\n",
              "   'id': 'SoilTMP40_100cm_inst'},\n",
              "  {'crs': 'EPSG:4326',\n",
              "   'crs_transform': [0.25, 0, -180, 0, -0.25, 90],\n",
              "   'data_type': {'precision': 'float', 'type': 'PixelType'},\n",
              "   'dimensions': [1440, 600],\n",
              "   'id': 'Swnet_tavg'},\n",
              "  {'crs': 'EPSG:4326',\n",
              "   'crs_transform': [0.25, 0, -180, 0, -0.25, 90],\n",
              "   'data_type': {'precision': 'float', 'type': 'PixelType'},\n",
              "   'dimensions': [1440, 600],\n",
              "   'id': 'Tair_f_inst'},\n",
              "  {'crs': 'EPSG:4326',\n",
              "   'crs_transform': [0.25, 0, -180, 0, -0.25, 90],\n",
              "   'data_type': {'precision': 'float', 'type': 'PixelType'},\n",
              "   'dimensions': [1440, 600],\n",
              "   'id': 'Tveg_tavg'},\n",
              "  {'crs': 'EPSG:4326',\n",
              "   'crs_transform': [0.25, 0, -180, 0, -0.25, 90],\n",
              "   'data_type': {'precision': 'float', 'type': 'PixelType'},\n",
              "   'dimensions': [1440, 600],\n",
              "   'id': 'Wind_f_inst'}],\n",
              " 'id': 'NASA/GLDAS/V021/NOAH/G025/T3H/A20210101_0000',\n",
              " 'properties': {'end_hour': 3,\n",
              "  'start_hour': 0,\n",
              "  'status': 'early',\n",
              "  'system:asset_size': 24971921,\n",
              "  'system:footprint': {'coordinates': [[-180, -90],\n",
              "    [180, -90],\n",
              "    [180, 90],\n",
              "    [-180, 90],\n",
              "    [-180, -90]],\n",
              "   'type': 'LinearRing'},\n",
              "  'system:index': 'A20210101_0000',\n",
              "  'system:time_end': 1609470000000,\n",
              "  'system:time_start': 1609459200000},\n",
              " 'type': 'Image',\n",
              " 'version': 1614204920889031}"
            ]
          },
          "metadata": {
            "tags": []
          },
          "execution_count": 7
        }
      ]
    },
    {
      "cell_type": "code",
      "metadata": {
        "id": "-LZWnrxMtVAQ"
      },
      "source": [
        "#Get the temperature value from T band\n",
        "temperature = img.select('Tair_f_inst')"
      ],
      "execution_count": null,
      "outputs": []
    },
    {
      "cell_type": "code",
      "metadata": {
        "id": "VtpzlozDt65k"
      },
      "source": [
        "#Import the folium library.\n",
        "import folium\n",
        "from folium import plugins"
      ],
      "execution_count": null,
      "outputs": []
    },
    {
      "cell_type": "code",
      "metadata": {
        "id": "-yATwqKDuBL4"
      },
      "source": [
        "#Set the basemap for map\n",
        "basemaps = {\n",
        "    'Google Maps': folium.TileLayer(\n",
        "        tiles = 'https://mt1.google.com/vt/lyrs=m&x={x}&y={y}&z={z}',\n",
        "        attr = 'Google',\n",
        "        name = 'Google Maps',\n",
        "        overlay = True,\n",
        "        control = True\n",
        "    ),\n",
        "    'Google Satellite': folium.TileLayer(\n",
        "        tiles = 'https://mt1.google.com/vt/lyrs=s&x={x}&y={y}&z={z}',\n",
        "        attr = 'Google',\n",
        "        name = 'Google Satellite',\n",
        "        overlay = True,\n",
        "        control = True\n",
        "    )\n",
        "}"
      ],
      "execution_count": null,
      "outputs": []
    },
    {
      "cell_type": "code",
      "metadata": {
        "colab": {
          "base_uri": "https://localhost:8080/",
          "height": 763
        },
        "id": "AwkpelXlvHl-",
        "outputId": "2d0a3f0c-a386-45c2-be7d-f7c0df528aee"
      },
      "source": [
        "# Define a method for displaying Earth Engine image tiles to folium map.\n",
        "def add_ee_layer(self, ee_image_object, vis_params, name):\n",
        "  map_id_dict = ee.Image(ee_image_object).getMapId(vis_params)\n",
        "  \n",
        "  folium.raster_layers.TileLayer(\n",
        "    tiles = map_id_dict['tile_fetcher'].url_format,\n",
        "    attr = 'Map Data &copy; <a href=\"https://earthengine.google.com/\">Google Earth Engine</a>',\n",
        "    name = name,\n",
        "    overlay = True,\n",
        "    control = True\n",
        "  ).add_to(self)\n",
        "\n",
        "# Add EE drawing method to folium.\n",
        "folium.Map.add_ee_layer = add_ee_layer\n",
        "\n",
        "# Create a folium map object.\n",
        "my_map = folium.Map(location=[-7.50, 111.25], zoom_start=3, height=1000)\n",
        "\n",
        "# Add custom basemaps\n",
        "basemaps['Google Satellite'].add_to(my_map)\n",
        "\n",
        "# Add fullscreen button\n",
        "plugins.Fullscreen().add_to(my_map)\n",
        "\n",
        "# Temperature Params\n",
        "temp_params = {\n",
        "  'min': 206,\n",
        "  'max': 328,\n",
        "  'palette': ['green', 'yellow', 'red']}\n",
        "\n",
        "# Add the elevation model to the map object.\n",
        "my_map.add_ee_layer(temperature.updateMask(temperature.gt(0)), temp_params, 'Air Temperature')\n",
        "\n",
        "# Add a layer control panel to the map.\n",
        "my_map.add_child(folium.LayerControl())\n",
        "\n",
        "# Display the map.\n",
        "display(my_map)"
      ],
      "execution_count": null,
      "outputs": [
        {
          "output_type": "display_data",
          "data": {
            "text/html": [
              "<div style=\"width:100%;\"><div style=\"position:relative;width:100%;height:0;padding-bottom:60%;\"><span style=\"color:#565656\">Make this Notebook Trusted to load map: File -> Trust Notebook</span><iframe src=\"about:blank\" style=\"position:absolute;width:100%;height:100%;left:0;top:0;border:none !important;\" data-html=%3C%21DOCTYPE%20html%3E%0A%3Chead%3E%20%20%20%20%0A%20%20%20%20%3Cmeta%20http-equiv%3D%22content-type%22%20content%3D%22text/html%3B%20charset%3DUTF-8%22%20/%3E%0A%20%20%20%20%3Cscript%3EL_PREFER_CANVAS%3Dfalse%3B%20L_NO_TOUCH%3Dfalse%3B%20L_DISABLE_3D%3Dfalse%3B%3C/script%3E%0A%20%20%20%20%3Cscript%20src%3D%22https%3A//cdn.jsdelivr.net/npm/leaflet%401.4.0/dist/leaflet.js%22%3E%3C/script%3E%0A%20%20%20%20%3Cscript%20src%3D%22https%3A//code.jquery.com/jquery-1.12.4.min.js%22%3E%3C/script%3E%0A%20%20%20%20%3Cscript%20src%3D%22https%3A//maxcdn.bootstrapcdn.com/bootstrap/3.2.0/js/bootstrap.min.js%22%3E%3C/script%3E%0A%20%20%20%20%3Cscript%20src%3D%22https%3A//cdnjs.cloudflare.com/ajax/libs/Leaflet.awesome-markers/2.0.2/leaflet.awesome-markers.js%22%3E%3C/script%3E%0A%20%20%20%20%3Clink%20rel%3D%22stylesheet%22%20href%3D%22https%3A//cdn.jsdelivr.net/npm/leaflet%401.4.0/dist/leaflet.css%22/%3E%0A%20%20%20%20%3Clink%20rel%3D%22stylesheet%22%20href%3D%22https%3A//maxcdn.bootstrapcdn.com/bootstrap/3.2.0/css/bootstrap.min.css%22/%3E%0A%20%20%20%20%3Clink%20rel%3D%22stylesheet%22%20href%3D%22https%3A//maxcdn.bootstrapcdn.com/bootstrap/3.2.0/css/bootstrap-theme.min.css%22/%3E%0A%20%20%20%20%3Clink%20rel%3D%22stylesheet%22%20href%3D%22https%3A//maxcdn.bootstrapcdn.com/font-awesome/4.6.3/css/font-awesome.min.css%22/%3E%0A%20%20%20%20%3Clink%20rel%3D%22stylesheet%22%20href%3D%22https%3A//cdnjs.cloudflare.com/ajax/libs/Leaflet.awesome-markers/2.0.2/leaflet.awesome-markers.css%22/%3E%0A%20%20%20%20%3Clink%20rel%3D%22stylesheet%22%20href%3D%22https%3A//rawcdn.githack.com/python-visualization/folium/master/folium/templates/leaflet.awesome.rotate.css%22/%3E%0A%20%20%20%20%3Cstyle%3Ehtml%2C%20body%20%7Bwidth%3A%20100%25%3Bheight%3A%20100%25%3Bmargin%3A%200%3Bpadding%3A%200%3B%7D%3C/style%3E%0A%20%20%20%20%3Cstyle%3E%23map%20%7Bposition%3Aabsolute%3Btop%3A0%3Bbottom%3A0%3Bright%3A0%3Bleft%3A0%3B%7D%3C/style%3E%0A%20%20%20%20%0A%20%20%20%20%3Cmeta%20name%3D%22viewport%22%20content%3D%22width%3Ddevice-width%2C%0A%20%20%20%20%20%20%20%20initial-scale%3D1.0%2C%20maximum-scale%3D1.0%2C%20user-scalable%3Dno%22%20/%3E%0A%20%20%20%20%3Cstyle%3E%23map_07479447af9b412fa8478cf9dfe87972%20%7B%0A%20%20%20%20%20%20%20%20position%3A%20relative%3B%0A%20%20%20%20%20%20%20%20width%3A%20100.0%25%3B%0A%20%20%20%20%20%20%20%20height%3A%201000.0px%3B%0A%20%20%20%20%20%20%20%20left%3A%200.0%25%3B%0A%20%20%20%20%20%20%20%20top%3A%200.0%25%3B%0A%20%20%20%20%20%20%20%20%7D%0A%20%20%20%20%3C/style%3E%0A%20%20%20%20%3Cscript%20src%3D%22https%3A//cdnjs.cloudflare.com/ajax/libs/leaflet.fullscreen/1.4.2/Control.FullScreen.min.js%22%3E%3C/script%3E%0A%20%20%20%20%3Clink%20rel%3D%22stylesheet%22%20href%3D%22https%3A//cdnjs.cloudflare.com/ajax/libs/leaflet.fullscreen/1.4.2/Control.FullScreen.min.css%22/%3E%0A%3C/head%3E%0A%3Cbody%3E%20%20%20%20%0A%20%20%20%20%0A%20%20%20%20%3Cdiv%20class%3D%22folium-map%22%20id%3D%22map_07479447af9b412fa8478cf9dfe87972%22%20%3E%3C/div%3E%0A%3C/body%3E%0A%3Cscript%3E%20%20%20%20%0A%20%20%20%20%0A%20%20%20%20%0A%20%20%20%20%20%20%20%20var%20bounds%20%3D%20null%3B%0A%20%20%20%20%0A%0A%20%20%20%20var%20map_07479447af9b412fa8478cf9dfe87972%20%3D%20L.map%28%0A%20%20%20%20%20%20%20%20%27map_07479447af9b412fa8478cf9dfe87972%27%2C%20%7B%0A%20%20%20%20%20%20%20%20center%3A%20%5B-7.5%2C%20111.25%5D%2C%0A%20%20%20%20%20%20%20%20zoom%3A%203%2C%0A%20%20%20%20%20%20%20%20maxBounds%3A%20bounds%2C%0A%20%20%20%20%20%20%20%20layers%3A%20%5B%5D%2C%0A%20%20%20%20%20%20%20%20worldCopyJump%3A%20false%2C%0A%20%20%20%20%20%20%20%20crs%3A%20L.CRS.EPSG3857%2C%0A%20%20%20%20%20%20%20%20zoomControl%3A%20true%2C%0A%20%20%20%20%20%20%20%20%7D%29%3B%0A%0A%0A%20%20%20%20%0A%20%20%20%20var%20tile_layer_156c8f007156404bad8f76883dd15bcc%20%3D%20L.tileLayer%28%0A%20%20%20%20%20%20%20%20%27https%3A//%7Bs%7D.tile.openstreetmap.org/%7Bz%7D/%7Bx%7D/%7By%7D.png%27%2C%0A%20%20%20%20%20%20%20%20%7B%0A%20%20%20%20%20%20%20%20%22attribution%22%3A%20null%2C%0A%20%20%20%20%20%20%20%20%22detectRetina%22%3A%20false%2C%0A%20%20%20%20%20%20%20%20%22maxNativeZoom%22%3A%2018%2C%0A%20%20%20%20%20%20%20%20%22maxZoom%22%3A%2018%2C%0A%20%20%20%20%20%20%20%20%22minZoom%22%3A%200%2C%0A%20%20%20%20%20%20%20%20%22noWrap%22%3A%20false%2C%0A%20%20%20%20%20%20%20%20%22opacity%22%3A%201%2C%0A%20%20%20%20%20%20%20%20%22subdomains%22%3A%20%22abc%22%2C%0A%20%20%20%20%20%20%20%20%22tms%22%3A%20false%0A%7D%29.addTo%28map_07479447af9b412fa8478cf9dfe87972%29%3B%0A%20%20%20%20var%20tile_layer_ef983ebe4bb24eb6806d3635fd5ff2d7%20%3D%20L.tileLayer%28%0A%20%20%20%20%20%20%20%20%27https%3A//mt1.google.com/vt/lyrs%3Ds%26x%3D%7Bx%7D%26y%3D%7By%7D%26z%3D%7Bz%7D%27%2C%0A%20%20%20%20%20%20%20%20%7B%0A%20%20%20%20%20%20%20%20%22attribution%22%3A%20%22Google%22%2C%0A%20%20%20%20%20%20%20%20%22detectRetina%22%3A%20false%2C%0A%20%20%20%20%20%20%20%20%22maxNativeZoom%22%3A%2018%2C%0A%20%20%20%20%20%20%20%20%22maxZoom%22%3A%2018%2C%0A%20%20%20%20%20%20%20%20%22minZoom%22%3A%200%2C%0A%20%20%20%20%20%20%20%20%22noWrap%22%3A%20false%2C%0A%20%20%20%20%20%20%20%20%22opacity%22%3A%201%2C%0A%20%20%20%20%20%20%20%20%22subdomains%22%3A%20%22abc%22%2C%0A%20%20%20%20%20%20%20%20%22tms%22%3A%20false%0A%7D%29.addTo%28map_07479447af9b412fa8478cf9dfe87972%29%3B%0A%20%20%20%20%0A%20%20%20%20%20%20%20%20%20%20%20%20L.control.fullscreen%28%7B%0A%20%20%20%20%20%20%20%20%20%20%20%20%20%20%20%20position%3A%20%27topleft%27%2C%0A%20%20%20%20%20%20%20%20%20%20%20%20%20%20%20%20title%3A%20%27Full%20Screen%27%2C%0A%20%20%20%20%20%20%20%20%20%20%20%20%20%20%20%20titleCancel%3A%20%27Exit%20Full%20Screen%27%2C%0A%20%20%20%20%20%20%20%20%20%20%20%20%20%20%20%20forceSeparateButton%3A%20false%2C%0A%20%20%20%20%20%20%20%20%20%20%20%20%20%20%20%20%7D%29.addTo%28map_07479447af9b412fa8478cf9dfe87972%29%3B%0A%20%20%20%20%20%20%20%20%20%20%20%20map_07479447af9b412fa8478cf9dfe87972.on%28%27enterFullscreen%27%2C%20function%28%29%7B%0A%20%20%20%20%20%20%20%20%20%20%20%20%20%20%20%20console.log%28%27entered%20fullscreen%27%29%3B%0A%20%20%20%20%20%20%20%20%20%20%20%20%7D%29%3B%0A%0A%20%20%20%20%20%20%20%20%0A%20%20%20%20var%20tile_layer_b93411f055a4477890822af0f1751bcf%20%3D%20L.tileLayer%28%0A%20%20%20%20%20%20%20%20%27https%3A//earthengine.googleapis.com/v1alpha/projects/earthengine-legacy/maps/4664a07e31ad0d7d400afa9cfea1d2cc-ff5452585e27c8fd27a0a4c86eac3478/tiles/%7Bz%7D/%7Bx%7D/%7By%7D%27%2C%0A%20%20%20%20%20%20%20%20%7B%0A%20%20%20%20%20%20%20%20%22attribution%22%3A%20%22Map%20Data%20%26copy%3B%20%3Ca%20href%3D%5C%22https%3A//earthengine.google.com/%5C%22%3EGoogle%20Earth%20Engine%3C/a%3E%22%2C%0A%20%20%20%20%20%20%20%20%22detectRetina%22%3A%20false%2C%0A%20%20%20%20%20%20%20%20%22maxNativeZoom%22%3A%2018%2C%0A%20%20%20%20%20%20%20%20%22maxZoom%22%3A%2018%2C%0A%20%20%20%20%20%20%20%20%22minZoom%22%3A%200%2C%0A%20%20%20%20%20%20%20%20%22noWrap%22%3A%20false%2C%0A%20%20%20%20%20%20%20%20%22opacity%22%3A%201%2C%0A%20%20%20%20%20%20%20%20%22subdomains%22%3A%20%22abc%22%2C%0A%20%20%20%20%20%20%20%20%22tms%22%3A%20false%0A%7D%29.addTo%28map_07479447af9b412fa8478cf9dfe87972%29%3B%0A%20%20%20%20%0A%20%20%20%20%20%20%20%20%20%20%20%20var%20layer_control_33d5f39f198d4abe9aa4bd6b584d3c88%20%3D%20%7B%0A%20%20%20%20%20%20%20%20%20%20%20%20%20%20%20%20base_layers%20%3A%20%7B%20%22openstreetmap%22%20%3A%20tile_layer_156c8f007156404bad8f76883dd15bcc%2C%20%7D%2C%0A%20%20%20%20%20%20%20%20%20%20%20%20%20%20%20%20overlays%20%3A%20%7B%20%22Google%20Satellite%22%20%3A%20tile_layer_ef983ebe4bb24eb6806d3635fd5ff2d7%2C%22Air%20Temperature%22%20%3A%20tile_layer_b93411f055a4477890822af0f1751bcf%2C%20%7D%0A%20%20%20%20%20%20%20%20%20%20%20%20%20%20%20%20%7D%3B%0A%20%20%20%20%20%20%20%20%20%20%20%20L.control.layers%28%0A%20%20%20%20%20%20%20%20%20%20%20%20%20%20%20%20layer_control_33d5f39f198d4abe9aa4bd6b584d3c88.base_layers%2C%0A%20%20%20%20%20%20%20%20%20%20%20%20%20%20%20%20layer_control_33d5f39f198d4abe9aa4bd6b584d3c88.overlays%2C%0A%20%20%20%20%20%20%20%20%20%20%20%20%20%20%20%20%7Bposition%3A%20%27topright%27%2C%0A%20%20%20%20%20%20%20%20%20%20%20%20%20%20%20%20%20collapsed%3A%20true%2C%0A%20%20%20%20%20%20%20%20%20%20%20%20%20%20%20%20%20autoZIndex%3A%20true%0A%20%20%20%20%20%20%20%20%20%20%20%20%20%20%20%20%7D%29.addTo%28map_07479447af9b412fa8478cf9dfe87972%29%3B%0A%20%20%20%20%20%20%20%20%20%20%20%20%0A%20%20%20%20%20%20%20%20%0A%3C/script%3E onload=\"this.contentDocument.open();this.contentDocument.write(    decodeURIComponent(this.getAttribute('data-html')));this.contentDocument.close();\" allowfullscreen webkitallowfullscreen mozallowfullscreen></iframe></div></div>"
            ],
            "text/plain": [
              "<folium.folium.Map at 0x7fb257cb9250>"
            ]
          },
          "metadata": {
            "tags": []
          }
        }
      ]
    },
    {
      "cell_type": "code",
      "metadata": {
        "id": "GabtTCRr832J"
      },
      "source": [
        "#Set the AOI (Area of Interest)\n",
        "aoi = ee.Geometry.Polygon([\n",
        "          [\n",
        "            [\n",
        "              112.62535572052002,\n",
        "              -7.988390117845741\n",
        "            ],\n",
        "            [\n",
        "              112.64822959899902,\n",
        "              -7.988390117845741\n",
        "            ],\n",
        "            [\n",
        "              112.64822959899902,\n",
        "              -7.968202639589894\n",
        "            ],\n",
        "            [\n",
        "              112.62535572052002,\n",
        "              -7.968202639589894\n",
        "            ],\n",
        "            [\n",
        "              112.62535572052002,\n",
        "              -7.988390117845741\n",
        "            ]\n",
        "          ]\n",
        "        ], None, False)\n",
        "\n",
        "#poi = ee.Geometry.Point([112.644105, -7.9514187])"
      ],
      "execution_count": null,
      "outputs": []
    },
    {
      "cell_type": "code",
      "metadata": {
        "id": "cMyLqUAO-Og5"
      },
      "source": [
        "#Reduce the raster\n",
        "def setProperty(image):\n",
        "    dict = image.reduceRegion(ee.Reducer.mean(), aoi)\n",
        "    return image.set(dict)"
      ],
      "execution_count": null,
      "outputs": []
    },
    {
      "cell_type": "code",
      "metadata": {
        "id": "iFLfVjIA_m3r"
      },
      "source": [
        "#Calculate the raster property\n",
        "withMean = taken.map(setProperty)"
      ],
      "execution_count": null,
      "outputs": []
    },
    {
      "cell_type": "code",
      "metadata": {
        "id": "V3N2Dw-v-jh2"
      },
      "source": [
        "#Convert temperature unit (Kelvin) to Celcius \n",
        "t_avg = withMean.aggregate_array('Tair_f_inst').getInfo()\n",
        "t_c = [x - 273 for x in t_avg]\n",
        "\n",
        "#print(t_c)"
      ],
      "execution_count": null,
      "outputs": []
    },
    {
      "cell_type": "code",
      "metadata": {
        "id": "5tAcbgWJDZkS"
      },
      "source": [
        "#Get the date\n",
        "from datetime import datetime as dt\n",
        "\n",
        "time = withMean.aggregate_array('system:time_start').getInfo()\n",
        "#Convert from miliseconds to true time (local time with 24-H format)\n",
        "date = [x // 1000 for x in time]\n",
        "captured = [dt.utcfromtimestamp(i).strftime('%X-%x') for i in date]\n",
        "\n",
        "#print(captured)"
      ],
      "execution_count": null,
      "outputs": []
    },
    {
      "cell_type": "code",
      "metadata": {
        "id": "fIjmVPWZdCqm"
      },
      "source": [
        "#Convert the data to numpy array\n",
        "import numpy as np\n",
        "\n",
        "#Temperature data to numpy array (optional)\n",
        "t_arr = np.asarray(t_c, dtype = np.float32)\n",
        "#Date to numpy array (optional)\n",
        "t_arRound = np.around(t_arr, decimals=1)\n",
        "date_arr = np.asarray(captured)"
      ],
      "execution_count": null,
      "outputs": []
    },
    {
      "cell_type": "code",
      "metadata": {
        "colab": {
          "base_uri": "https://localhost:8080/"
        },
        "id": "PtnKAGyOdM3j",
        "outputId": "5da5439b-3710-459b-99bd-4516f7962c8a"
      },
      "source": [
        "#Just look inside the array\n",
        "t_arRound"
      ],
      "execution_count": null,
      "outputs": [
        {
          "output_type": "execute_result",
          "data": {
            "text/plain": [
              "array([21.4, 24.6, 23.3, 21.3, 20.5, 20.3, 19.7, 19.6, 20.6, 23.2, 24.3,\n",
              "       20.7, 19.8, 19.6, 19. , 19. , 21.6, 25.8, 23.9, 22.1, 20.2, 20.1,\n",
              "       19.8, 19.6, 21.7, 24.8, 22.2, 21.5, 20.4, 20.1, 19.6, 19.2, 22.2,\n",
              "       27.5, 24.2, 20.9, 20. , 19.7, 19.4, 19.6, 21.8, 26.4, 24.2, 23.1,\n",
              "       20.5, 19.9, 19.5, 19.2, 21.9, 25.3, 22.5, 21. , 20.2, 20.2, 19.8,\n",
              "       19.9, 19.8, 21. , 22.9, 21.6, 20.4, 20. , 19.5, 19. , 21.2, 24.8,\n",
              "       23.2, 21. , 20.1, 19.6, 19.3, 19.1, 22.1, 25.4, 25.1, 22.9, 20.4,\n",
              "       20. , 19.6, 19.2, 21.9, 25.3, 25.5, 23.9, 21.1, 20.5, 20.1, 19.9,\n",
              "       23.1, 26. , 24.3, 21.7, 20.5, 20.2, 20. , 19.9, 21. , 24.2, 25. ,\n",
              "       23.1, 19.9, 19.7, 19.2, 19.3, 20.9, 24.5, 24. , 22.5, 19.9, 19.5,\n",
              "       19.3, 19.1, 20.5, 24.1, 23.1, 21.4, 19.6, 19.4, 19. , 18.7, 20.6,\n",
              "       24.4, 23.7, 21.1, 19.3, 19. , 18.8, 19.1, 20.2, 26.2, 24.1, 23. ,\n",
              "       20. , 20. , 19.8, 19.6, 20.7, 23.4, 24.9, 22.1, 20.1, 19.7, 18.7,\n",
              "       18.7, 20.4, 21.4, 22.5, 20.1, 19.1, 19.4, 19.4, 19.3, 20. , 23.1,\n",
              "       24.5, 22.2, 20.2, 19.2, 18.6, 18.6, 21.7, 26.6, 26.8, 24.1, 20.2,\n",
              "       19. , 18.5, 18.4, 21.2, 25.4, 24.5, 22.7, 19.9, 19.3, 19.1, 19. ,\n",
              "       21.6, 26.6, 24.8, 22.5, 19.9, 19. , 19.2, 18.6, 21.2, 26.3, 24.4,\n",
              "       22.9, 20. , 19.1, 18.8, 18.6, 21.2, 24.3, 22.1, 20.3, 19.1, 19.2,\n",
              "       18.8, 18.2, 21.4, 26.8, 25.7, 23.3, 19.6, 19.2, 19.1, 19.1, 20.1,\n",
              "       20.1, 22.4, 21.1, 19.7, 19.4, 19.3, 19.2, 21. , 25.5, 24.1, 22.2,\n",
              "       19.9, 19.5, 19.4, 19.6, 20. , 23.8, 22.5, 22.2, 20. , 19.9, 19. ,\n",
              "       18.8, 20.2, 21.3, 24.3, 20.9, 19.4, 19.2, 18.8, 18.1],\n",
              "      dtype=float32)"
            ]
          },
          "metadata": {
            "tags": []
          },
          "execution_count": 18
        }
      ]
    },
    {
      "cell_type": "code",
      "metadata": {
        "colab": {
          "base_uri": "https://localhost:8080/"
        },
        "id": "hx1FcGardYAz",
        "outputId": "48929795-93a5-44fe-953e-bd568b193c44"
      },
      "source": [
        "#Just look inside the array\n",
        "date_arr"
      ],
      "execution_count": null,
      "outputs": [
        {
          "output_type": "execute_result",
          "data": {
            "text/plain": [
              "array(['00:00:00-01/01/21', '03:00:00-01/01/21', '06:00:00-01/01/21',\n",
              "       '09:00:00-01/01/21', '12:00:00-01/01/21', '15:00:00-01/01/21',\n",
              "       '18:00:00-01/01/21', '21:00:00-01/01/21', '00:00:00-01/02/21',\n",
              "       '03:00:00-01/02/21', '06:00:00-01/02/21', '09:00:00-01/02/21',\n",
              "       '12:00:00-01/02/21', '15:00:00-01/02/21', '18:00:00-01/02/21',\n",
              "       '21:00:00-01/02/21', '00:00:00-01/03/21', '03:00:00-01/03/21',\n",
              "       '06:00:00-01/03/21', '09:00:00-01/03/21', '12:00:00-01/03/21',\n",
              "       '15:00:00-01/03/21', '18:00:00-01/03/21', '21:00:00-01/03/21',\n",
              "       '00:00:00-01/04/21', '03:00:00-01/04/21', '06:00:00-01/04/21',\n",
              "       '09:00:00-01/04/21', '12:00:00-01/04/21', '15:00:00-01/04/21',\n",
              "       '18:00:00-01/04/21', '21:00:00-01/04/21', '00:00:00-01/05/21',\n",
              "       '03:00:00-01/05/21', '06:00:00-01/05/21', '09:00:00-01/05/21',\n",
              "       '12:00:00-01/05/21', '15:00:00-01/05/21', '18:00:00-01/05/21',\n",
              "       '21:00:00-01/05/21', '00:00:00-01/06/21', '03:00:00-01/06/21',\n",
              "       '06:00:00-01/06/21', '09:00:00-01/06/21', '12:00:00-01/06/21',\n",
              "       '15:00:00-01/06/21', '18:00:00-01/06/21', '21:00:00-01/06/21',\n",
              "       '00:00:00-01/07/21', '03:00:00-01/07/21', '06:00:00-01/07/21',\n",
              "       '09:00:00-01/07/21', '12:00:00-01/07/21', '15:00:00-01/07/21',\n",
              "       '18:00:00-01/07/21', '21:00:00-01/07/21', '00:00:00-01/08/21',\n",
              "       '03:00:00-01/08/21', '06:00:00-01/08/21', '09:00:00-01/08/21',\n",
              "       '12:00:00-01/08/21', '15:00:00-01/08/21', '18:00:00-01/08/21',\n",
              "       '21:00:00-01/08/21', '00:00:00-01/09/21', '03:00:00-01/09/21',\n",
              "       '06:00:00-01/09/21', '09:00:00-01/09/21', '12:00:00-01/09/21',\n",
              "       '15:00:00-01/09/21', '18:00:00-01/09/21', '21:00:00-01/09/21',\n",
              "       '00:00:00-01/10/21', '03:00:00-01/10/21', '06:00:00-01/10/21',\n",
              "       '09:00:00-01/10/21', '12:00:00-01/10/21', '15:00:00-01/10/21',\n",
              "       '18:00:00-01/10/21', '21:00:00-01/10/21', '00:00:00-01/11/21',\n",
              "       '03:00:00-01/11/21', '06:00:00-01/11/21', '09:00:00-01/11/21',\n",
              "       '12:00:00-01/11/21', '15:00:00-01/11/21', '18:00:00-01/11/21',\n",
              "       '21:00:00-01/11/21', '00:00:00-01/12/21', '03:00:00-01/12/21',\n",
              "       '06:00:00-01/12/21', '09:00:00-01/12/21', '12:00:00-01/12/21',\n",
              "       '15:00:00-01/12/21', '18:00:00-01/12/21', '21:00:00-01/12/21',\n",
              "       '00:00:00-01/13/21', '03:00:00-01/13/21', '06:00:00-01/13/21',\n",
              "       '09:00:00-01/13/21', '12:00:00-01/13/21', '15:00:00-01/13/21',\n",
              "       '18:00:00-01/13/21', '21:00:00-01/13/21', '00:00:00-01/14/21',\n",
              "       '03:00:00-01/14/21', '06:00:00-01/14/21', '09:00:00-01/14/21',\n",
              "       '12:00:00-01/14/21', '15:00:00-01/14/21', '18:00:00-01/14/21',\n",
              "       '21:00:00-01/14/21', '00:00:00-01/15/21', '03:00:00-01/15/21',\n",
              "       '06:00:00-01/15/21', '09:00:00-01/15/21', '12:00:00-01/15/21',\n",
              "       '15:00:00-01/15/21', '18:00:00-01/15/21', '21:00:00-01/15/21',\n",
              "       '00:00:00-01/16/21', '03:00:00-01/16/21', '06:00:00-01/16/21',\n",
              "       '09:00:00-01/16/21', '12:00:00-01/16/21', '15:00:00-01/16/21',\n",
              "       '18:00:00-01/16/21', '21:00:00-01/16/21', '00:00:00-01/17/21',\n",
              "       '03:00:00-01/17/21', '06:00:00-01/17/21', '09:00:00-01/17/21',\n",
              "       '12:00:00-01/17/21', '15:00:00-01/17/21', '18:00:00-01/17/21',\n",
              "       '21:00:00-01/17/21', '00:00:00-01/18/21', '03:00:00-01/18/21',\n",
              "       '06:00:00-01/18/21', '09:00:00-01/18/21', '12:00:00-01/18/21',\n",
              "       '15:00:00-01/18/21', '18:00:00-01/18/21', '21:00:00-01/18/21',\n",
              "       '00:00:00-01/19/21', '03:00:00-01/19/21', '06:00:00-01/19/21',\n",
              "       '09:00:00-01/19/21', '12:00:00-01/19/21', '15:00:00-01/19/21',\n",
              "       '18:00:00-01/19/21', '21:00:00-01/19/21', '00:00:00-01/20/21',\n",
              "       '03:00:00-01/20/21', '06:00:00-01/20/21', '09:00:00-01/20/21',\n",
              "       '12:00:00-01/20/21', '15:00:00-01/20/21', '18:00:00-01/20/21',\n",
              "       '21:00:00-01/20/21', '00:00:00-01/21/21', '03:00:00-01/21/21',\n",
              "       '06:00:00-01/21/21', '09:00:00-01/21/21', '12:00:00-01/21/21',\n",
              "       '15:00:00-01/21/21', '18:00:00-01/21/21', '21:00:00-01/21/21',\n",
              "       '00:00:00-01/22/21', '03:00:00-01/22/21', '06:00:00-01/22/21',\n",
              "       '09:00:00-01/22/21', '12:00:00-01/22/21', '15:00:00-01/22/21',\n",
              "       '18:00:00-01/22/21', '21:00:00-01/22/21', '00:00:00-01/23/21',\n",
              "       '03:00:00-01/23/21', '06:00:00-01/23/21', '09:00:00-01/23/21',\n",
              "       '12:00:00-01/23/21', '15:00:00-01/23/21', '18:00:00-01/23/21',\n",
              "       '21:00:00-01/23/21', '00:00:00-01/24/21', '03:00:00-01/24/21',\n",
              "       '06:00:00-01/24/21', '09:00:00-01/24/21', '12:00:00-01/24/21',\n",
              "       '15:00:00-01/24/21', '18:00:00-01/24/21', '21:00:00-01/24/21',\n",
              "       '00:00:00-01/25/21', '03:00:00-01/25/21', '06:00:00-01/25/21',\n",
              "       '09:00:00-01/25/21', '12:00:00-01/25/21', '15:00:00-01/25/21',\n",
              "       '18:00:00-01/25/21', '21:00:00-01/25/21', '00:00:00-01/26/21',\n",
              "       '03:00:00-01/26/21', '06:00:00-01/26/21', '09:00:00-01/26/21',\n",
              "       '12:00:00-01/26/21', '15:00:00-01/26/21', '18:00:00-01/26/21',\n",
              "       '21:00:00-01/26/21', '00:00:00-01/27/21', '03:00:00-01/27/21',\n",
              "       '06:00:00-01/27/21', '09:00:00-01/27/21', '12:00:00-01/27/21',\n",
              "       '15:00:00-01/27/21', '18:00:00-01/27/21', '21:00:00-01/27/21',\n",
              "       '00:00:00-01/28/21', '03:00:00-01/28/21', '06:00:00-01/28/21',\n",
              "       '09:00:00-01/28/21', '12:00:00-01/28/21', '15:00:00-01/28/21',\n",
              "       '18:00:00-01/28/21', '21:00:00-01/28/21', '00:00:00-01/29/21',\n",
              "       '03:00:00-01/29/21', '06:00:00-01/29/21', '09:00:00-01/29/21',\n",
              "       '12:00:00-01/29/21', '15:00:00-01/29/21', '18:00:00-01/29/21',\n",
              "       '21:00:00-01/29/21', '00:00:00-01/30/21', '03:00:00-01/30/21',\n",
              "       '06:00:00-01/30/21', '09:00:00-01/30/21', '12:00:00-01/30/21',\n",
              "       '15:00:00-01/30/21', '18:00:00-01/30/21', '21:00:00-01/30/21'],\n",
              "      dtype='<U17')"
            ]
          },
          "metadata": {
            "tags": []
          },
          "execution_count": 19
        }
      ]
    },
    {
      "cell_type": "code",
      "metadata": {
        "colab": {
          "base_uri": "https://localhost:8080/",
          "height": 542
        },
        "id": "M3cPPuK4aCmp",
        "outputId": "9e7a4874-a036-4391-f9fc-c0dc7e01bf70"
      },
      "source": [
        "#Visualize The Data\n",
        "import pandas as pd\n",
        "\n",
        "#Convert from numpy array to Pandas Series\n",
        "dates = pd.Series(date_arr)\n",
        "temperature = pd.Series(t_arRound)\n",
        "#Concatnate the columns of Date and Temperature\n",
        "df = pd.concat([dates, temperature], axis=1)\n",
        "df.columns = ['dates', 'temperature']\n",
        "\n",
        "#Visualize the data with Plotly\n",
        "import plotly.express as px\n",
        "\n",
        "#Define x and y values\n",
        "fig = px.line(df, x='dates', y='temperature', \n",
        "              title='Air Temperature on Malang City - GLDAS-2.1 (NASA)')\n",
        "#Show the figure\n",
        "fig.show()"
      ],
      "execution_count": null,
      "outputs": [
        {
          "output_type": "display_data",
          "data": {
            "text/html": [
              "<html>\n",
              "<head><meta charset=\"utf-8\" /></head>\n",
              "<body>\n",
              "    <div>\n",
              "            <script src=\"https://cdnjs.cloudflare.com/ajax/libs/mathjax/2.7.5/MathJax.js?config=TeX-AMS-MML_SVG\"></script><script type=\"text/javascript\">if (window.MathJax) {MathJax.Hub.Config({SVG: {font: \"STIX-Web\"}});}</script>\n",
              "                <script type=\"text/javascript\">window.PlotlyConfig = {MathJaxConfig: 'local'};</script>\n",
              "        <script src=\"https://cdn.plot.ly/plotly-latest.min.js\"></script>    \n",
              "            <div id=\"027534cf-50e7-4e6f-925e-d244226aa38c\" class=\"plotly-graph-div\" style=\"height:525px; width:100%;\"></div>\n",
              "            <script type=\"text/javascript\">\n",
              "                \n",
              "                    window.PLOTLYENV=window.PLOTLYENV || {};\n",
              "                    \n",
              "                if (document.getElementById(\"027534cf-50e7-4e6f-925e-d244226aa38c\")) {\n",
              "                    Plotly.newPlot(\n",
              "                        '027534cf-50e7-4e6f-925e-d244226aa38c',\n",
              "                        [{\"hoverlabel\": {\"namelength\": 0}, \"hovertemplate\": \"dates=%{x}<br>temperature=%{y}\", \"legendgroup\": \"\", \"line\": {\"color\": \"#636efa\", \"dash\": \"solid\"}, \"mode\": \"lines\", \"name\": \"\", \"showlegend\": false, \"type\": \"scatter\", \"x\": [\"00:00:00-01/01/21\", \"03:00:00-01/01/21\", \"06:00:00-01/01/21\", \"09:00:00-01/01/21\", \"12:00:00-01/01/21\", \"15:00:00-01/01/21\", \"18:00:00-01/01/21\", \"21:00:00-01/01/21\", \"00:00:00-01/02/21\", \"03:00:00-01/02/21\", \"06:00:00-01/02/21\", \"09:00:00-01/02/21\", \"12:00:00-01/02/21\", \"15:00:00-01/02/21\", \"18:00:00-01/02/21\", \"21:00:00-01/02/21\", \"00:00:00-01/03/21\", \"03:00:00-01/03/21\", \"06:00:00-01/03/21\", \"09:00:00-01/03/21\", \"12:00:00-01/03/21\", \"15:00:00-01/03/21\", \"18:00:00-01/03/21\", \"21:00:00-01/03/21\", \"00:00:00-01/04/21\", \"03:00:00-01/04/21\", \"06:00:00-01/04/21\", \"09:00:00-01/04/21\", \"12:00:00-01/04/21\", \"15:00:00-01/04/21\", \"18:00:00-01/04/21\", \"21:00:00-01/04/21\", \"00:00:00-01/05/21\", \"03:00:00-01/05/21\", \"06:00:00-01/05/21\", \"09:00:00-01/05/21\", \"12:00:00-01/05/21\", \"15:00:00-01/05/21\", \"18:00:00-01/05/21\", \"21:00:00-01/05/21\", \"00:00:00-01/06/21\", \"03:00:00-01/06/21\", \"06:00:00-01/06/21\", \"09:00:00-01/06/21\", \"12:00:00-01/06/21\", \"15:00:00-01/06/21\", \"18:00:00-01/06/21\", \"21:00:00-01/06/21\", \"00:00:00-01/07/21\", \"03:00:00-01/07/21\", \"06:00:00-01/07/21\", \"09:00:00-01/07/21\", \"12:00:00-01/07/21\", \"15:00:00-01/07/21\", \"18:00:00-01/07/21\", \"21:00:00-01/07/21\", \"00:00:00-01/08/21\", \"03:00:00-01/08/21\", \"06:00:00-01/08/21\", \"09:00:00-01/08/21\", \"12:00:00-01/08/21\", \"15:00:00-01/08/21\", \"18:00:00-01/08/21\", \"21:00:00-01/08/21\", \"00:00:00-01/09/21\", \"03:00:00-01/09/21\", \"06:00:00-01/09/21\", \"09:00:00-01/09/21\", \"12:00:00-01/09/21\", \"15:00:00-01/09/21\", \"18:00:00-01/09/21\", \"21:00:00-01/09/21\", \"00:00:00-01/10/21\", \"03:00:00-01/10/21\", \"06:00:00-01/10/21\", \"09:00:00-01/10/21\", \"12:00:00-01/10/21\", \"15:00:00-01/10/21\", \"18:00:00-01/10/21\", \"21:00:00-01/10/21\", \"00:00:00-01/11/21\", \"03:00:00-01/11/21\", \"06:00:00-01/11/21\", \"09:00:00-01/11/21\", \"12:00:00-01/11/21\", \"15:00:00-01/11/21\", \"18:00:00-01/11/21\", \"21:00:00-01/11/21\", \"00:00:00-01/12/21\", \"03:00:00-01/12/21\", \"06:00:00-01/12/21\", \"09:00:00-01/12/21\", \"12:00:00-01/12/21\", \"15:00:00-01/12/21\", \"18:00:00-01/12/21\", \"21:00:00-01/12/21\", \"00:00:00-01/13/21\", \"03:00:00-01/13/21\", \"06:00:00-01/13/21\", \"09:00:00-01/13/21\", \"12:00:00-01/13/21\", \"15:00:00-01/13/21\", \"18:00:00-01/13/21\", \"21:00:00-01/13/21\", \"00:00:00-01/14/21\", \"03:00:00-01/14/21\", \"06:00:00-01/14/21\", \"09:00:00-01/14/21\", \"12:00:00-01/14/21\", \"15:00:00-01/14/21\", \"18:00:00-01/14/21\", \"21:00:00-01/14/21\", \"00:00:00-01/15/21\", \"03:00:00-01/15/21\", \"06:00:00-01/15/21\", \"09:00:00-01/15/21\", \"12:00:00-01/15/21\", \"15:00:00-01/15/21\", \"18:00:00-01/15/21\", \"21:00:00-01/15/21\", \"00:00:00-01/16/21\", \"03:00:00-01/16/21\", \"06:00:00-01/16/21\", \"09:00:00-01/16/21\", \"12:00:00-01/16/21\", \"15:00:00-01/16/21\", \"18:00:00-01/16/21\", \"21:00:00-01/16/21\", \"00:00:00-01/17/21\", \"03:00:00-01/17/21\", \"06:00:00-01/17/21\", \"09:00:00-01/17/21\", \"12:00:00-01/17/21\", \"15:00:00-01/17/21\", \"18:00:00-01/17/21\", \"21:00:00-01/17/21\", \"00:00:00-01/18/21\", \"03:00:00-01/18/21\", \"06:00:00-01/18/21\", \"09:00:00-01/18/21\", \"12:00:00-01/18/21\", \"15:00:00-01/18/21\", \"18:00:00-01/18/21\", \"21:00:00-01/18/21\", \"00:00:00-01/19/21\", \"03:00:00-01/19/21\", \"06:00:00-01/19/21\", \"09:00:00-01/19/21\", \"12:00:00-01/19/21\", \"15:00:00-01/19/21\", \"18:00:00-01/19/21\", \"21:00:00-01/19/21\", \"00:00:00-01/20/21\", \"03:00:00-01/20/21\", \"06:00:00-01/20/21\", \"09:00:00-01/20/21\", \"12:00:00-01/20/21\", \"15:00:00-01/20/21\", \"18:00:00-01/20/21\", \"21:00:00-01/20/21\", \"00:00:00-01/21/21\", \"03:00:00-01/21/21\", \"06:00:00-01/21/21\", \"09:00:00-01/21/21\", \"12:00:00-01/21/21\", \"15:00:00-01/21/21\", \"18:00:00-01/21/21\", \"21:00:00-01/21/21\", \"00:00:00-01/22/21\", \"03:00:00-01/22/21\", \"06:00:00-01/22/21\", \"09:00:00-01/22/21\", \"12:00:00-01/22/21\", \"15:00:00-01/22/21\", \"18:00:00-01/22/21\", \"21:00:00-01/22/21\", \"00:00:00-01/23/21\", \"03:00:00-01/23/21\", \"06:00:00-01/23/21\", \"09:00:00-01/23/21\", \"12:00:00-01/23/21\", \"15:00:00-01/23/21\", \"18:00:00-01/23/21\", \"21:00:00-01/23/21\", \"00:00:00-01/24/21\", \"03:00:00-01/24/21\", \"06:00:00-01/24/21\", \"09:00:00-01/24/21\", \"12:00:00-01/24/21\", \"15:00:00-01/24/21\", \"18:00:00-01/24/21\", \"21:00:00-01/24/21\", \"00:00:00-01/25/21\", \"03:00:00-01/25/21\", \"06:00:00-01/25/21\", \"09:00:00-01/25/21\", \"12:00:00-01/25/21\", \"15:00:00-01/25/21\", \"18:00:00-01/25/21\", \"21:00:00-01/25/21\", \"00:00:00-01/26/21\", \"03:00:00-01/26/21\", \"06:00:00-01/26/21\", \"09:00:00-01/26/21\", \"12:00:00-01/26/21\", \"15:00:00-01/26/21\", \"18:00:00-01/26/21\", \"21:00:00-01/26/21\", \"00:00:00-01/27/21\", \"03:00:00-01/27/21\", \"06:00:00-01/27/21\", \"09:00:00-01/27/21\", \"12:00:00-01/27/21\", \"15:00:00-01/27/21\", \"18:00:00-01/27/21\", \"21:00:00-01/27/21\", \"00:00:00-01/28/21\", \"03:00:00-01/28/21\", \"06:00:00-01/28/21\", \"09:00:00-01/28/21\", \"12:00:00-01/28/21\", \"15:00:00-01/28/21\", \"18:00:00-01/28/21\", \"21:00:00-01/28/21\", \"00:00:00-01/29/21\", \"03:00:00-01/29/21\", \"06:00:00-01/29/21\", \"09:00:00-01/29/21\", \"12:00:00-01/29/21\", \"15:00:00-01/29/21\", \"18:00:00-01/29/21\", \"21:00:00-01/29/21\", \"00:00:00-01/30/21\", \"03:00:00-01/30/21\", \"06:00:00-01/30/21\", \"09:00:00-01/30/21\", \"12:00:00-01/30/21\", \"15:00:00-01/30/21\", \"18:00:00-01/30/21\", \"21:00:00-01/30/21\"], \"xaxis\": \"x\", \"y\": [21.399999618530273, 24.600000381469727, 23.299999237060547, 21.299999237060547, 20.5, 20.299999237060547, 19.700000762939453, 19.600000381469727, 20.600000381469727, 23.200000762939453, 24.299999237060547, 20.700000762939453, 19.799999237060547, 19.600000381469727, 19.0, 19.0, 21.600000381469727, 25.799999237060547, 23.899999618530273, 22.100000381469727, 20.200000762939453, 20.100000381469727, 19.799999237060547, 19.600000381469727, 21.700000762939453, 24.799999237060547, 22.200000762939453, 21.5, 20.399999618530273, 20.100000381469727, 19.600000381469727, 19.200000762939453, 22.200000762939453, 27.5, 24.200000762939453, 20.899999618530273, 20.0, 19.700000762939453, 19.399999618530273, 19.600000381469727, 21.799999237060547, 26.399999618530273, 24.200000762939453, 23.100000381469727, 20.5, 19.899999618530273, 19.5, 19.200000762939453, 21.899999618530273, 25.299999237060547, 22.5, 21.0, 20.200000762939453, 20.200000762939453, 19.799999237060547, 19.899999618530273, 19.799999237060547, 21.0, 22.899999618530273, 21.600000381469727, 20.399999618530273, 20.0, 19.5, 19.0, 21.200000762939453, 24.799999237060547, 23.200000762939453, 21.0, 20.100000381469727, 19.600000381469727, 19.299999237060547, 19.100000381469727, 22.100000381469727, 25.399999618530273, 25.100000381469727, 22.899999618530273, 20.399999618530273, 20.0, 19.600000381469727, 19.200000762939453, 21.899999618530273, 25.299999237060547, 25.5, 23.899999618530273, 21.100000381469727, 20.5, 20.100000381469727, 19.899999618530273, 23.100000381469727, 26.0, 24.299999237060547, 21.700000762939453, 20.5, 20.200000762939453, 20.0, 19.899999618530273, 21.0, 24.200000762939453, 25.0, 23.100000381469727, 19.899999618530273, 19.700000762939453, 19.200000762939453, 19.299999237060547, 20.899999618530273, 24.5, 24.0, 22.5, 19.899999618530273, 19.5, 19.299999237060547, 19.100000381469727, 20.5, 24.100000381469727, 23.100000381469727, 21.399999618530273, 19.600000381469727, 19.399999618530273, 19.0, 18.700000762939453, 20.600000381469727, 24.399999618530273, 23.700000762939453, 21.100000381469727, 19.299999237060547, 19.0, 18.799999237060547, 19.100000381469727, 20.200000762939453, 26.200000762939453, 24.100000381469727, 23.0, 20.0, 20.0, 19.799999237060547, 19.600000381469727, 20.700000762939453, 23.399999618530273, 24.899999618530273, 22.100000381469727, 20.100000381469727, 19.700000762939453, 18.700000762939453, 18.700000762939453, 20.399999618530273, 21.399999618530273, 22.5, 20.100000381469727, 19.100000381469727, 19.399999618530273, 19.399999618530273, 19.299999237060547, 20.0, 23.100000381469727, 24.5, 22.200000762939453, 20.200000762939453, 19.200000762939453, 18.600000381469727, 18.600000381469727, 21.700000762939453, 26.600000381469727, 26.799999237060547, 24.100000381469727, 20.200000762939453, 19.0, 18.5, 18.399999618530273, 21.200000762939453, 25.399999618530273, 24.5, 22.700000762939453, 19.899999618530273, 19.299999237060547, 19.100000381469727, 19.0, 21.600000381469727, 26.600000381469727, 24.799999237060547, 22.5, 19.899999618530273, 19.0, 19.200000762939453, 18.600000381469727, 21.200000762939453, 26.299999237060547, 24.399999618530273, 22.899999618530273, 20.0, 19.100000381469727, 18.799999237060547, 18.600000381469727, 21.200000762939453, 24.299999237060547, 22.100000381469727, 20.299999237060547, 19.100000381469727, 19.200000762939453, 18.799999237060547, 18.200000762939453, 21.399999618530273, 26.799999237060547, 25.700000762939453, 23.299999237060547, 19.600000381469727, 19.200000762939453, 19.100000381469727, 19.100000381469727, 20.100000381469727, 20.100000381469727, 22.399999618530273, 21.100000381469727, 19.700000762939453, 19.399999618530273, 19.299999237060547, 19.200000762939453, 21.0, 25.5, 24.100000381469727, 22.200000762939453, 19.899999618530273, 19.5, 19.399999618530273, 19.600000381469727, 20.0, 23.799999237060547, 22.5, 22.200000762939453, 20.0, 19.899999618530273, 19.0, 18.799999237060547, 20.200000762939453, 21.299999237060547, 24.299999237060547, 20.899999618530273, 19.399999618530273, 19.200000762939453, 18.799999237060547, 18.100000381469727], \"yaxis\": \"y\"}],\n",
              "                        {\"legend\": {\"tracegroupgap\": 0}, \"template\": {\"data\": {\"bar\": [{\"error_x\": {\"color\": \"#2a3f5f\"}, \"error_y\": {\"color\": \"#2a3f5f\"}, \"marker\": {\"line\": {\"color\": \"#E5ECF6\", \"width\": 0.5}}, \"type\": \"bar\"}], \"barpolar\": [{\"marker\": {\"line\": {\"color\": \"#E5ECF6\", \"width\": 0.5}}, \"type\": \"barpolar\"}], \"carpet\": [{\"aaxis\": {\"endlinecolor\": \"#2a3f5f\", \"gridcolor\": \"white\", \"linecolor\": \"white\", \"minorgridcolor\": \"white\", \"startlinecolor\": \"#2a3f5f\"}, \"baxis\": {\"endlinecolor\": \"#2a3f5f\", \"gridcolor\": \"white\", \"linecolor\": \"white\", \"minorgridcolor\": \"white\", \"startlinecolor\": \"#2a3f5f\"}, \"type\": \"carpet\"}], \"choropleth\": [{\"colorbar\": {\"outlinewidth\": 0, \"ticks\": \"\"}, \"type\": \"choropleth\"}], \"contour\": [{\"colorbar\": {\"outlinewidth\": 0, \"ticks\": \"\"}, \"colorscale\": [[0.0, \"#0d0887\"], [0.1111111111111111, \"#46039f\"], [0.2222222222222222, \"#7201a8\"], [0.3333333333333333, \"#9c179e\"], [0.4444444444444444, \"#bd3786\"], [0.5555555555555556, \"#d8576b\"], [0.6666666666666666, \"#ed7953\"], [0.7777777777777778, \"#fb9f3a\"], [0.8888888888888888, \"#fdca26\"], [1.0, \"#f0f921\"]], \"type\": \"contour\"}], \"contourcarpet\": [{\"colorbar\": {\"outlinewidth\": 0, \"ticks\": \"\"}, \"type\": \"contourcarpet\"}], \"heatmap\": [{\"colorbar\": {\"outlinewidth\": 0, \"ticks\": \"\"}, \"colorscale\": [[0.0, \"#0d0887\"], [0.1111111111111111, \"#46039f\"], [0.2222222222222222, \"#7201a8\"], [0.3333333333333333, \"#9c179e\"], [0.4444444444444444, \"#bd3786\"], [0.5555555555555556, \"#d8576b\"], [0.6666666666666666, \"#ed7953\"], [0.7777777777777778, \"#fb9f3a\"], [0.8888888888888888, \"#fdca26\"], [1.0, \"#f0f921\"]], \"type\": \"heatmap\"}], \"heatmapgl\": [{\"colorbar\": {\"outlinewidth\": 0, \"ticks\": \"\"}, \"colorscale\": [[0.0, \"#0d0887\"], [0.1111111111111111, \"#46039f\"], [0.2222222222222222, \"#7201a8\"], [0.3333333333333333, \"#9c179e\"], [0.4444444444444444, \"#bd3786\"], [0.5555555555555556, \"#d8576b\"], [0.6666666666666666, \"#ed7953\"], [0.7777777777777778, \"#fb9f3a\"], [0.8888888888888888, \"#fdca26\"], [1.0, \"#f0f921\"]], \"type\": \"heatmapgl\"}], \"histogram\": [{\"marker\": {\"colorbar\": {\"outlinewidth\": 0, \"ticks\": \"\"}}, \"type\": \"histogram\"}], \"histogram2d\": [{\"colorbar\": {\"outlinewidth\": 0, \"ticks\": \"\"}, \"colorscale\": [[0.0, \"#0d0887\"], [0.1111111111111111, \"#46039f\"], [0.2222222222222222, \"#7201a8\"], [0.3333333333333333, \"#9c179e\"], [0.4444444444444444, \"#bd3786\"], [0.5555555555555556, \"#d8576b\"], [0.6666666666666666, \"#ed7953\"], [0.7777777777777778, \"#fb9f3a\"], [0.8888888888888888, \"#fdca26\"], [1.0, \"#f0f921\"]], \"type\": \"histogram2d\"}], \"histogram2dcontour\": [{\"colorbar\": {\"outlinewidth\": 0, \"ticks\": \"\"}, \"colorscale\": [[0.0, \"#0d0887\"], [0.1111111111111111, \"#46039f\"], [0.2222222222222222, \"#7201a8\"], [0.3333333333333333, \"#9c179e\"], [0.4444444444444444, \"#bd3786\"], [0.5555555555555556, \"#d8576b\"], [0.6666666666666666, \"#ed7953\"], [0.7777777777777778, \"#fb9f3a\"], [0.8888888888888888, \"#fdca26\"], [1.0, \"#f0f921\"]], \"type\": \"histogram2dcontour\"}], \"mesh3d\": [{\"colorbar\": {\"outlinewidth\": 0, \"ticks\": \"\"}, \"type\": \"mesh3d\"}], \"parcoords\": [{\"line\": {\"colorbar\": {\"outlinewidth\": 0, \"ticks\": \"\"}}, \"type\": \"parcoords\"}], \"pie\": [{\"automargin\": true, \"type\": \"pie\"}], \"scatter\": [{\"marker\": {\"colorbar\": {\"outlinewidth\": 0, \"ticks\": \"\"}}, \"type\": \"scatter\"}], \"scatter3d\": [{\"line\": {\"colorbar\": {\"outlinewidth\": 0, \"ticks\": \"\"}}, \"marker\": {\"colorbar\": {\"outlinewidth\": 0, \"ticks\": \"\"}}, \"type\": \"scatter3d\"}], \"scattercarpet\": [{\"marker\": {\"colorbar\": {\"outlinewidth\": 0, \"ticks\": \"\"}}, \"type\": \"scattercarpet\"}], \"scattergeo\": [{\"marker\": {\"colorbar\": {\"outlinewidth\": 0, \"ticks\": \"\"}}, \"type\": \"scattergeo\"}], \"scattergl\": [{\"marker\": {\"colorbar\": {\"outlinewidth\": 0, \"ticks\": \"\"}}, \"type\": \"scattergl\"}], \"scattermapbox\": [{\"marker\": {\"colorbar\": {\"outlinewidth\": 0, \"ticks\": \"\"}}, \"type\": \"scattermapbox\"}], \"scatterpolar\": [{\"marker\": {\"colorbar\": {\"outlinewidth\": 0, \"ticks\": \"\"}}, \"type\": \"scatterpolar\"}], \"scatterpolargl\": [{\"marker\": {\"colorbar\": {\"outlinewidth\": 0, \"ticks\": \"\"}}, \"type\": \"scatterpolargl\"}], \"scatterternary\": [{\"marker\": {\"colorbar\": {\"outlinewidth\": 0, \"ticks\": \"\"}}, \"type\": \"scatterternary\"}], \"surface\": [{\"colorbar\": {\"outlinewidth\": 0, \"ticks\": \"\"}, \"colorscale\": [[0.0, \"#0d0887\"], [0.1111111111111111, \"#46039f\"], [0.2222222222222222, \"#7201a8\"], [0.3333333333333333, \"#9c179e\"], [0.4444444444444444, \"#bd3786\"], [0.5555555555555556, \"#d8576b\"], [0.6666666666666666, \"#ed7953\"], [0.7777777777777778, \"#fb9f3a\"], [0.8888888888888888, \"#fdca26\"], [1.0, \"#f0f921\"]], \"type\": \"surface\"}], \"table\": [{\"cells\": {\"fill\": {\"color\": \"#EBF0F8\"}, \"line\": {\"color\": \"white\"}}, \"header\": {\"fill\": {\"color\": \"#C8D4E3\"}, \"line\": {\"color\": \"white\"}}, \"type\": \"table\"}]}, \"layout\": {\"annotationdefaults\": {\"arrowcolor\": \"#2a3f5f\", \"arrowhead\": 0, \"arrowwidth\": 1}, \"coloraxis\": {\"colorbar\": {\"outlinewidth\": 0, \"ticks\": \"\"}}, \"colorscale\": {\"diverging\": [[0, \"#8e0152\"], [0.1, \"#c51b7d\"], [0.2, \"#de77ae\"], [0.3, \"#f1b6da\"], [0.4, \"#fde0ef\"], [0.5, \"#f7f7f7\"], [0.6, \"#e6f5d0\"], [0.7, \"#b8e186\"], [0.8, \"#7fbc41\"], [0.9, \"#4d9221\"], [1, \"#276419\"]], \"sequential\": [[0.0, \"#0d0887\"], [0.1111111111111111, \"#46039f\"], [0.2222222222222222, \"#7201a8\"], [0.3333333333333333, \"#9c179e\"], [0.4444444444444444, \"#bd3786\"], [0.5555555555555556, \"#d8576b\"], [0.6666666666666666, \"#ed7953\"], [0.7777777777777778, \"#fb9f3a\"], [0.8888888888888888, \"#fdca26\"], [1.0, \"#f0f921\"]], \"sequentialminus\": [[0.0, \"#0d0887\"], [0.1111111111111111, \"#46039f\"], [0.2222222222222222, \"#7201a8\"], [0.3333333333333333, \"#9c179e\"], [0.4444444444444444, \"#bd3786\"], [0.5555555555555556, \"#d8576b\"], [0.6666666666666666, \"#ed7953\"], [0.7777777777777778, \"#fb9f3a\"], [0.8888888888888888, \"#fdca26\"], [1.0, \"#f0f921\"]]}, \"colorway\": [\"#636efa\", \"#EF553B\", \"#00cc96\", \"#ab63fa\", \"#FFA15A\", \"#19d3f3\", \"#FF6692\", \"#B6E880\", \"#FF97FF\", \"#FECB52\"], \"font\": {\"color\": \"#2a3f5f\"}, \"geo\": {\"bgcolor\": \"white\", \"lakecolor\": \"white\", \"landcolor\": \"#E5ECF6\", \"showlakes\": true, \"showland\": true, \"subunitcolor\": \"white\"}, \"hoverlabel\": {\"align\": \"left\"}, \"hovermode\": \"closest\", \"mapbox\": {\"style\": \"light\"}, \"paper_bgcolor\": \"white\", \"plot_bgcolor\": \"#E5ECF6\", \"polar\": {\"angularaxis\": {\"gridcolor\": \"white\", \"linecolor\": \"white\", \"ticks\": \"\"}, \"bgcolor\": \"#E5ECF6\", \"radialaxis\": {\"gridcolor\": \"white\", \"linecolor\": \"white\", \"ticks\": \"\"}}, \"scene\": {\"xaxis\": {\"backgroundcolor\": \"#E5ECF6\", \"gridcolor\": \"white\", \"gridwidth\": 2, \"linecolor\": \"white\", \"showbackground\": true, \"ticks\": \"\", \"zerolinecolor\": \"white\"}, \"yaxis\": {\"backgroundcolor\": \"#E5ECF6\", \"gridcolor\": \"white\", \"gridwidth\": 2, \"linecolor\": \"white\", \"showbackground\": true, \"ticks\": \"\", \"zerolinecolor\": \"white\"}, \"zaxis\": {\"backgroundcolor\": \"#E5ECF6\", \"gridcolor\": \"white\", \"gridwidth\": 2, \"linecolor\": \"white\", \"showbackground\": true, \"ticks\": \"\", \"zerolinecolor\": \"white\"}}, \"shapedefaults\": {\"line\": {\"color\": \"#2a3f5f\"}}, \"ternary\": {\"aaxis\": {\"gridcolor\": \"white\", \"linecolor\": \"white\", \"ticks\": \"\"}, \"baxis\": {\"gridcolor\": \"white\", \"linecolor\": \"white\", \"ticks\": \"\"}, \"bgcolor\": \"#E5ECF6\", \"caxis\": {\"gridcolor\": \"white\", \"linecolor\": \"white\", \"ticks\": \"\"}}, \"title\": {\"x\": 0.05}, \"xaxis\": {\"automargin\": true, \"gridcolor\": \"white\", \"linecolor\": \"white\", \"ticks\": \"\", \"title\": {\"standoff\": 15}, \"zerolinecolor\": \"white\", \"zerolinewidth\": 2}, \"yaxis\": {\"automargin\": true, \"gridcolor\": \"white\", \"linecolor\": \"white\", \"ticks\": \"\", \"title\": {\"standoff\": 15}, \"zerolinecolor\": \"white\", \"zerolinewidth\": 2}}}, \"title\": {\"text\": \"Air Temperature on Malang City - GLDAS-2.1 (NASA)\"}, \"xaxis\": {\"anchor\": \"y\", \"domain\": [0.0, 1.0], \"title\": {\"text\": \"dates\"}}, \"yaxis\": {\"anchor\": \"x\", \"domain\": [0.0, 1.0], \"title\": {\"text\": \"temperature\"}}},\n",
              "                        {\"responsive\": true}\n",
              "                    ).then(function(){\n",
              "                            \n",
              "var gd = document.getElementById('027534cf-50e7-4e6f-925e-d244226aa38c');\n",
              "var x = new MutationObserver(function (mutations, observer) {{\n",
              "        var display = window.getComputedStyle(gd).display;\n",
              "        if (!display || display === 'none') {{\n",
              "            console.log([gd, 'removed!']);\n",
              "            Plotly.purge(gd);\n",
              "            observer.disconnect();\n",
              "        }}\n",
              "}});\n",
              "\n",
              "// Listen for the removal of the full notebook cells\n",
              "var notebookContainer = gd.closest('#notebook-container');\n",
              "if (notebookContainer) {{\n",
              "    x.observe(notebookContainer, {childList: true});\n",
              "}}\n",
              "\n",
              "// Listen for the clearing of the current output cell\n",
              "var outputEl = gd.closest('.output');\n",
              "if (outputEl) {{\n",
              "    x.observe(outputEl, {childList: true});\n",
              "}}\n",
              "\n",
              "                        })\n",
              "                };\n",
              "                \n",
              "            </script>\n",
              "        </div>\n",
              "</body>\n",
              "</html>"
            ]
          },
          "metadata": {
            "tags": []
          }
        }
      ]
    }
  ]
}