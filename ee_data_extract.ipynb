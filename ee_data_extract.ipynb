{
  "nbformat": 4,
  "nbformat_minor": 0,
  "metadata": {
    "colab": {
      "name": "ee-data_extract.ipynb",
      "provenance": [],
      "collapsed_sections": [],
      "authorship_tag": "ABX9TyNvH/1DatBfI3Ez8BTWJF6L",
      "include_colab_link": true
    },
    "kernelspec": {
      "name": "python3",
      "display_name": "Python 3"
    }
  },
  "cells": [
    {
      "cell_type": "markdown",
      "metadata": {
        "id": "view-in-github",
        "colab_type": "text"
      },
      "source": [
        "<a href=\"https://colab.research.google.com/github/ricoen/ee-data_extract/blob/main/ee_data_extract.ipynb\" target=\"_parent\"><img src=\"https://colab.research.google.com/assets/colab-badge.svg\" alt=\"Open In Colab\"/></a>"
      ]
    },
    {
      "cell_type": "markdown",
      "metadata": {
        "id": "jVC-vgBFzl5n"
      },
      "source": [
        "# Google Earth Engine Data Extract\n",
        "\n",
        "Author [@ricoen](https://github.com/ricoen)<br>\n",
        "\n",
        "MIT Licensed"
      ]
    },
    {
      "cell_type": "code",
      "metadata": {
        "id": "yUsFNzL_YyR1"
      },
      "source": [
        "import ee"
      ],
      "execution_count": 1,
      "outputs": []
    },
    {
      "cell_type": "code",
      "metadata": {
        "colab": {
          "base_uri": "https://localhost:8080/"
        },
        "id": "Ng4JRr6X279f",
        "outputId": "70ed6e0d-6a4b-4a7b-eeb7-d2600a1f7648"
      },
      "source": [
        "ee.Authenticate()"
      ],
      "execution_count": 2,
      "outputs": [
        {
          "output_type": "stream",
          "text": [
            "To authorize access needed by Earth Engine, open the following URL in a web browser and follow the instructions. If the web browser does not start automatically, please manually browse the URL below.\n",
            "\n",
            "    https://accounts.google.com/o/oauth2/auth?client_id=517222506229-vsmmajv00ul0bs7p89v5m89qs8eb9359.apps.googleusercontent.com&scope=https%3A%2F%2Fwww.googleapis.com%2Fauth%2Fearthengine+https%3A%2F%2Fwww.googleapis.com%2Fauth%2Fdevstorage.full_control&redirect_uri=urn%3Aietf%3Awg%3Aoauth%3A2.0%3Aoob&response_type=code&code_challenge=VNzhkiNIfQZWiCIwOLa8mT8bc2vowWhVIdwnSm8hxvU&code_challenge_method=S256\n",
            "\n",
            "The authorization workflow will generate a code, which you should paste in the box below. \n",
            "Enter verification code: 4/1AY0e-g4zV7EZHEtsO_jbwzheD7v3rMMYBEKi5Y1tRIimXvBS-RLAE3FX8ew\n",
            "\n",
            "Successfully saved authorization token.\n"
          ],
          "name": "stdout"
        }
      ]
    },
    {
      "cell_type": "code",
      "metadata": {
        "id": "wF76mUYr3TK_"
      },
      "source": [
        "ee.Initialize()"
      ],
      "execution_count": 3,
      "outputs": []
    },
    {
      "cell_type": "code",
      "metadata": {
        "id": "ypKuzTz1oTBa"
      },
      "source": [
        "dataset = ee.ImageCollection('NASA/GLDAS/V021/NOAH/G025/T3H')"
      ],
      "execution_count": 4,
      "outputs": []
    },
    {
      "cell_type": "code",
      "metadata": {
        "id": "22lIv_BGqL1t"
      },
      "source": [
        "taken = dataset.filterDate('2021-01-01', '2021-01-31')"
      ],
      "execution_count": 5,
      "outputs": []
    },
    {
      "cell_type": "code",
      "metadata": {
        "id": "z6VikaAxrAHn"
      },
      "source": [
        "first_raster = ee.Image(taken.first())"
      ],
      "execution_count": 6,
      "outputs": []
    },
    {
      "cell_type": "code",
      "metadata": {
        "colab": {
          "base_uri": "https://localhost:8080/"
        },
        "id": "6xQk7FDMrQOY",
        "outputId": "7c5aba8f-d8e9-4443-a8a7-4f722d253233"
      },
      "source": [
        "img = first_raster\n",
        "\n",
        "img.getInfo()"
      ],
      "execution_count": 7,
      "outputs": [
        {
          "output_type": "execute_result",
          "data": {
            "text/plain": [
              "{'bands': [{'crs': 'EPSG:4326',\n",
              "   'crs_transform': [0.25, 0, -180, 0, -0.25, 90],\n",
              "   'data_type': {'precision': 'float', 'type': 'PixelType'},\n",
              "   'dimensions': [1440, 600],\n",
              "   'id': 'Albedo_inst'},\n",
              "  {'crs': 'EPSG:4326',\n",
              "   'crs_transform': [0.25, 0, -180, 0, -0.25, 90],\n",
              "   'data_type': {'precision': 'float', 'type': 'PixelType'},\n",
              "   'dimensions': [1440, 600],\n",
              "   'id': 'AvgSurfT_inst'},\n",
              "  {'crs': 'EPSG:4326',\n",
              "   'crs_transform': [0.25, 0, -180, 0, -0.25, 90],\n",
              "   'data_type': {'precision': 'float', 'type': 'PixelType'},\n",
              "   'dimensions': [1440, 600],\n",
              "   'id': 'CanopInt_inst'},\n",
              "  {'crs': 'EPSG:4326',\n",
              "   'crs_transform': [0.25, 0, -180, 0, -0.25, 90],\n",
              "   'data_type': {'precision': 'float', 'type': 'PixelType'},\n",
              "   'dimensions': [1440, 600],\n",
              "   'id': 'ECanop_tavg'},\n",
              "  {'crs': 'EPSG:4326',\n",
              "   'crs_transform': [0.25, 0, -180, 0, -0.25, 90],\n",
              "   'data_type': {'precision': 'float', 'type': 'PixelType'},\n",
              "   'dimensions': [1440, 600],\n",
              "   'id': 'ESoil_tavg'},\n",
              "  {'crs': 'EPSG:4326',\n",
              "   'crs_transform': [0.25, 0, -180, 0, -0.25, 90],\n",
              "   'data_type': {'precision': 'float', 'type': 'PixelType'},\n",
              "   'dimensions': [1440, 600],\n",
              "   'id': 'Evap_tavg'},\n",
              "  {'crs': 'EPSG:4326',\n",
              "   'crs_transform': [0.25, 0, -180, 0, -0.25, 90],\n",
              "   'data_type': {'precision': 'float', 'type': 'PixelType'},\n",
              "   'dimensions': [1440, 600],\n",
              "   'id': 'LWdown_f_tavg'},\n",
              "  {'crs': 'EPSG:4326',\n",
              "   'crs_transform': [0.25, 0, -180, 0, -0.25, 90],\n",
              "   'data_type': {'precision': 'float', 'type': 'PixelType'},\n",
              "   'dimensions': [1440, 600],\n",
              "   'id': 'Lwnet_tavg'},\n",
              "  {'crs': 'EPSG:4326',\n",
              "   'crs_transform': [0.25, 0, -180, 0, -0.25, 90],\n",
              "   'data_type': {'precision': 'float', 'type': 'PixelType'},\n",
              "   'dimensions': [1440, 600],\n",
              "   'id': 'PotEvap_tavg'},\n",
              "  {'crs': 'EPSG:4326',\n",
              "   'crs_transform': [0.25, 0, -180, 0, -0.25, 90],\n",
              "   'data_type': {'precision': 'float', 'type': 'PixelType'},\n",
              "   'dimensions': [1440, 600],\n",
              "   'id': 'Psurf_f_inst'},\n",
              "  {'crs': 'EPSG:4326',\n",
              "   'crs_transform': [0.25, 0, -180, 0, -0.25, 90],\n",
              "   'data_type': {'precision': 'float', 'type': 'PixelType'},\n",
              "   'dimensions': [1440, 600],\n",
              "   'id': 'Qair_f_inst'},\n",
              "  {'crs': 'EPSG:4326',\n",
              "   'crs_transform': [0.25, 0, -180, 0, -0.25, 90],\n",
              "   'data_type': {'precision': 'float', 'type': 'PixelType'},\n",
              "   'dimensions': [1440, 600],\n",
              "   'id': 'Qg_tavg'},\n",
              "  {'crs': 'EPSG:4326',\n",
              "   'crs_transform': [0.25, 0, -180, 0, -0.25, 90],\n",
              "   'data_type': {'precision': 'float', 'type': 'PixelType'},\n",
              "   'dimensions': [1440, 600],\n",
              "   'id': 'Qh_tavg'},\n",
              "  {'crs': 'EPSG:4326',\n",
              "   'crs_transform': [0.25, 0, -180, 0, -0.25, 90],\n",
              "   'data_type': {'precision': 'float', 'type': 'PixelType'},\n",
              "   'dimensions': [1440, 600],\n",
              "   'id': 'Qle_tavg'},\n",
              "  {'crs': 'EPSG:4326',\n",
              "   'crs_transform': [0.25, 0, -180, 0, -0.25, 90],\n",
              "   'data_type': {'precision': 'float', 'type': 'PixelType'},\n",
              "   'dimensions': [1440, 600],\n",
              "   'id': 'Qs_acc'},\n",
              "  {'crs': 'EPSG:4326',\n",
              "   'crs_transform': [0.25, 0, -180, 0, -0.25, 90],\n",
              "   'data_type': {'precision': 'float', 'type': 'PixelType'},\n",
              "   'dimensions': [1440, 600],\n",
              "   'id': 'Qsb_acc'},\n",
              "  {'crs': 'EPSG:4326',\n",
              "   'crs_transform': [0.25, 0, -180, 0, -0.25, 90],\n",
              "   'data_type': {'precision': 'float', 'type': 'PixelType'},\n",
              "   'dimensions': [1440, 600],\n",
              "   'id': 'Qsm_acc'},\n",
              "  {'crs': 'EPSG:4326',\n",
              "   'crs_transform': [0.25, 0, -180, 0, -0.25, 90],\n",
              "   'data_type': {'precision': 'float', 'type': 'PixelType'},\n",
              "   'dimensions': [1440, 600],\n",
              "   'id': 'Rainf_f_tavg'},\n",
              "  {'crs': 'EPSG:4326',\n",
              "   'crs_transform': [0.25, 0, -180, 0, -0.25, 90],\n",
              "   'data_type': {'precision': 'float', 'type': 'PixelType'},\n",
              "   'dimensions': [1440, 600],\n",
              "   'id': 'Rainf_tavg'},\n",
              "  {'crs': 'EPSG:4326',\n",
              "   'crs_transform': [0.25, 0, -180, 0, -0.25, 90],\n",
              "   'data_type': {'precision': 'float', 'type': 'PixelType'},\n",
              "   'dimensions': [1440, 600],\n",
              "   'id': 'RootMoist_inst'},\n",
              "  {'crs': 'EPSG:4326',\n",
              "   'crs_transform': [0.25, 0, -180, 0, -0.25, 90],\n",
              "   'data_type': {'precision': 'float', 'type': 'PixelType'},\n",
              "   'dimensions': [1440, 600],\n",
              "   'id': 'SWE_inst'},\n",
              "  {'crs': 'EPSG:4326',\n",
              "   'crs_transform': [0.25, 0, -180, 0, -0.25, 90],\n",
              "   'data_type': {'precision': 'float', 'type': 'PixelType'},\n",
              "   'dimensions': [1440, 600],\n",
              "   'id': 'SWdown_f_tavg'},\n",
              "  {'crs': 'EPSG:4326',\n",
              "   'crs_transform': [0.25, 0, -180, 0, -0.25, 90],\n",
              "   'data_type': {'precision': 'float', 'type': 'PixelType'},\n",
              "   'dimensions': [1440, 600],\n",
              "   'id': 'SnowDepth_inst'},\n",
              "  {'crs': 'EPSG:4326',\n",
              "   'crs_transform': [0.25, 0, -180, 0, -0.25, 90],\n",
              "   'data_type': {'precision': 'float', 'type': 'PixelType'},\n",
              "   'dimensions': [1440, 600],\n",
              "   'id': 'Snowf_tavg'},\n",
              "  {'crs': 'EPSG:4326',\n",
              "   'crs_transform': [0.25, 0, -180, 0, -0.25, 90],\n",
              "   'data_type': {'precision': 'float', 'type': 'PixelType'},\n",
              "   'dimensions': [1440, 600],\n",
              "   'id': 'SoilMoi0_10cm_inst'},\n",
              "  {'crs': 'EPSG:4326',\n",
              "   'crs_transform': [0.25, 0, -180, 0, -0.25, 90],\n",
              "   'data_type': {'precision': 'float', 'type': 'PixelType'},\n",
              "   'dimensions': [1440, 600],\n",
              "   'id': 'SoilMoi100_200cm_inst'},\n",
              "  {'crs': 'EPSG:4326',\n",
              "   'crs_transform': [0.25, 0, -180, 0, -0.25, 90],\n",
              "   'data_type': {'precision': 'float', 'type': 'PixelType'},\n",
              "   'dimensions': [1440, 600],\n",
              "   'id': 'SoilMoi10_40cm_inst'},\n",
              "  {'crs': 'EPSG:4326',\n",
              "   'crs_transform': [0.25, 0, -180, 0, -0.25, 90],\n",
              "   'data_type': {'precision': 'float', 'type': 'PixelType'},\n",
              "   'dimensions': [1440, 600],\n",
              "   'id': 'SoilMoi40_100cm_inst'},\n",
              "  {'crs': 'EPSG:4326',\n",
              "   'crs_transform': [0.25, 0, -180, 0, -0.25, 90],\n",
              "   'data_type': {'precision': 'float', 'type': 'PixelType'},\n",
              "   'dimensions': [1440, 600],\n",
              "   'id': 'SoilTMP0_10cm_inst'},\n",
              "  {'crs': 'EPSG:4326',\n",
              "   'crs_transform': [0.25, 0, -180, 0, -0.25, 90],\n",
              "   'data_type': {'precision': 'float', 'type': 'PixelType'},\n",
              "   'dimensions': [1440, 600],\n",
              "   'id': 'SoilTMP100_200cm_inst'},\n",
              "  {'crs': 'EPSG:4326',\n",
              "   'crs_transform': [0.25, 0, -180, 0, -0.25, 90],\n",
              "   'data_type': {'precision': 'float', 'type': 'PixelType'},\n",
              "   'dimensions': [1440, 600],\n",
              "   'id': 'SoilTMP10_40cm_inst'},\n",
              "  {'crs': 'EPSG:4326',\n",
              "   'crs_transform': [0.25, 0, -180, 0, -0.25, 90],\n",
              "   'data_type': {'precision': 'float', 'type': 'PixelType'},\n",
              "   'dimensions': [1440, 600],\n",
              "   'id': 'SoilTMP40_100cm_inst'},\n",
              "  {'crs': 'EPSG:4326',\n",
              "   'crs_transform': [0.25, 0, -180, 0, -0.25, 90],\n",
              "   'data_type': {'precision': 'float', 'type': 'PixelType'},\n",
              "   'dimensions': [1440, 600],\n",
              "   'id': 'Swnet_tavg'},\n",
              "  {'crs': 'EPSG:4326',\n",
              "   'crs_transform': [0.25, 0, -180, 0, -0.25, 90],\n",
              "   'data_type': {'precision': 'float', 'type': 'PixelType'},\n",
              "   'dimensions': [1440, 600],\n",
              "   'id': 'Tair_f_inst'},\n",
              "  {'crs': 'EPSG:4326',\n",
              "   'crs_transform': [0.25, 0, -180, 0, -0.25, 90],\n",
              "   'data_type': {'precision': 'float', 'type': 'PixelType'},\n",
              "   'dimensions': [1440, 600],\n",
              "   'id': 'Tveg_tavg'},\n",
              "  {'crs': 'EPSG:4326',\n",
              "   'crs_transform': [0.25, 0, -180, 0, -0.25, 90],\n",
              "   'data_type': {'precision': 'float', 'type': 'PixelType'},\n",
              "   'dimensions': [1440, 600],\n",
              "   'id': 'Wind_f_inst'}],\n",
              " 'id': 'NASA/GLDAS/V021/NOAH/G025/T3H/A20210101_0000',\n",
              " 'properties': {'end_hour': 3,\n",
              "  'start_hour': 0,\n",
              "  'status': 'early',\n",
              "  'system:asset_size': 24971921,\n",
              "  'system:footprint': {'coordinates': [[-180, -90],\n",
              "    [180, -90],\n",
              "    [180, 90],\n",
              "    [-180, 90],\n",
              "    [-180, -90]],\n",
              "   'type': 'LinearRing'},\n",
              "  'system:index': 'A20210101_0000',\n",
              "  'system:time_end': 1609470000000,\n",
              "  'system:time_start': 1609459200000},\n",
              " 'type': 'Image',\n",
              " 'version': 1614204920889031}"
            ]
          },
          "metadata": {
            "tags": []
          },
          "execution_count": 7
        }
      ]
    },
    {
      "cell_type": "code",
      "metadata": {
        "id": "-LZWnrxMtVAQ"
      },
      "source": [
        "temperature = img.select('Tair_f_inst')"
      ],
      "execution_count": 8,
      "outputs": []
    },
    {
      "cell_type": "code",
      "metadata": {
        "id": "VtpzlozDt65k"
      },
      "source": [
        "# Import the folium library.\n",
        "\n",
        "import folium\n",
        "from folium import plugins"
      ],
      "execution_count": 9,
      "outputs": []
    },
    {
      "cell_type": "code",
      "metadata": {
        "id": "-yATwqKDuBL4"
      },
      "source": [
        "basemaps = {\n",
        "    'Google Maps': folium.TileLayer(\n",
        "        tiles = 'https://mt1.google.com/vt/lyrs=m&x={x}&y={y}&z={z}',\n",
        "        attr = 'Google',\n",
        "        name = 'Google Maps',\n",
        "        overlay = True,\n",
        "        control = True\n",
        "    ),\n",
        "    'Google Satellite': folium.TileLayer(\n",
        "        tiles = 'https://mt1.google.com/vt/lyrs=s&x={x}&y={y}&z={z}',\n",
        "        attr = 'Google',\n",
        "        name = 'Google Satellite',\n",
        "        overlay = True,\n",
        "        control = True\n",
        "    )\n",
        "}"
      ],
      "execution_count": 10,
      "outputs": []
    },
    {
      "cell_type": "code",
      "metadata": {
        "colab": {
          "base_uri": "https://localhost:8080/",
          "height": 763
        },
        "id": "AwkpelXlvHl-",
        "outputId": "f559ff4c-8e96-4be9-9d8f-5ca9bee7ed20"
      },
      "source": [
        "# Define a method for displaying Earth Engine image tiles to folium map.\n",
        "def add_ee_layer(self, ee_image_object, vis_params, name):\n",
        "  map_id_dict = ee.Image(ee_image_object).getMapId(vis_params)\n",
        "  folium.raster_layers.TileLayer(\n",
        "    tiles = map_id_dict['tile_fetcher'].url_format,\n",
        "    attr = 'Map Data &copy; <a href=\"https://earthengine.google.com/\">Google Earth Engine</a>',\n",
        "    name = name,\n",
        "    overlay = True,\n",
        "    control = True\n",
        "  ).add_to(self)\n",
        "\n",
        "# Add EE drawing method to folium.\n",
        "folium.Map.add_ee_layer = add_ee_layer\n",
        "\n",
        "# Create a folium map object.\n",
        "my_map = folium.Map(location=[-7.50, 111.25], zoom_start=3, height=1000)\n",
        "\n",
        "# Add custom basemaps\n",
        "basemaps['Google Satellite'].add_to(my_map)\n",
        "\n",
        "# Add fullscreen button\n",
        "plugins.Fullscreen().add_to(my_map)\n",
        "\n",
        "# Temperature Params\n",
        "temp_params = {\n",
        "  'min': 206,\n",
        "  'max': 328,\n",
        "  'palette': ['green', 'yellow', 'red']}\n",
        "\n",
        "# Add the elevation model to the map object.\n",
        "my_map.add_ee_layer(temperature.updateMask(temperature.gt(0)), temp_params, 'Air Temperature')\n",
        "\n",
        "# Add a layer control panel to the map.\n",
        "my_map.add_child(folium.LayerControl())\n",
        "\n",
        "# Display the map.\n",
        "display(my_map)"
      ],
      "execution_count": 11,
      "outputs": [
        {
          "output_type": "display_data",
          "data": {
            "text/html": [
              "<div style=\"width:100%;\"><div style=\"position:relative;width:100%;height:0;padding-bottom:60%;\"><span style=\"color:#565656\">Make this Notebook Trusted to load map: File -> Trust Notebook</span><iframe src=\"about:blank\" style=\"position:absolute;width:100%;height:100%;left:0;top:0;border:none !important;\" data-html=%3C%21DOCTYPE%20html%3E%0A%3Chead%3E%20%20%20%20%0A%20%20%20%20%3Cmeta%20http-equiv%3D%22content-type%22%20content%3D%22text/html%3B%20charset%3DUTF-8%22%20/%3E%0A%20%20%20%20%3Cscript%3EL_PREFER_CANVAS%3Dfalse%3B%20L_NO_TOUCH%3Dfalse%3B%20L_DISABLE_3D%3Dfalse%3B%3C/script%3E%0A%20%20%20%20%3Cscript%20src%3D%22https%3A//cdn.jsdelivr.net/npm/leaflet%401.4.0/dist/leaflet.js%22%3E%3C/script%3E%0A%20%20%20%20%3Cscript%20src%3D%22https%3A//code.jquery.com/jquery-1.12.4.min.js%22%3E%3C/script%3E%0A%20%20%20%20%3Cscript%20src%3D%22https%3A//maxcdn.bootstrapcdn.com/bootstrap/3.2.0/js/bootstrap.min.js%22%3E%3C/script%3E%0A%20%20%20%20%3Cscript%20src%3D%22https%3A//cdnjs.cloudflare.com/ajax/libs/Leaflet.awesome-markers/2.0.2/leaflet.awesome-markers.js%22%3E%3C/script%3E%0A%20%20%20%20%3Clink%20rel%3D%22stylesheet%22%20href%3D%22https%3A//cdn.jsdelivr.net/npm/leaflet%401.4.0/dist/leaflet.css%22/%3E%0A%20%20%20%20%3Clink%20rel%3D%22stylesheet%22%20href%3D%22https%3A//maxcdn.bootstrapcdn.com/bootstrap/3.2.0/css/bootstrap.min.css%22/%3E%0A%20%20%20%20%3Clink%20rel%3D%22stylesheet%22%20href%3D%22https%3A//maxcdn.bootstrapcdn.com/bootstrap/3.2.0/css/bootstrap-theme.min.css%22/%3E%0A%20%20%20%20%3Clink%20rel%3D%22stylesheet%22%20href%3D%22https%3A//maxcdn.bootstrapcdn.com/font-awesome/4.6.3/css/font-awesome.min.css%22/%3E%0A%20%20%20%20%3Clink%20rel%3D%22stylesheet%22%20href%3D%22https%3A//cdnjs.cloudflare.com/ajax/libs/Leaflet.awesome-markers/2.0.2/leaflet.awesome-markers.css%22/%3E%0A%20%20%20%20%3Clink%20rel%3D%22stylesheet%22%20href%3D%22https%3A//rawcdn.githack.com/python-visualization/folium/master/folium/templates/leaflet.awesome.rotate.css%22/%3E%0A%20%20%20%20%3Cstyle%3Ehtml%2C%20body%20%7Bwidth%3A%20100%25%3Bheight%3A%20100%25%3Bmargin%3A%200%3Bpadding%3A%200%3B%7D%3C/style%3E%0A%20%20%20%20%3Cstyle%3E%23map%20%7Bposition%3Aabsolute%3Btop%3A0%3Bbottom%3A0%3Bright%3A0%3Bleft%3A0%3B%7D%3C/style%3E%0A%20%20%20%20%0A%20%20%20%20%3Cmeta%20name%3D%22viewport%22%20content%3D%22width%3Ddevice-width%2C%0A%20%20%20%20%20%20%20%20initial-scale%3D1.0%2C%20maximum-scale%3D1.0%2C%20user-scalable%3Dno%22%20/%3E%0A%20%20%20%20%3Cstyle%3E%23map_a6e22eab809749f6930de6269fc0db82%20%7B%0A%20%20%20%20%20%20%20%20position%3A%20relative%3B%0A%20%20%20%20%20%20%20%20width%3A%20100.0%25%3B%0A%20%20%20%20%20%20%20%20height%3A%201000.0px%3B%0A%20%20%20%20%20%20%20%20left%3A%200.0%25%3B%0A%20%20%20%20%20%20%20%20top%3A%200.0%25%3B%0A%20%20%20%20%20%20%20%20%7D%0A%20%20%20%20%3C/style%3E%0A%20%20%20%20%3Cscript%20src%3D%22https%3A//cdnjs.cloudflare.com/ajax/libs/leaflet.fullscreen/1.4.2/Control.FullScreen.min.js%22%3E%3C/script%3E%0A%20%20%20%20%3Clink%20rel%3D%22stylesheet%22%20href%3D%22https%3A//cdnjs.cloudflare.com/ajax/libs/leaflet.fullscreen/1.4.2/Control.FullScreen.min.css%22/%3E%0A%3C/head%3E%0A%3Cbody%3E%20%20%20%20%0A%20%20%20%20%0A%20%20%20%20%3Cdiv%20class%3D%22folium-map%22%20id%3D%22map_a6e22eab809749f6930de6269fc0db82%22%20%3E%3C/div%3E%0A%3C/body%3E%0A%3Cscript%3E%20%20%20%20%0A%20%20%20%20%0A%20%20%20%20%0A%20%20%20%20%20%20%20%20var%20bounds%20%3D%20null%3B%0A%20%20%20%20%0A%0A%20%20%20%20var%20map_a6e22eab809749f6930de6269fc0db82%20%3D%20L.map%28%0A%20%20%20%20%20%20%20%20%27map_a6e22eab809749f6930de6269fc0db82%27%2C%20%7B%0A%20%20%20%20%20%20%20%20center%3A%20%5B-7.5%2C%20111.25%5D%2C%0A%20%20%20%20%20%20%20%20zoom%3A%203%2C%0A%20%20%20%20%20%20%20%20maxBounds%3A%20bounds%2C%0A%20%20%20%20%20%20%20%20layers%3A%20%5B%5D%2C%0A%20%20%20%20%20%20%20%20worldCopyJump%3A%20false%2C%0A%20%20%20%20%20%20%20%20crs%3A%20L.CRS.EPSG3857%2C%0A%20%20%20%20%20%20%20%20zoomControl%3A%20true%2C%0A%20%20%20%20%20%20%20%20%7D%29%3B%0A%0A%0A%20%20%20%20%0A%20%20%20%20var%20tile_layer_9d70e219fef945d3833f4c1a5643f1c1%20%3D%20L.tileLayer%28%0A%20%20%20%20%20%20%20%20%27https%3A//%7Bs%7D.tile.openstreetmap.org/%7Bz%7D/%7Bx%7D/%7By%7D.png%27%2C%0A%20%20%20%20%20%20%20%20%7B%0A%20%20%20%20%20%20%20%20%22attribution%22%3A%20null%2C%0A%20%20%20%20%20%20%20%20%22detectRetina%22%3A%20false%2C%0A%20%20%20%20%20%20%20%20%22maxNativeZoom%22%3A%2018%2C%0A%20%20%20%20%20%20%20%20%22maxZoom%22%3A%2018%2C%0A%20%20%20%20%20%20%20%20%22minZoom%22%3A%200%2C%0A%20%20%20%20%20%20%20%20%22noWrap%22%3A%20false%2C%0A%20%20%20%20%20%20%20%20%22opacity%22%3A%201%2C%0A%20%20%20%20%20%20%20%20%22subdomains%22%3A%20%22abc%22%2C%0A%20%20%20%20%20%20%20%20%22tms%22%3A%20false%0A%7D%29.addTo%28map_a6e22eab809749f6930de6269fc0db82%29%3B%0A%20%20%20%20var%20tile_layer_fa1fb993de304e65aad4e5279a3ff95e%20%3D%20L.tileLayer%28%0A%20%20%20%20%20%20%20%20%27https%3A//mt1.google.com/vt/lyrs%3Ds%26x%3D%7Bx%7D%26y%3D%7By%7D%26z%3D%7Bz%7D%27%2C%0A%20%20%20%20%20%20%20%20%7B%0A%20%20%20%20%20%20%20%20%22attribution%22%3A%20%22Google%22%2C%0A%20%20%20%20%20%20%20%20%22detectRetina%22%3A%20false%2C%0A%20%20%20%20%20%20%20%20%22maxNativeZoom%22%3A%2018%2C%0A%20%20%20%20%20%20%20%20%22maxZoom%22%3A%2018%2C%0A%20%20%20%20%20%20%20%20%22minZoom%22%3A%200%2C%0A%20%20%20%20%20%20%20%20%22noWrap%22%3A%20false%2C%0A%20%20%20%20%20%20%20%20%22opacity%22%3A%201%2C%0A%20%20%20%20%20%20%20%20%22subdomains%22%3A%20%22abc%22%2C%0A%20%20%20%20%20%20%20%20%22tms%22%3A%20false%0A%7D%29.addTo%28map_a6e22eab809749f6930de6269fc0db82%29%3B%0A%20%20%20%20%0A%20%20%20%20%20%20%20%20%20%20%20%20L.control.fullscreen%28%7B%0A%20%20%20%20%20%20%20%20%20%20%20%20%20%20%20%20position%3A%20%27topleft%27%2C%0A%20%20%20%20%20%20%20%20%20%20%20%20%20%20%20%20title%3A%20%27Full%20Screen%27%2C%0A%20%20%20%20%20%20%20%20%20%20%20%20%20%20%20%20titleCancel%3A%20%27Exit%20Full%20Screen%27%2C%0A%20%20%20%20%20%20%20%20%20%20%20%20%20%20%20%20forceSeparateButton%3A%20false%2C%0A%20%20%20%20%20%20%20%20%20%20%20%20%20%20%20%20%7D%29.addTo%28map_a6e22eab809749f6930de6269fc0db82%29%3B%0A%20%20%20%20%20%20%20%20%20%20%20%20map_a6e22eab809749f6930de6269fc0db82.on%28%27enterFullscreen%27%2C%20function%28%29%7B%0A%20%20%20%20%20%20%20%20%20%20%20%20%20%20%20%20console.log%28%27entered%20fullscreen%27%29%3B%0A%20%20%20%20%20%20%20%20%20%20%20%20%7D%29%3B%0A%0A%20%20%20%20%20%20%20%20%0A%20%20%20%20var%20tile_layer_cff66d87d13d4c04825dffd08b0b08ea%20%3D%20L.tileLayer%28%0A%20%20%20%20%20%20%20%20%27https%3A//earthengine.googleapis.com/v1alpha/projects/earthengine-legacy/maps/4664a07e31ad0d7d400afa9cfea1d2cc-8eee8188dfd4ce3d0d07c18bbc784a77/tiles/%7Bz%7D/%7Bx%7D/%7By%7D%27%2C%0A%20%20%20%20%20%20%20%20%7B%0A%20%20%20%20%20%20%20%20%22attribution%22%3A%20%22Map%20Data%20%26copy%3B%20%3Ca%20href%3D%5C%22https%3A//earthengine.google.com/%5C%22%3EGoogle%20Earth%20Engine%3C/a%3E%22%2C%0A%20%20%20%20%20%20%20%20%22detectRetina%22%3A%20false%2C%0A%20%20%20%20%20%20%20%20%22maxNativeZoom%22%3A%2018%2C%0A%20%20%20%20%20%20%20%20%22maxZoom%22%3A%2018%2C%0A%20%20%20%20%20%20%20%20%22minZoom%22%3A%200%2C%0A%20%20%20%20%20%20%20%20%22noWrap%22%3A%20false%2C%0A%20%20%20%20%20%20%20%20%22opacity%22%3A%201%2C%0A%20%20%20%20%20%20%20%20%22subdomains%22%3A%20%22abc%22%2C%0A%20%20%20%20%20%20%20%20%22tms%22%3A%20false%0A%7D%29.addTo%28map_a6e22eab809749f6930de6269fc0db82%29%3B%0A%20%20%20%20%0A%20%20%20%20%20%20%20%20%20%20%20%20var%20layer_control_722027c54eb44d97b0e002ba2189f52b%20%3D%20%7B%0A%20%20%20%20%20%20%20%20%20%20%20%20%20%20%20%20base_layers%20%3A%20%7B%20%22openstreetmap%22%20%3A%20tile_layer_9d70e219fef945d3833f4c1a5643f1c1%2C%20%7D%2C%0A%20%20%20%20%20%20%20%20%20%20%20%20%20%20%20%20overlays%20%3A%20%7B%20%22Google%20Satellite%22%20%3A%20tile_layer_fa1fb993de304e65aad4e5279a3ff95e%2C%22Air%20Temperature%22%20%3A%20tile_layer_cff66d87d13d4c04825dffd08b0b08ea%2C%20%7D%0A%20%20%20%20%20%20%20%20%20%20%20%20%20%20%20%20%7D%3B%0A%20%20%20%20%20%20%20%20%20%20%20%20L.control.layers%28%0A%20%20%20%20%20%20%20%20%20%20%20%20%20%20%20%20layer_control_722027c54eb44d97b0e002ba2189f52b.base_layers%2C%0A%20%20%20%20%20%20%20%20%20%20%20%20%20%20%20%20layer_control_722027c54eb44d97b0e002ba2189f52b.overlays%2C%0A%20%20%20%20%20%20%20%20%20%20%20%20%20%20%20%20%7Bposition%3A%20%27topright%27%2C%0A%20%20%20%20%20%20%20%20%20%20%20%20%20%20%20%20%20collapsed%3A%20true%2C%0A%20%20%20%20%20%20%20%20%20%20%20%20%20%20%20%20%20autoZIndex%3A%20true%0A%20%20%20%20%20%20%20%20%20%20%20%20%20%20%20%20%7D%29.addTo%28map_a6e22eab809749f6930de6269fc0db82%29%3B%0A%20%20%20%20%20%20%20%20%20%20%20%20%0A%20%20%20%20%20%20%20%20%0A%3C/script%3E onload=\"this.contentDocument.open();this.contentDocument.write(    decodeURIComponent(this.getAttribute('data-html')));this.contentDocument.close();\" allowfullscreen webkitallowfullscreen mozallowfullscreen></iframe></div></div>"
            ],
            "text/plain": [
              "<folium.folium.Map at 0x7fe4631db3d0>"
            ]
          },
          "metadata": {
            "tags": []
          }
        }
      ]
    },
    {
      "cell_type": "code",
      "metadata": {
        "id": "GabtTCRr832J"
      },
      "source": [
        "aoi = ee.Geometry.Polygon([\n",
        "          [\n",
        "            [\n",
        "              112.62535572052002,\n",
        "              -7.988390117845741\n",
        "            ],\n",
        "            [\n",
        "              112.64822959899902,\n",
        "              -7.988390117845741\n",
        "            ],\n",
        "            [\n",
        "              112.64822959899902,\n",
        "              -7.968202639589894\n",
        "            ],\n",
        "            [\n",
        "              112.62535572052002,\n",
        "              -7.968202639589894\n",
        "            ],\n",
        "            [\n",
        "              112.62535572052002,\n",
        "              -7.988390117845741\n",
        "            ]\n",
        "          ]\n",
        "        ], None, False)\n",
        "\n",
        "#poi = ee.Geometry.Point([112.644105, -7.9514187])"
      ],
      "execution_count": 12,
      "outputs": []
    },
    {
      "cell_type": "code",
      "metadata": {
        "id": "cMyLqUAO-Og5"
      },
      "source": [
        "def setProperty(image):\n",
        "    dict = image.reduceRegion(ee.Reducer.mean(), aoi)\n",
        "    return image.set(dict)"
      ],
      "execution_count": 13,
      "outputs": []
    },
    {
      "cell_type": "code",
      "metadata": {
        "id": "iFLfVjIA_m3r"
      },
      "source": [
        "withMean = taken.map(setProperty)"
      ],
      "execution_count": 14,
      "outputs": []
    },
    {
      "cell_type": "code",
      "metadata": {
        "colab": {
          "base_uri": "https://localhost:8080/"
        },
        "id": "V3N2Dw-v-jh2",
        "outputId": "6e9dbc11-4467-4d0a-d42a-484a804303cb"
      },
      "source": [
        "t_avg = withMean.aggregate_array('Tair_f_inst').getInfo()\n",
        "t_c = [x - 273 for x in t_avg]\n",
        "\n",
        "print(t_c)"
      ],
      "execution_count": 15,
      "outputs": [
        {
          "output_type": "stream",
          "text": [
            "[21.365692138671875, 24.561676025390625, 23.300689697265625, 21.264892578125, 20.51739501953125, 20.27471923828125, 19.748626708984375, 19.61248779296875, 20.572509765625, 23.17999267578125, 24.25897216796875, 20.72149658203125, 19.779998779296875, 19.62554931640625, 19, 18.998046875, 21.57391357421875, 25.767242431640625, 23.9278564453125, 22.095550537109375, 20.195556640625, 20.089752197265625, 19.757781982421875, 19.602783203125, 21.72796630859375, 24.792755126953125, 22.1981201171875, 21.453338623046875, 20.40155029296875, 20.089263916015625, 19.596771240234375, 19.18426513671875, 22.20526123046875, 27.524932861328125, 24.164276123046875, 20.864288330078125, 19.971160888671875, 19.6693115234375, 19.441162109375, 19.638214111328125, 21.750701904296875, 26.371795654296875, 24.17529296875, 23.130126953125, 20.54937744140625, 19.8756103515625, 19.525634765625, 19.20538330078125, 21.943695068359375, 25.338897705078125, 22.528778076171875, 21.032745361328125, 20.242706298828125, 20.223724365234375, 19.79620361328125, 19.896209716796875, 19.78839111328125, 21.01593017578125, 22.91387939453125, 21.564788818359375, 20.360382080078125, 20.03009033203125, 19.545562744140625, 19.015472412109375, 21.217132568359375, 24.77008056640625, 23.15069580078125, 20.95257568359375, 20.075592041015625, 19.599456787109375, 19.337615966796875, 19.102630615234375, 22.082244873046875, 25.40863037109375, 25.064727783203125, 22.868621826171875, 20.4385986328125, 19.972259521484375, 19.6297607421875, 19.222686767578125, 21.8951416015625, 25.333587646484375, 25.51068115234375, 23.90338134765625, 21.148406982421875, 20.459075927734375, 20.12530517578125, 19.908111572265625, 23.1063232421875, 26.002410888671875, 24.320281982421875, 21.67535400390625, 20.501556396484375, 20.24041748046875, 20.0250244140625, 19.883056640625, 20.9853515625, 24.240966796875, 24.9635009765625, 23.1197509765625, 19.8638916015625, 19.68048095703125, 19.20050048828125, 19.32550048828125, 20.896514892578125, 24.523406982421875, 24.04278564453125, 22.520721435546875, 19.945709228515625, 19.4627685546875, 19.27276611328125, 19.133331298828125, 20.47393798828125, 24.051177978515625, 23.1099853515625, 21.355743408203125, 19.64312744140625, 19.3956298828125, 18.95404052734375, 18.684051513671875, 20.559051513671875, 24.374481201171875, 23.7115478515625, 21.051971435546875, 19.287078857421875, 18.959869384765625, 18.801513671875, 19.092254638671875, 20.177276611328125, 26.180816650390625, 24.06536865234375, 22.95831298828125, 20.049835205078125, 19.9693603515625, 19.819366455078125, 19.5960693359375, 20.722991943359375, 23.403411865234375, 24.8780517578125, 22.060638427734375, 20.093414306640625, 19.654693603515625, 18.652740478515625, 18.6810302734375, 20.39166259765625, 21.3519287109375, 22.530609130859375, 20.1094970703125, 19.133148193359375, 19.368621826171875, 19.4244384765625, 19.34393310546875, 19.986968994140625, 23.118804931640625, 24.451324462890625, 22.1519775390625, 20.211334228515625, 19.209075927734375, 18.6092529296875, 18.5992431640625, 21.6712646484375, 26.6068115234375, 26.8052978515625, 24.114227294921875, 20.223846435546875, 19.019622802734375, 18.494232177734375, 18.439849853515625, 21.24810791015625, 25.38311767578125, 24.496337890625, 22.651641845703125, 19.928955078125, 19.268524169921875, 19.0848388671875, 19.016021728515625, 21.593505859375, 26.56024169921875, 24.80828857421875, 22.49127197265625, 19.902862548828125, 19.022857666015625, 19.1873779296875, 18.625701904296875, 21.2073974609375, 26.26690673828125, 24.434051513671875, 22.8880615234375, 19.954620361328125, 19.132110595703125, 18.812255859375, 18.642242431640625, 21.22723388671875, 24.310638427734375, 22.139739990234375, 20.327239990234375, 19.073211669921875, 19.195709228515625, 18.81072998046875, 18.158233642578125, 21.43572998046875, 26.79180908203125, 25.713104248046875, 23.331787109375, 19.56402587890625, 19.2078857421875, 19.0958251953125, 19.11810302734375, 20.1055908203125, 20.06134033203125, 22.38653564453125, 21.1256103515625, 19.673095703125, 19.370574951171875, 19.2642822265625, 19.17388916015625, 20.950286865234375, 25.52813720703125, 24.0501708984375, 22.219879150390625, 19.868743896484375, 19.4874267578125, 19.432830810546875, 19.575897216796875, 20.045654296875, 23.83380126953125, 22.484832763671875, 22.235595703125, 20.00677490234375, 19.855682373046875, 18.982513427734375, 18.799957275390625, 20.220733642578125, 21.34307861328125, 24.302215576171875, 20.91571044921875, 19.389739990234375, 19.231842041015625, 18.7701416015625, 18.13311767578125]\n"
          ],
          "name": "stdout"
        }
      ]
    },
    {
      "cell_type": "code",
      "metadata": {
        "colab": {
          "base_uri": "https://localhost:8080/"
        },
        "id": "5tAcbgWJDZkS",
        "outputId": "63a5f65d-875b-4b7b-dee3-41be82692cb0"
      },
      "source": [
        "from datetime import datetime as dt\n",
        "\n",
        "time = withMean.aggregate_array('system:time_start').getInfo()\n",
        "date = [x // 1000 for x in time]\n",
        "captured = [dt.utcfromtimestamp(i).strftime('%X-%x') for i in date]\n",
        "\n",
        "print(captured)"
      ],
      "execution_count": 16,
      "outputs": [
        {
          "output_type": "stream",
          "text": [
            "['00:00:00-01/01/21', '03:00:00-01/01/21', '06:00:00-01/01/21', '09:00:00-01/01/21', '12:00:00-01/01/21', '15:00:00-01/01/21', '18:00:00-01/01/21', '21:00:00-01/01/21', '00:00:00-01/02/21', '03:00:00-01/02/21', '06:00:00-01/02/21', '09:00:00-01/02/21', '12:00:00-01/02/21', '15:00:00-01/02/21', '18:00:00-01/02/21', '21:00:00-01/02/21', '00:00:00-01/03/21', '03:00:00-01/03/21', '06:00:00-01/03/21', '09:00:00-01/03/21', '12:00:00-01/03/21', '15:00:00-01/03/21', '18:00:00-01/03/21', '21:00:00-01/03/21', '00:00:00-01/04/21', '03:00:00-01/04/21', '06:00:00-01/04/21', '09:00:00-01/04/21', '12:00:00-01/04/21', '15:00:00-01/04/21', '18:00:00-01/04/21', '21:00:00-01/04/21', '00:00:00-01/05/21', '03:00:00-01/05/21', '06:00:00-01/05/21', '09:00:00-01/05/21', '12:00:00-01/05/21', '15:00:00-01/05/21', '18:00:00-01/05/21', '21:00:00-01/05/21', '00:00:00-01/06/21', '03:00:00-01/06/21', '06:00:00-01/06/21', '09:00:00-01/06/21', '12:00:00-01/06/21', '15:00:00-01/06/21', '18:00:00-01/06/21', '21:00:00-01/06/21', '00:00:00-01/07/21', '03:00:00-01/07/21', '06:00:00-01/07/21', '09:00:00-01/07/21', '12:00:00-01/07/21', '15:00:00-01/07/21', '18:00:00-01/07/21', '21:00:00-01/07/21', '00:00:00-01/08/21', '03:00:00-01/08/21', '06:00:00-01/08/21', '09:00:00-01/08/21', '12:00:00-01/08/21', '15:00:00-01/08/21', '18:00:00-01/08/21', '21:00:00-01/08/21', '00:00:00-01/09/21', '03:00:00-01/09/21', '06:00:00-01/09/21', '09:00:00-01/09/21', '12:00:00-01/09/21', '15:00:00-01/09/21', '18:00:00-01/09/21', '21:00:00-01/09/21', '00:00:00-01/10/21', '03:00:00-01/10/21', '06:00:00-01/10/21', '09:00:00-01/10/21', '12:00:00-01/10/21', '15:00:00-01/10/21', '18:00:00-01/10/21', '21:00:00-01/10/21', '00:00:00-01/11/21', '03:00:00-01/11/21', '06:00:00-01/11/21', '09:00:00-01/11/21', '12:00:00-01/11/21', '15:00:00-01/11/21', '18:00:00-01/11/21', '21:00:00-01/11/21', '00:00:00-01/12/21', '03:00:00-01/12/21', '06:00:00-01/12/21', '09:00:00-01/12/21', '12:00:00-01/12/21', '15:00:00-01/12/21', '18:00:00-01/12/21', '21:00:00-01/12/21', '00:00:00-01/13/21', '03:00:00-01/13/21', '06:00:00-01/13/21', '09:00:00-01/13/21', '12:00:00-01/13/21', '15:00:00-01/13/21', '18:00:00-01/13/21', '21:00:00-01/13/21', '00:00:00-01/14/21', '03:00:00-01/14/21', '06:00:00-01/14/21', '09:00:00-01/14/21', '12:00:00-01/14/21', '15:00:00-01/14/21', '18:00:00-01/14/21', '21:00:00-01/14/21', '00:00:00-01/15/21', '03:00:00-01/15/21', '06:00:00-01/15/21', '09:00:00-01/15/21', '12:00:00-01/15/21', '15:00:00-01/15/21', '18:00:00-01/15/21', '21:00:00-01/15/21', '00:00:00-01/16/21', '03:00:00-01/16/21', '06:00:00-01/16/21', '09:00:00-01/16/21', '12:00:00-01/16/21', '15:00:00-01/16/21', '18:00:00-01/16/21', '21:00:00-01/16/21', '00:00:00-01/17/21', '03:00:00-01/17/21', '06:00:00-01/17/21', '09:00:00-01/17/21', '12:00:00-01/17/21', '15:00:00-01/17/21', '18:00:00-01/17/21', '21:00:00-01/17/21', '00:00:00-01/18/21', '03:00:00-01/18/21', '06:00:00-01/18/21', '09:00:00-01/18/21', '12:00:00-01/18/21', '15:00:00-01/18/21', '18:00:00-01/18/21', '21:00:00-01/18/21', '00:00:00-01/19/21', '03:00:00-01/19/21', '06:00:00-01/19/21', '09:00:00-01/19/21', '12:00:00-01/19/21', '15:00:00-01/19/21', '18:00:00-01/19/21', '21:00:00-01/19/21', '00:00:00-01/20/21', '03:00:00-01/20/21', '06:00:00-01/20/21', '09:00:00-01/20/21', '12:00:00-01/20/21', '15:00:00-01/20/21', '18:00:00-01/20/21', '21:00:00-01/20/21', '00:00:00-01/21/21', '03:00:00-01/21/21', '06:00:00-01/21/21', '09:00:00-01/21/21', '12:00:00-01/21/21', '15:00:00-01/21/21', '18:00:00-01/21/21', '21:00:00-01/21/21', '00:00:00-01/22/21', '03:00:00-01/22/21', '06:00:00-01/22/21', '09:00:00-01/22/21', '12:00:00-01/22/21', '15:00:00-01/22/21', '18:00:00-01/22/21', '21:00:00-01/22/21', '00:00:00-01/23/21', '03:00:00-01/23/21', '06:00:00-01/23/21', '09:00:00-01/23/21', '12:00:00-01/23/21', '15:00:00-01/23/21', '18:00:00-01/23/21', '21:00:00-01/23/21', '00:00:00-01/24/21', '03:00:00-01/24/21', '06:00:00-01/24/21', '09:00:00-01/24/21', '12:00:00-01/24/21', '15:00:00-01/24/21', '18:00:00-01/24/21', '21:00:00-01/24/21', '00:00:00-01/25/21', '03:00:00-01/25/21', '06:00:00-01/25/21', '09:00:00-01/25/21', '12:00:00-01/25/21', '15:00:00-01/25/21', '18:00:00-01/25/21', '21:00:00-01/25/21', '00:00:00-01/26/21', '03:00:00-01/26/21', '06:00:00-01/26/21', '09:00:00-01/26/21', '12:00:00-01/26/21', '15:00:00-01/26/21', '18:00:00-01/26/21', '21:00:00-01/26/21', '00:00:00-01/27/21', '03:00:00-01/27/21', '06:00:00-01/27/21', '09:00:00-01/27/21', '12:00:00-01/27/21', '15:00:00-01/27/21', '18:00:00-01/27/21', '21:00:00-01/27/21', '00:00:00-01/28/21', '03:00:00-01/28/21', '06:00:00-01/28/21', '09:00:00-01/28/21', '12:00:00-01/28/21', '15:00:00-01/28/21', '18:00:00-01/28/21', '21:00:00-01/28/21', '00:00:00-01/29/21', '03:00:00-01/29/21', '06:00:00-01/29/21', '09:00:00-01/29/21', '12:00:00-01/29/21', '15:00:00-01/29/21', '18:00:00-01/29/21', '21:00:00-01/29/21', '00:00:00-01/30/21', '03:00:00-01/30/21', '06:00:00-01/30/21', '09:00:00-01/30/21', '12:00:00-01/30/21', '15:00:00-01/30/21', '18:00:00-01/30/21', '21:00:00-01/30/21']\n"
          ],
          "name": "stdout"
        }
      ]
    },
    {
      "cell_type": "code",
      "metadata": {
        "id": "fIjmVPWZdCqm"
      },
      "source": [
        "import numpy as np\n",
        "\n",
        "t_arr = np.asarray(t_c, dtype = np.float32)\n",
        "t_arRound = np.around(t_arr, decimals=1)\n",
        "date_arr = np.asarray(captured)"
      ],
      "execution_count": 17,
      "outputs": []
    },
    {
      "cell_type": "code",
      "metadata": {
        "colab": {
          "base_uri": "https://localhost:8080/"
        },
        "id": "PtnKAGyOdM3j",
        "outputId": "05422593-0cdc-47ef-9ddc-db10163a6490"
      },
      "source": [
        "t_arRound"
      ],
      "execution_count": 18,
      "outputs": [
        {
          "output_type": "execute_result",
          "data": {
            "text/plain": [
              "array([21.4, 24.6, 23.3, 21.3, 20.5, 20.3, 19.7, 19.6, 20.6, 23.2, 24.3,\n",
              "       20.7, 19.8, 19.6, 19. , 19. , 21.6, 25.8, 23.9, 22.1, 20.2, 20.1,\n",
              "       19.8, 19.6, 21.7, 24.8, 22.2, 21.5, 20.4, 20.1, 19.6, 19.2, 22.2,\n",
              "       27.5, 24.2, 20.9, 20. , 19.7, 19.4, 19.6, 21.8, 26.4, 24.2, 23.1,\n",
              "       20.5, 19.9, 19.5, 19.2, 21.9, 25.3, 22.5, 21. , 20.2, 20.2, 19.8,\n",
              "       19.9, 19.8, 21. , 22.9, 21.6, 20.4, 20. , 19.5, 19. , 21.2, 24.8,\n",
              "       23.2, 21. , 20.1, 19.6, 19.3, 19.1, 22.1, 25.4, 25.1, 22.9, 20.4,\n",
              "       20. , 19.6, 19.2, 21.9, 25.3, 25.5, 23.9, 21.1, 20.5, 20.1, 19.9,\n",
              "       23.1, 26. , 24.3, 21.7, 20.5, 20.2, 20. , 19.9, 21. , 24.2, 25. ,\n",
              "       23.1, 19.9, 19.7, 19.2, 19.3, 20.9, 24.5, 24. , 22.5, 19.9, 19.5,\n",
              "       19.3, 19.1, 20.5, 24.1, 23.1, 21.4, 19.6, 19.4, 19. , 18.7, 20.6,\n",
              "       24.4, 23.7, 21.1, 19.3, 19. , 18.8, 19.1, 20.2, 26.2, 24.1, 23. ,\n",
              "       20. , 20. , 19.8, 19.6, 20.7, 23.4, 24.9, 22.1, 20.1, 19.7, 18.7,\n",
              "       18.7, 20.4, 21.4, 22.5, 20.1, 19.1, 19.4, 19.4, 19.3, 20. , 23.1,\n",
              "       24.5, 22.2, 20.2, 19.2, 18.6, 18.6, 21.7, 26.6, 26.8, 24.1, 20.2,\n",
              "       19. , 18.5, 18.4, 21.2, 25.4, 24.5, 22.7, 19.9, 19.3, 19.1, 19. ,\n",
              "       21.6, 26.6, 24.8, 22.5, 19.9, 19. , 19.2, 18.6, 21.2, 26.3, 24.4,\n",
              "       22.9, 20. , 19.1, 18.8, 18.6, 21.2, 24.3, 22.1, 20.3, 19.1, 19.2,\n",
              "       18.8, 18.2, 21.4, 26.8, 25.7, 23.3, 19.6, 19.2, 19.1, 19.1, 20.1,\n",
              "       20.1, 22.4, 21.1, 19.7, 19.4, 19.3, 19.2, 21. , 25.5, 24.1, 22.2,\n",
              "       19.9, 19.5, 19.4, 19.6, 20. , 23.8, 22.5, 22.2, 20. , 19.9, 19. ,\n",
              "       18.8, 20.2, 21.3, 24.3, 20.9, 19.4, 19.2, 18.8, 18.1],\n",
              "      dtype=float32)"
            ]
          },
          "metadata": {
            "tags": []
          },
          "execution_count": 18
        }
      ]
    },
    {
      "cell_type": "code",
      "metadata": {
        "colab": {
          "base_uri": "https://localhost:8080/"
        },
        "id": "hx1FcGardYAz",
        "outputId": "44341e47-0001-4ac8-beca-57cada0d023a"
      },
      "source": [
        "date_arr"
      ],
      "execution_count": 19,
      "outputs": [
        {
          "output_type": "execute_result",
          "data": {
            "text/plain": [
              "array(['00:00:00-01/01/21', '03:00:00-01/01/21', '06:00:00-01/01/21',\n",
              "       '09:00:00-01/01/21', '12:00:00-01/01/21', '15:00:00-01/01/21',\n",
              "       '18:00:00-01/01/21', '21:00:00-01/01/21', '00:00:00-01/02/21',\n",
              "       '03:00:00-01/02/21', '06:00:00-01/02/21', '09:00:00-01/02/21',\n",
              "       '12:00:00-01/02/21', '15:00:00-01/02/21', '18:00:00-01/02/21',\n",
              "       '21:00:00-01/02/21', '00:00:00-01/03/21', '03:00:00-01/03/21',\n",
              "       '06:00:00-01/03/21', '09:00:00-01/03/21', '12:00:00-01/03/21',\n",
              "       '15:00:00-01/03/21', '18:00:00-01/03/21', '21:00:00-01/03/21',\n",
              "       '00:00:00-01/04/21', '03:00:00-01/04/21', '06:00:00-01/04/21',\n",
              "       '09:00:00-01/04/21', '12:00:00-01/04/21', '15:00:00-01/04/21',\n",
              "       '18:00:00-01/04/21', '21:00:00-01/04/21', '00:00:00-01/05/21',\n",
              "       '03:00:00-01/05/21', '06:00:00-01/05/21', '09:00:00-01/05/21',\n",
              "       '12:00:00-01/05/21', '15:00:00-01/05/21', '18:00:00-01/05/21',\n",
              "       '21:00:00-01/05/21', '00:00:00-01/06/21', '03:00:00-01/06/21',\n",
              "       '06:00:00-01/06/21', '09:00:00-01/06/21', '12:00:00-01/06/21',\n",
              "       '15:00:00-01/06/21', '18:00:00-01/06/21', '21:00:00-01/06/21',\n",
              "       '00:00:00-01/07/21', '03:00:00-01/07/21', '06:00:00-01/07/21',\n",
              "       '09:00:00-01/07/21', '12:00:00-01/07/21', '15:00:00-01/07/21',\n",
              "       '18:00:00-01/07/21', '21:00:00-01/07/21', '00:00:00-01/08/21',\n",
              "       '03:00:00-01/08/21', '06:00:00-01/08/21', '09:00:00-01/08/21',\n",
              "       '12:00:00-01/08/21', '15:00:00-01/08/21', '18:00:00-01/08/21',\n",
              "       '21:00:00-01/08/21', '00:00:00-01/09/21', '03:00:00-01/09/21',\n",
              "       '06:00:00-01/09/21', '09:00:00-01/09/21', '12:00:00-01/09/21',\n",
              "       '15:00:00-01/09/21', '18:00:00-01/09/21', '21:00:00-01/09/21',\n",
              "       '00:00:00-01/10/21', '03:00:00-01/10/21', '06:00:00-01/10/21',\n",
              "       '09:00:00-01/10/21', '12:00:00-01/10/21', '15:00:00-01/10/21',\n",
              "       '18:00:00-01/10/21', '21:00:00-01/10/21', '00:00:00-01/11/21',\n",
              "       '03:00:00-01/11/21', '06:00:00-01/11/21', '09:00:00-01/11/21',\n",
              "       '12:00:00-01/11/21', '15:00:00-01/11/21', '18:00:00-01/11/21',\n",
              "       '21:00:00-01/11/21', '00:00:00-01/12/21', '03:00:00-01/12/21',\n",
              "       '06:00:00-01/12/21', '09:00:00-01/12/21', '12:00:00-01/12/21',\n",
              "       '15:00:00-01/12/21', '18:00:00-01/12/21', '21:00:00-01/12/21',\n",
              "       '00:00:00-01/13/21', '03:00:00-01/13/21', '06:00:00-01/13/21',\n",
              "       '09:00:00-01/13/21', '12:00:00-01/13/21', '15:00:00-01/13/21',\n",
              "       '18:00:00-01/13/21', '21:00:00-01/13/21', '00:00:00-01/14/21',\n",
              "       '03:00:00-01/14/21', '06:00:00-01/14/21', '09:00:00-01/14/21',\n",
              "       '12:00:00-01/14/21', '15:00:00-01/14/21', '18:00:00-01/14/21',\n",
              "       '21:00:00-01/14/21', '00:00:00-01/15/21', '03:00:00-01/15/21',\n",
              "       '06:00:00-01/15/21', '09:00:00-01/15/21', '12:00:00-01/15/21',\n",
              "       '15:00:00-01/15/21', '18:00:00-01/15/21', '21:00:00-01/15/21',\n",
              "       '00:00:00-01/16/21', '03:00:00-01/16/21', '06:00:00-01/16/21',\n",
              "       '09:00:00-01/16/21', '12:00:00-01/16/21', '15:00:00-01/16/21',\n",
              "       '18:00:00-01/16/21', '21:00:00-01/16/21', '00:00:00-01/17/21',\n",
              "       '03:00:00-01/17/21', '06:00:00-01/17/21', '09:00:00-01/17/21',\n",
              "       '12:00:00-01/17/21', '15:00:00-01/17/21', '18:00:00-01/17/21',\n",
              "       '21:00:00-01/17/21', '00:00:00-01/18/21', '03:00:00-01/18/21',\n",
              "       '06:00:00-01/18/21', '09:00:00-01/18/21', '12:00:00-01/18/21',\n",
              "       '15:00:00-01/18/21', '18:00:00-01/18/21', '21:00:00-01/18/21',\n",
              "       '00:00:00-01/19/21', '03:00:00-01/19/21', '06:00:00-01/19/21',\n",
              "       '09:00:00-01/19/21', '12:00:00-01/19/21', '15:00:00-01/19/21',\n",
              "       '18:00:00-01/19/21', '21:00:00-01/19/21', '00:00:00-01/20/21',\n",
              "       '03:00:00-01/20/21', '06:00:00-01/20/21', '09:00:00-01/20/21',\n",
              "       '12:00:00-01/20/21', '15:00:00-01/20/21', '18:00:00-01/20/21',\n",
              "       '21:00:00-01/20/21', '00:00:00-01/21/21', '03:00:00-01/21/21',\n",
              "       '06:00:00-01/21/21', '09:00:00-01/21/21', '12:00:00-01/21/21',\n",
              "       '15:00:00-01/21/21', '18:00:00-01/21/21', '21:00:00-01/21/21',\n",
              "       '00:00:00-01/22/21', '03:00:00-01/22/21', '06:00:00-01/22/21',\n",
              "       '09:00:00-01/22/21', '12:00:00-01/22/21', '15:00:00-01/22/21',\n",
              "       '18:00:00-01/22/21', '21:00:00-01/22/21', '00:00:00-01/23/21',\n",
              "       '03:00:00-01/23/21', '06:00:00-01/23/21', '09:00:00-01/23/21',\n",
              "       '12:00:00-01/23/21', '15:00:00-01/23/21', '18:00:00-01/23/21',\n",
              "       '21:00:00-01/23/21', '00:00:00-01/24/21', '03:00:00-01/24/21',\n",
              "       '06:00:00-01/24/21', '09:00:00-01/24/21', '12:00:00-01/24/21',\n",
              "       '15:00:00-01/24/21', '18:00:00-01/24/21', '21:00:00-01/24/21',\n",
              "       '00:00:00-01/25/21', '03:00:00-01/25/21', '06:00:00-01/25/21',\n",
              "       '09:00:00-01/25/21', '12:00:00-01/25/21', '15:00:00-01/25/21',\n",
              "       '18:00:00-01/25/21', '21:00:00-01/25/21', '00:00:00-01/26/21',\n",
              "       '03:00:00-01/26/21', '06:00:00-01/26/21', '09:00:00-01/26/21',\n",
              "       '12:00:00-01/26/21', '15:00:00-01/26/21', '18:00:00-01/26/21',\n",
              "       '21:00:00-01/26/21', '00:00:00-01/27/21', '03:00:00-01/27/21',\n",
              "       '06:00:00-01/27/21', '09:00:00-01/27/21', '12:00:00-01/27/21',\n",
              "       '15:00:00-01/27/21', '18:00:00-01/27/21', '21:00:00-01/27/21',\n",
              "       '00:00:00-01/28/21', '03:00:00-01/28/21', '06:00:00-01/28/21',\n",
              "       '09:00:00-01/28/21', '12:00:00-01/28/21', '15:00:00-01/28/21',\n",
              "       '18:00:00-01/28/21', '21:00:00-01/28/21', '00:00:00-01/29/21',\n",
              "       '03:00:00-01/29/21', '06:00:00-01/29/21', '09:00:00-01/29/21',\n",
              "       '12:00:00-01/29/21', '15:00:00-01/29/21', '18:00:00-01/29/21',\n",
              "       '21:00:00-01/29/21', '00:00:00-01/30/21', '03:00:00-01/30/21',\n",
              "       '06:00:00-01/30/21', '09:00:00-01/30/21', '12:00:00-01/30/21',\n",
              "       '15:00:00-01/30/21', '18:00:00-01/30/21', '21:00:00-01/30/21'],\n",
              "      dtype='<U17')"
            ]
          },
          "metadata": {
            "tags": []
          },
          "execution_count": 19
        }
      ]
    },
    {
      "cell_type": "code",
      "metadata": {
        "colab": {
          "base_uri": "https://localhost:8080/",
          "height": 542
        },
        "id": "M3cPPuK4aCmp",
        "outputId": "d70cd180-3a6d-47f7-daaf-14109ee86dec"
      },
      "source": [
        "import pandas as pd\n",
        "\n",
        "dates = pd.Series(date_arr)\n",
        "temperature = pd.Series(t_arRound)\n",
        "\n",
        "df = pd.concat([dates, temperature], axis=1)\n",
        "df.columns = ['dates', 'temperature']\n",
        "\n",
        "import plotly.express as px\n",
        "\n",
        "fig = px.line(df, x='dates', y='temperature', \n",
        "              title='Air Temperature on Malang City - GLDAS-2.1 (NASA)')\n",
        "\n",
        "fig.show()"
      ],
      "execution_count": 20,
      "outputs": [
        {
          "output_type": "display_data",
          "data": {
            "text/html": [
              "<html>\n",
              "<head><meta charset=\"utf-8\" /></head>\n",
              "<body>\n",
              "    <div>\n",
              "            <script src=\"https://cdnjs.cloudflare.com/ajax/libs/mathjax/2.7.5/MathJax.js?config=TeX-AMS-MML_SVG\"></script><script type=\"text/javascript\">if (window.MathJax) {MathJax.Hub.Config({SVG: {font: \"STIX-Web\"}});}</script>\n",
              "                <script type=\"text/javascript\">window.PlotlyConfig = {MathJaxConfig: 'local'};</script>\n",
              "        <script src=\"https://cdn.plot.ly/plotly-latest.min.js\"></script>    \n",
              "            <div id=\"4db8acab-dcf4-4652-b8ad-85ac8c03d8d6\" class=\"plotly-graph-div\" style=\"height:525px; width:100%;\"></div>\n",
              "            <script type=\"text/javascript\">\n",
              "                \n",
              "                    window.PLOTLYENV=window.PLOTLYENV || {};\n",
              "                    \n",
              "                if (document.getElementById(\"4db8acab-dcf4-4652-b8ad-85ac8c03d8d6\")) {\n",
              "                    Plotly.newPlot(\n",
              "                        '4db8acab-dcf4-4652-b8ad-85ac8c03d8d6',\n",
              "                        [{\"hoverlabel\": {\"namelength\": 0}, \"hovertemplate\": \"dates=%{x}<br>temperature=%{y}\", \"legendgroup\": \"\", \"line\": {\"color\": \"#636efa\", \"dash\": \"solid\"}, \"mode\": \"lines\", \"name\": \"\", \"showlegend\": false, \"type\": \"scatter\", \"x\": [\"00:00:00-01/01/21\", \"03:00:00-01/01/21\", \"06:00:00-01/01/21\", \"09:00:00-01/01/21\", \"12:00:00-01/01/21\", \"15:00:00-01/01/21\", \"18:00:00-01/01/21\", \"21:00:00-01/01/21\", \"00:00:00-01/02/21\", \"03:00:00-01/02/21\", \"06:00:00-01/02/21\", \"09:00:00-01/02/21\", \"12:00:00-01/02/21\", \"15:00:00-01/02/21\", \"18:00:00-01/02/21\", \"21:00:00-01/02/21\", \"00:00:00-01/03/21\", \"03:00:00-01/03/21\", \"06:00:00-01/03/21\", \"09:00:00-01/03/21\", \"12:00:00-01/03/21\", \"15:00:00-01/03/21\", \"18:00:00-01/03/21\", \"21:00:00-01/03/21\", \"00:00:00-01/04/21\", \"03:00:00-01/04/21\", \"06:00:00-01/04/21\", \"09:00:00-01/04/21\", \"12:00:00-01/04/21\", \"15:00:00-01/04/21\", \"18:00:00-01/04/21\", \"21:00:00-01/04/21\", \"00:00:00-01/05/21\", \"03:00:00-01/05/21\", \"06:00:00-01/05/21\", \"09:00:00-01/05/21\", \"12:00:00-01/05/21\", \"15:00:00-01/05/21\", \"18:00:00-01/05/21\", \"21:00:00-01/05/21\", \"00:00:00-01/06/21\", \"03:00:00-01/06/21\", \"06:00:00-01/06/21\", \"09:00:00-01/06/21\", \"12:00:00-01/06/21\", \"15:00:00-01/06/21\", \"18:00:00-01/06/21\", \"21:00:00-01/06/21\", \"00:00:00-01/07/21\", \"03:00:00-01/07/21\", \"06:00:00-01/07/21\", \"09:00:00-01/07/21\", \"12:00:00-01/07/21\", \"15:00:00-01/07/21\", \"18:00:00-01/07/21\", \"21:00:00-01/07/21\", \"00:00:00-01/08/21\", \"03:00:00-01/08/21\", \"06:00:00-01/08/21\", \"09:00:00-01/08/21\", \"12:00:00-01/08/21\", \"15:00:00-01/08/21\", \"18:00:00-01/08/21\", \"21:00:00-01/08/21\", \"00:00:00-01/09/21\", \"03:00:00-01/09/21\", \"06:00:00-01/09/21\", \"09:00:00-01/09/21\", \"12:00:00-01/09/21\", \"15:00:00-01/09/21\", \"18:00:00-01/09/21\", \"21:00:00-01/09/21\", \"00:00:00-01/10/21\", \"03:00:00-01/10/21\", \"06:00:00-01/10/21\", \"09:00:00-01/10/21\", \"12:00:00-01/10/21\", \"15:00:00-01/10/21\", \"18:00:00-01/10/21\", \"21:00:00-01/10/21\", \"00:00:00-01/11/21\", \"03:00:00-01/11/21\", \"06:00:00-01/11/21\", \"09:00:00-01/11/21\", \"12:00:00-01/11/21\", \"15:00:00-01/11/21\", \"18:00:00-01/11/21\", \"21:00:00-01/11/21\", \"00:00:00-01/12/21\", \"03:00:00-01/12/21\", \"06:00:00-01/12/21\", \"09:00:00-01/12/21\", \"12:00:00-01/12/21\", \"15:00:00-01/12/21\", \"18:00:00-01/12/21\", \"21:00:00-01/12/21\", \"00:00:00-01/13/21\", \"03:00:00-01/13/21\", \"06:00:00-01/13/21\", \"09:00:00-01/13/21\", \"12:00:00-01/13/21\", \"15:00:00-01/13/21\", \"18:00:00-01/13/21\", \"21:00:00-01/13/21\", \"00:00:00-01/14/21\", \"03:00:00-01/14/21\", \"06:00:00-01/14/21\", \"09:00:00-01/14/21\", \"12:00:00-01/14/21\", \"15:00:00-01/14/21\", \"18:00:00-01/14/21\", \"21:00:00-01/14/21\", \"00:00:00-01/15/21\", \"03:00:00-01/15/21\", \"06:00:00-01/15/21\", \"09:00:00-01/15/21\", \"12:00:00-01/15/21\", \"15:00:00-01/15/21\", \"18:00:00-01/15/21\", \"21:00:00-01/15/21\", \"00:00:00-01/16/21\", \"03:00:00-01/16/21\", \"06:00:00-01/16/21\", \"09:00:00-01/16/21\", \"12:00:00-01/16/21\", \"15:00:00-01/16/21\", \"18:00:00-01/16/21\", \"21:00:00-01/16/21\", \"00:00:00-01/17/21\", \"03:00:00-01/17/21\", \"06:00:00-01/17/21\", \"09:00:00-01/17/21\", \"12:00:00-01/17/21\", \"15:00:00-01/17/21\", \"18:00:00-01/17/21\", \"21:00:00-01/17/21\", \"00:00:00-01/18/21\", \"03:00:00-01/18/21\", \"06:00:00-01/18/21\", \"09:00:00-01/18/21\", \"12:00:00-01/18/21\", \"15:00:00-01/18/21\", \"18:00:00-01/18/21\", \"21:00:00-01/18/21\", \"00:00:00-01/19/21\", \"03:00:00-01/19/21\", \"06:00:00-01/19/21\", \"09:00:00-01/19/21\", \"12:00:00-01/19/21\", \"15:00:00-01/19/21\", \"18:00:00-01/19/21\", \"21:00:00-01/19/21\", \"00:00:00-01/20/21\", \"03:00:00-01/20/21\", \"06:00:00-01/20/21\", \"09:00:00-01/20/21\", \"12:00:00-01/20/21\", \"15:00:00-01/20/21\", \"18:00:00-01/20/21\", \"21:00:00-01/20/21\", \"00:00:00-01/21/21\", \"03:00:00-01/21/21\", \"06:00:00-01/21/21\", \"09:00:00-01/21/21\", \"12:00:00-01/21/21\", \"15:00:00-01/21/21\", \"18:00:00-01/21/21\", \"21:00:00-01/21/21\", \"00:00:00-01/22/21\", \"03:00:00-01/22/21\", \"06:00:00-01/22/21\", \"09:00:00-01/22/21\", \"12:00:00-01/22/21\", \"15:00:00-01/22/21\", \"18:00:00-01/22/21\", \"21:00:00-01/22/21\", \"00:00:00-01/23/21\", \"03:00:00-01/23/21\", \"06:00:00-01/23/21\", \"09:00:00-01/23/21\", \"12:00:00-01/23/21\", \"15:00:00-01/23/21\", \"18:00:00-01/23/21\", \"21:00:00-01/23/21\", \"00:00:00-01/24/21\", \"03:00:00-01/24/21\", \"06:00:00-01/24/21\", \"09:00:00-01/24/21\", \"12:00:00-01/24/21\", \"15:00:00-01/24/21\", \"18:00:00-01/24/21\", \"21:00:00-01/24/21\", \"00:00:00-01/25/21\", \"03:00:00-01/25/21\", \"06:00:00-01/25/21\", \"09:00:00-01/25/21\", \"12:00:00-01/25/21\", \"15:00:00-01/25/21\", \"18:00:00-01/25/21\", \"21:00:00-01/25/21\", \"00:00:00-01/26/21\", \"03:00:00-01/26/21\", \"06:00:00-01/26/21\", \"09:00:00-01/26/21\", \"12:00:00-01/26/21\", \"15:00:00-01/26/21\", \"18:00:00-01/26/21\", \"21:00:00-01/26/21\", \"00:00:00-01/27/21\", \"03:00:00-01/27/21\", \"06:00:00-01/27/21\", \"09:00:00-01/27/21\", \"12:00:00-01/27/21\", \"15:00:00-01/27/21\", \"18:00:00-01/27/21\", \"21:00:00-01/27/21\", \"00:00:00-01/28/21\", \"03:00:00-01/28/21\", \"06:00:00-01/28/21\", \"09:00:00-01/28/21\", \"12:00:00-01/28/21\", \"15:00:00-01/28/21\", \"18:00:00-01/28/21\", \"21:00:00-01/28/21\", \"00:00:00-01/29/21\", \"03:00:00-01/29/21\", \"06:00:00-01/29/21\", \"09:00:00-01/29/21\", \"12:00:00-01/29/21\", \"15:00:00-01/29/21\", \"18:00:00-01/29/21\", \"21:00:00-01/29/21\", \"00:00:00-01/30/21\", \"03:00:00-01/30/21\", \"06:00:00-01/30/21\", \"09:00:00-01/30/21\", \"12:00:00-01/30/21\", \"15:00:00-01/30/21\", \"18:00:00-01/30/21\", \"21:00:00-01/30/21\"], \"xaxis\": \"x\", \"y\": [21.399999618530273, 24.600000381469727, 23.299999237060547, 21.299999237060547, 20.5, 20.299999237060547, 19.700000762939453, 19.600000381469727, 20.600000381469727, 23.200000762939453, 24.299999237060547, 20.700000762939453, 19.799999237060547, 19.600000381469727, 19.0, 19.0, 21.600000381469727, 25.799999237060547, 23.899999618530273, 22.100000381469727, 20.200000762939453, 20.100000381469727, 19.799999237060547, 19.600000381469727, 21.700000762939453, 24.799999237060547, 22.200000762939453, 21.5, 20.399999618530273, 20.100000381469727, 19.600000381469727, 19.200000762939453, 22.200000762939453, 27.5, 24.200000762939453, 20.899999618530273, 20.0, 19.700000762939453, 19.399999618530273, 19.600000381469727, 21.799999237060547, 26.399999618530273, 24.200000762939453, 23.100000381469727, 20.5, 19.899999618530273, 19.5, 19.200000762939453, 21.899999618530273, 25.299999237060547, 22.5, 21.0, 20.200000762939453, 20.200000762939453, 19.799999237060547, 19.899999618530273, 19.799999237060547, 21.0, 22.899999618530273, 21.600000381469727, 20.399999618530273, 20.0, 19.5, 19.0, 21.200000762939453, 24.799999237060547, 23.200000762939453, 21.0, 20.100000381469727, 19.600000381469727, 19.299999237060547, 19.100000381469727, 22.100000381469727, 25.399999618530273, 25.100000381469727, 22.899999618530273, 20.399999618530273, 20.0, 19.600000381469727, 19.200000762939453, 21.899999618530273, 25.299999237060547, 25.5, 23.899999618530273, 21.100000381469727, 20.5, 20.100000381469727, 19.899999618530273, 23.100000381469727, 26.0, 24.299999237060547, 21.700000762939453, 20.5, 20.200000762939453, 20.0, 19.899999618530273, 21.0, 24.200000762939453, 25.0, 23.100000381469727, 19.899999618530273, 19.700000762939453, 19.200000762939453, 19.299999237060547, 20.899999618530273, 24.5, 24.0, 22.5, 19.899999618530273, 19.5, 19.299999237060547, 19.100000381469727, 20.5, 24.100000381469727, 23.100000381469727, 21.399999618530273, 19.600000381469727, 19.399999618530273, 19.0, 18.700000762939453, 20.600000381469727, 24.399999618530273, 23.700000762939453, 21.100000381469727, 19.299999237060547, 19.0, 18.799999237060547, 19.100000381469727, 20.200000762939453, 26.200000762939453, 24.100000381469727, 23.0, 20.0, 20.0, 19.799999237060547, 19.600000381469727, 20.700000762939453, 23.399999618530273, 24.899999618530273, 22.100000381469727, 20.100000381469727, 19.700000762939453, 18.700000762939453, 18.700000762939453, 20.399999618530273, 21.399999618530273, 22.5, 20.100000381469727, 19.100000381469727, 19.399999618530273, 19.399999618530273, 19.299999237060547, 20.0, 23.100000381469727, 24.5, 22.200000762939453, 20.200000762939453, 19.200000762939453, 18.600000381469727, 18.600000381469727, 21.700000762939453, 26.600000381469727, 26.799999237060547, 24.100000381469727, 20.200000762939453, 19.0, 18.5, 18.399999618530273, 21.200000762939453, 25.399999618530273, 24.5, 22.700000762939453, 19.899999618530273, 19.299999237060547, 19.100000381469727, 19.0, 21.600000381469727, 26.600000381469727, 24.799999237060547, 22.5, 19.899999618530273, 19.0, 19.200000762939453, 18.600000381469727, 21.200000762939453, 26.299999237060547, 24.399999618530273, 22.899999618530273, 20.0, 19.100000381469727, 18.799999237060547, 18.600000381469727, 21.200000762939453, 24.299999237060547, 22.100000381469727, 20.299999237060547, 19.100000381469727, 19.200000762939453, 18.799999237060547, 18.200000762939453, 21.399999618530273, 26.799999237060547, 25.700000762939453, 23.299999237060547, 19.600000381469727, 19.200000762939453, 19.100000381469727, 19.100000381469727, 20.100000381469727, 20.100000381469727, 22.399999618530273, 21.100000381469727, 19.700000762939453, 19.399999618530273, 19.299999237060547, 19.200000762939453, 21.0, 25.5, 24.100000381469727, 22.200000762939453, 19.899999618530273, 19.5, 19.399999618530273, 19.600000381469727, 20.0, 23.799999237060547, 22.5, 22.200000762939453, 20.0, 19.899999618530273, 19.0, 18.799999237060547, 20.200000762939453, 21.299999237060547, 24.299999237060547, 20.899999618530273, 19.399999618530273, 19.200000762939453, 18.799999237060547, 18.100000381469727], \"yaxis\": \"y\"}],\n",
              "                        {\"legend\": {\"tracegroupgap\": 0}, \"template\": {\"data\": {\"bar\": [{\"error_x\": {\"color\": \"#2a3f5f\"}, \"error_y\": {\"color\": \"#2a3f5f\"}, \"marker\": {\"line\": {\"color\": \"#E5ECF6\", \"width\": 0.5}}, \"type\": \"bar\"}], \"barpolar\": [{\"marker\": {\"line\": {\"color\": \"#E5ECF6\", \"width\": 0.5}}, \"type\": \"barpolar\"}], \"carpet\": [{\"aaxis\": {\"endlinecolor\": \"#2a3f5f\", \"gridcolor\": \"white\", \"linecolor\": \"white\", \"minorgridcolor\": \"white\", \"startlinecolor\": \"#2a3f5f\"}, \"baxis\": {\"endlinecolor\": \"#2a3f5f\", \"gridcolor\": \"white\", \"linecolor\": \"white\", \"minorgridcolor\": \"white\", \"startlinecolor\": \"#2a3f5f\"}, \"type\": \"carpet\"}], \"choropleth\": [{\"colorbar\": {\"outlinewidth\": 0, \"ticks\": \"\"}, \"type\": \"choropleth\"}], \"contour\": [{\"colorbar\": {\"outlinewidth\": 0, \"ticks\": \"\"}, \"colorscale\": [[0.0, \"#0d0887\"], [0.1111111111111111, \"#46039f\"], [0.2222222222222222, \"#7201a8\"], [0.3333333333333333, \"#9c179e\"], [0.4444444444444444, \"#bd3786\"], [0.5555555555555556, \"#d8576b\"], [0.6666666666666666, \"#ed7953\"], [0.7777777777777778, \"#fb9f3a\"], [0.8888888888888888, \"#fdca26\"], [1.0, \"#f0f921\"]], \"type\": \"contour\"}], \"contourcarpet\": [{\"colorbar\": {\"outlinewidth\": 0, \"ticks\": \"\"}, \"type\": \"contourcarpet\"}], \"heatmap\": [{\"colorbar\": {\"outlinewidth\": 0, \"ticks\": \"\"}, \"colorscale\": [[0.0, \"#0d0887\"], [0.1111111111111111, \"#46039f\"], [0.2222222222222222, \"#7201a8\"], [0.3333333333333333, \"#9c179e\"], [0.4444444444444444, \"#bd3786\"], [0.5555555555555556, \"#d8576b\"], [0.6666666666666666, \"#ed7953\"], [0.7777777777777778, \"#fb9f3a\"], [0.8888888888888888, \"#fdca26\"], [1.0, \"#f0f921\"]], \"type\": \"heatmap\"}], \"heatmapgl\": [{\"colorbar\": {\"outlinewidth\": 0, \"ticks\": \"\"}, \"colorscale\": [[0.0, \"#0d0887\"], [0.1111111111111111, \"#46039f\"], [0.2222222222222222, \"#7201a8\"], [0.3333333333333333, \"#9c179e\"], [0.4444444444444444, \"#bd3786\"], [0.5555555555555556, \"#d8576b\"], [0.6666666666666666, \"#ed7953\"], [0.7777777777777778, \"#fb9f3a\"], [0.8888888888888888, \"#fdca26\"], [1.0, \"#f0f921\"]], \"type\": \"heatmapgl\"}], \"histogram\": [{\"marker\": {\"colorbar\": {\"outlinewidth\": 0, \"ticks\": \"\"}}, \"type\": \"histogram\"}], \"histogram2d\": [{\"colorbar\": {\"outlinewidth\": 0, \"ticks\": \"\"}, \"colorscale\": [[0.0, \"#0d0887\"], [0.1111111111111111, \"#46039f\"], [0.2222222222222222, \"#7201a8\"], [0.3333333333333333, \"#9c179e\"], [0.4444444444444444, \"#bd3786\"], [0.5555555555555556, \"#d8576b\"], [0.6666666666666666, \"#ed7953\"], [0.7777777777777778, \"#fb9f3a\"], [0.8888888888888888, \"#fdca26\"], [1.0, \"#f0f921\"]], \"type\": \"histogram2d\"}], \"histogram2dcontour\": [{\"colorbar\": {\"outlinewidth\": 0, \"ticks\": \"\"}, \"colorscale\": [[0.0, \"#0d0887\"], [0.1111111111111111, \"#46039f\"], [0.2222222222222222, \"#7201a8\"], [0.3333333333333333, \"#9c179e\"], [0.4444444444444444, \"#bd3786\"], [0.5555555555555556, \"#d8576b\"], [0.6666666666666666, \"#ed7953\"], [0.7777777777777778, \"#fb9f3a\"], [0.8888888888888888, \"#fdca26\"], [1.0, \"#f0f921\"]], \"type\": \"histogram2dcontour\"}], \"mesh3d\": [{\"colorbar\": {\"outlinewidth\": 0, \"ticks\": \"\"}, \"type\": \"mesh3d\"}], \"parcoords\": [{\"line\": {\"colorbar\": {\"outlinewidth\": 0, \"ticks\": \"\"}}, \"type\": \"parcoords\"}], \"pie\": [{\"automargin\": true, \"type\": \"pie\"}], \"scatter\": [{\"marker\": {\"colorbar\": {\"outlinewidth\": 0, \"ticks\": \"\"}}, \"type\": \"scatter\"}], \"scatter3d\": [{\"line\": {\"colorbar\": {\"outlinewidth\": 0, \"ticks\": \"\"}}, \"marker\": {\"colorbar\": {\"outlinewidth\": 0, \"ticks\": \"\"}}, \"type\": \"scatter3d\"}], \"scattercarpet\": [{\"marker\": {\"colorbar\": {\"outlinewidth\": 0, \"ticks\": \"\"}}, \"type\": \"scattercarpet\"}], \"scattergeo\": [{\"marker\": {\"colorbar\": {\"outlinewidth\": 0, \"ticks\": \"\"}}, \"type\": \"scattergeo\"}], \"scattergl\": [{\"marker\": {\"colorbar\": {\"outlinewidth\": 0, \"ticks\": \"\"}}, \"type\": \"scattergl\"}], \"scattermapbox\": [{\"marker\": {\"colorbar\": {\"outlinewidth\": 0, \"ticks\": \"\"}}, \"type\": \"scattermapbox\"}], \"scatterpolar\": [{\"marker\": {\"colorbar\": {\"outlinewidth\": 0, \"ticks\": \"\"}}, \"type\": \"scatterpolar\"}], \"scatterpolargl\": [{\"marker\": {\"colorbar\": {\"outlinewidth\": 0, \"ticks\": \"\"}}, \"type\": \"scatterpolargl\"}], \"scatterternary\": [{\"marker\": {\"colorbar\": {\"outlinewidth\": 0, \"ticks\": \"\"}}, \"type\": \"scatterternary\"}], \"surface\": [{\"colorbar\": {\"outlinewidth\": 0, \"ticks\": \"\"}, \"colorscale\": [[0.0, \"#0d0887\"], [0.1111111111111111, \"#46039f\"], [0.2222222222222222, \"#7201a8\"], [0.3333333333333333, \"#9c179e\"], [0.4444444444444444, \"#bd3786\"], [0.5555555555555556, \"#d8576b\"], [0.6666666666666666, \"#ed7953\"], [0.7777777777777778, \"#fb9f3a\"], [0.8888888888888888, \"#fdca26\"], [1.0, \"#f0f921\"]], \"type\": \"surface\"}], \"table\": [{\"cells\": {\"fill\": {\"color\": \"#EBF0F8\"}, \"line\": {\"color\": \"white\"}}, \"header\": {\"fill\": {\"color\": \"#C8D4E3\"}, \"line\": {\"color\": \"white\"}}, \"type\": \"table\"}]}, \"layout\": {\"annotationdefaults\": {\"arrowcolor\": \"#2a3f5f\", \"arrowhead\": 0, \"arrowwidth\": 1}, \"coloraxis\": {\"colorbar\": {\"outlinewidth\": 0, \"ticks\": \"\"}}, \"colorscale\": {\"diverging\": [[0, \"#8e0152\"], [0.1, \"#c51b7d\"], [0.2, \"#de77ae\"], [0.3, \"#f1b6da\"], [0.4, \"#fde0ef\"], [0.5, \"#f7f7f7\"], [0.6, \"#e6f5d0\"], [0.7, \"#b8e186\"], [0.8, \"#7fbc41\"], [0.9, \"#4d9221\"], [1, \"#276419\"]], \"sequential\": [[0.0, \"#0d0887\"], [0.1111111111111111, \"#46039f\"], [0.2222222222222222, \"#7201a8\"], [0.3333333333333333, \"#9c179e\"], [0.4444444444444444, \"#bd3786\"], [0.5555555555555556, \"#d8576b\"], [0.6666666666666666, \"#ed7953\"], [0.7777777777777778, \"#fb9f3a\"], [0.8888888888888888, \"#fdca26\"], [1.0, \"#f0f921\"]], \"sequentialminus\": [[0.0, \"#0d0887\"], [0.1111111111111111, \"#46039f\"], [0.2222222222222222, \"#7201a8\"], [0.3333333333333333, \"#9c179e\"], [0.4444444444444444, \"#bd3786\"], [0.5555555555555556, \"#d8576b\"], [0.6666666666666666, \"#ed7953\"], [0.7777777777777778, \"#fb9f3a\"], [0.8888888888888888, \"#fdca26\"], [1.0, \"#f0f921\"]]}, \"colorway\": [\"#636efa\", \"#EF553B\", \"#00cc96\", \"#ab63fa\", \"#FFA15A\", \"#19d3f3\", \"#FF6692\", \"#B6E880\", \"#FF97FF\", \"#FECB52\"], \"font\": {\"color\": \"#2a3f5f\"}, \"geo\": {\"bgcolor\": \"white\", \"lakecolor\": \"white\", \"landcolor\": \"#E5ECF6\", \"showlakes\": true, \"showland\": true, \"subunitcolor\": \"white\"}, \"hoverlabel\": {\"align\": \"left\"}, \"hovermode\": \"closest\", \"mapbox\": {\"style\": \"light\"}, \"paper_bgcolor\": \"white\", \"plot_bgcolor\": \"#E5ECF6\", \"polar\": {\"angularaxis\": {\"gridcolor\": \"white\", \"linecolor\": \"white\", \"ticks\": \"\"}, \"bgcolor\": \"#E5ECF6\", \"radialaxis\": {\"gridcolor\": \"white\", \"linecolor\": \"white\", \"ticks\": \"\"}}, \"scene\": {\"xaxis\": {\"backgroundcolor\": \"#E5ECF6\", \"gridcolor\": \"white\", \"gridwidth\": 2, \"linecolor\": \"white\", \"showbackground\": true, \"ticks\": \"\", \"zerolinecolor\": \"white\"}, \"yaxis\": {\"backgroundcolor\": \"#E5ECF6\", \"gridcolor\": \"white\", \"gridwidth\": 2, \"linecolor\": \"white\", \"showbackground\": true, \"ticks\": \"\", \"zerolinecolor\": \"white\"}, \"zaxis\": {\"backgroundcolor\": \"#E5ECF6\", \"gridcolor\": \"white\", \"gridwidth\": 2, \"linecolor\": \"white\", \"showbackground\": true, \"ticks\": \"\", \"zerolinecolor\": \"white\"}}, \"shapedefaults\": {\"line\": {\"color\": \"#2a3f5f\"}}, \"ternary\": {\"aaxis\": {\"gridcolor\": \"white\", \"linecolor\": \"white\", \"ticks\": \"\"}, \"baxis\": {\"gridcolor\": \"white\", \"linecolor\": \"white\", \"ticks\": \"\"}, \"bgcolor\": \"#E5ECF6\", \"caxis\": {\"gridcolor\": \"white\", \"linecolor\": \"white\", \"ticks\": \"\"}}, \"title\": {\"x\": 0.05}, \"xaxis\": {\"automargin\": true, \"gridcolor\": \"white\", \"linecolor\": \"white\", \"ticks\": \"\", \"title\": {\"standoff\": 15}, \"zerolinecolor\": \"white\", \"zerolinewidth\": 2}, \"yaxis\": {\"automargin\": true, \"gridcolor\": \"white\", \"linecolor\": \"white\", \"ticks\": \"\", \"title\": {\"standoff\": 15}, \"zerolinecolor\": \"white\", \"zerolinewidth\": 2}}}, \"title\": {\"text\": \"Air Temperature on Malang City - GLDAS-2.1 (NASA)\"}, \"xaxis\": {\"anchor\": \"y\", \"domain\": [0.0, 1.0], \"title\": {\"text\": \"dates\"}}, \"yaxis\": {\"anchor\": \"x\", \"domain\": [0.0, 1.0], \"title\": {\"text\": \"temperature\"}}},\n",
              "                        {\"responsive\": true}\n",
              "                    ).then(function(){\n",
              "                            \n",
              "var gd = document.getElementById('4db8acab-dcf4-4652-b8ad-85ac8c03d8d6');\n",
              "var x = new MutationObserver(function (mutations, observer) {{\n",
              "        var display = window.getComputedStyle(gd).display;\n",
              "        if (!display || display === 'none') {{\n",
              "            console.log([gd, 'removed!']);\n",
              "            Plotly.purge(gd);\n",
              "            observer.disconnect();\n",
              "        }}\n",
              "}});\n",
              "\n",
              "// Listen for the removal of the full notebook cells\n",
              "var notebookContainer = gd.closest('#notebook-container');\n",
              "if (notebookContainer) {{\n",
              "    x.observe(notebookContainer, {childList: true});\n",
              "}}\n",
              "\n",
              "// Listen for the clearing of the current output cell\n",
              "var outputEl = gd.closest('.output');\n",
              "if (outputEl) {{\n",
              "    x.observe(outputEl, {childList: true});\n",
              "}}\n",
              "\n",
              "                        })\n",
              "                };\n",
              "                \n",
              "            </script>\n",
              "        </div>\n",
              "</body>\n",
              "</html>"
            ]
          },
          "metadata": {
            "tags": []
          }
        }
      ]
    }
  ]
}