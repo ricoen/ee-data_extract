{
  "nbformat": 4,
  "nbformat_minor": 0,
  "metadata": {
    "colab": {
      "provenance": [],
      "authorship_tag": "ABX9TyNWMNyKKNPBp/7O1QrVCR/A",
      "include_colab_link": true
    },
    "kernelspec": {
      "name": "python3",
      "display_name": "Python 3"
    },
    "language_info": {
      "name": "python"
    }
  },
  "cells": [
    {
      "cell_type": "markdown",
      "metadata": {
        "id": "view-in-github",
        "colab_type": "text"
      },
      "source": [
        "<a href=\"https://colab.research.google.com/github/ricoen/google-ee-data-extraction/blob/main/ee_data_extraction.ipynb\" target=\"_parent\"><img src=\"https://colab.research.google.com/assets/colab-badge.svg\" alt=\"Open In Colab\"/></a>"
      ]
    },
    {
      "cell_type": "code",
      "execution_count": 1,
      "metadata": {
        "colab": {
          "base_uri": "https://localhost:8080/"
        },
        "id": "nb5SDVEZItPA",
        "outputId": "c2229fda-4912-4390-cb7f-86859a27a601"
      },
      "outputs": [
        {
          "output_type": "stream",
          "name": "stdout",
          "text": [
            "To authorize access needed by Earth Engine, open the following URL in a web browser and follow the instructions. If the web browser does not start automatically, please manually browse the URL below.\n",
            "\n",
            "    https://code.earthengine.google.com/client-auth?scopes=https%3A//www.googleapis.com/auth/earthengine%20https%3A//www.googleapis.com/auth/devstorage.full_control&request_id=6F0Y_UkL7W-tzh6b2jEypLagtQyWpymQSjyfdYzmkV4&tc=ZeYg5T1k21EOKyPJZlXPQhLmt4WNPwyfMQMq-_q5JLY&cc=poN3VLh0a8VOPpZNdgYlH3bDvMDnZDRbFnuLOeGyaZI\n",
            "\n",
            "The authorization workflow will generate a code, which you should paste in the box below.\n",
            "Enter verification code: 4/1AWtgzh62G9wxg4hXyMQeOS43XMvbZ0wIhclt3Dc-MurA8unD5tWzqyd1vQk\n",
            "\n",
            "Successfully saved authorization token.\n"
          ]
        }
      ],
      "source": [
        "import ee\n",
        "\n",
        "ee.Authenticate()"
      ]
    },
    {
      "cell_type": "code",
      "source": [
        "ee.Initialize()"
      ],
      "metadata": {
        "id": "8Zt347weI7cZ"
      },
      "execution_count": 2,
      "outputs": []
    },
    {
      "cell_type": "code",
      "source": [
        "dataset = ee.ImageCollection('NASA/GLDAS/V021/NOAH/G025/T3H')"
      ],
      "metadata": {
        "id": "L23ozfLuJAhq"
      },
      "execution_count": 77,
      "outputs": []
    },
    {
      "cell_type": "code",
      "source": [
        "start_date = \"2022-07-01\"\n",
        "stop_date = \"2022-07-31\"\n",
        "\n",
        "dataset = dataset.select(\"Tair_f_inst\").filterDate(start_date, stop_date)"
      ],
      "metadata": {
        "id": "TnG5InYJJEWO"
      },
      "execution_count": 78,
      "outputs": []
    },
    {
      "cell_type": "code",
      "source": [
        "lon = 112.611523\n",
        "lat = -7.951988\n",
        "\n",
        "poi = ee.Geometry.Point(lon, lat)"
      ],
      "metadata": {
        "id": "eJ3ERwlMOAYq"
      },
      "execution_count": 79,
      "outputs": []
    },
    {
      "cell_type": "code",
      "source": [
        "res = 27830\n",
        "\n",
        "t_air = dataset.mean().sample(poi, res).first().get('Tair_f_inst').getInfo()\n",
        "print('Average daytime air termperature at urban point:', round(t_air -273.15, 2), '°C')"
      ],
      "metadata": {
        "colab": {
          "base_uri": "https://localhost:8080/"
        },
        "id": "rr0GH25APOoh",
        "outputId": "59d8c150-7a90-4f82-e6a3-026e3fdd57ca"
      },
      "execution_count": 80,
      "outputs": [
        {
          "output_type": "stream",
          "name": "stdout",
          "text": [
            "Average daytime air termperature at urban point: 20.55 °C\n"
          ]
        }
      ]
    },
    {
      "cell_type": "code",
      "source": [
        "t_air_poi = dataset.getRegion(poi, res).getInfo()"
      ],
      "metadata": {
        "id": "jbO46MOUQJPK"
      },
      "execution_count": 81,
      "outputs": []
    },
    {
      "cell_type": "code",
      "source": [
        "t_air_poi[:3]"
      ],
      "metadata": {
        "colab": {
          "base_uri": "https://localhost:8080/"
        },
        "id": "bHmDQiwTQW0J",
        "outputId": "c028bd4a-4342-4041-8059-69e87c2f820c"
      },
      "execution_count": 82,
      "outputs": [
        {
          "output_type": "execute_result",
          "data": {
            "text/plain": [
              "[['id', 'longitude', 'latitude', 'time', 'Tair_f_inst'],\n",
              " ['A20220701_0000',\n",
              "  112.6255151784935,\n",
              "  -7.875036022469579,\n",
              "  1656633600000,\n",
              "  292.84552001953125],\n",
              " ['A20220701_0300',\n",
              "  112.6255151784935,\n",
              "  -7.875036022469579,\n",
              "  1656644400000,\n",
              "  298.3895263671875]]"
            ]
          },
          "metadata": {},
          "execution_count": 82
        }
      ]
    },
    {
      "cell_type": "code",
      "source": [
        "import pandas as pd\n",
        "from datetime import datetime as dt\n",
        "\n",
        "def ee_array_to_df(arr, list_of_bands):\n",
        "    \"\"\"Transforms client-side ee.Image.getRegion array to pandas.DataFrame.\"\"\"\n",
        "    df = pd.DataFrame(arr)\n",
        "\n",
        "    # Rearrange the header.\n",
        "    headers = df.iloc[0]\n",
        "    df = pd.DataFrame(df.values[1:], columns=headers)\n",
        "\n",
        "    # Remove rows without data inside.\n",
        "    df = df[['longitude', 'latitude', 'time', *list_of_bands]].dropna()\n",
        "\n",
        "    # Convert the data to numeric values.\n",
        "    for band in list_of_bands:\n",
        "        df[band] = pd.to_numeric(df[band], errors='coerce')\n",
        "\n",
        "    # Convert the time field into a datetime.\n",
        "    time = dataset.aggregate_array(\"system:time_start\").getInfo()\n",
        "    date = [x // 1000 for x in time]\n",
        "    captured = [dt.utcfromtimestamp(i).strftime(\"%c GMT\") for i in date]\n",
        "    captured = pd.Series(captured)\n",
        "    # df['datetime'] = pd.to_datetime(df['time'], unit='ms')\n",
        "    df[\"datetime\"] = pd.to_datetime(captured).dt.tz_convert(\"Asia/Jakarta\")\n",
        "\n",
        "    # Keep the columns of interest.\n",
        "    df = df[['time','datetime',  *list_of_bands]]\n",
        "\n",
        "    return df"
      ],
      "metadata": {
        "id": "Wo8WgLxsQpjl"
      },
      "execution_count": 83,
      "outputs": []
    },
    {
      "cell_type": "code",
      "source": [
        "t_air_df = ee_array_to_df(t_air_poi, ['Tair_f_inst'])"
      ],
      "metadata": {
        "id": "-_BOxfv0Q4XL"
      },
      "execution_count": 84,
      "outputs": []
    },
    {
      "cell_type": "code",
      "source": [
        "t_air_df.head()"
      ],
      "metadata": {
        "colab": {
          "base_uri": "https://localhost:8080/",
          "height": 206
        },
        "id": "PLtIuEYXRRuD",
        "outputId": "0d9db382-8f7a-44a6-83c4-91900b8cebcd"
      },
      "execution_count": 85,
      "outputs": [
        {
          "output_type": "execute_result",
          "data": {
            "text/plain": [
              "0           time                  datetime  Tair_f_inst\n",
              "0  1656633600000 2022-07-01 07:00:00+07:00   292.845520\n",
              "1  1656644400000 2022-07-01 10:00:00+07:00   298.389526\n",
              "2  1656655200000 2022-07-01 13:00:00+07:00   297.594788\n",
              "3  1656666000000 2022-07-01 16:00:00+07:00   295.278717\n",
              "4  1656676800000 2022-07-01 19:00:00+07:00   291.940063"
            ],
            "text/html": [
              "\n",
              "  <div id=\"df-8997db2c-13da-46ce-8e1c-c23dbfaa2141\">\n",
              "    <div class=\"colab-df-container\">\n",
              "      <div>\n",
              "<style scoped>\n",
              "    .dataframe tbody tr th:only-of-type {\n",
              "        vertical-align: middle;\n",
              "    }\n",
              "\n",
              "    .dataframe tbody tr th {\n",
              "        vertical-align: top;\n",
              "    }\n",
              "\n",
              "    .dataframe thead th {\n",
              "        text-align: right;\n",
              "    }\n",
              "</style>\n",
              "<table border=\"1\" class=\"dataframe\">\n",
              "  <thead>\n",
              "    <tr style=\"text-align: right;\">\n",
              "      <th></th>\n",
              "      <th>time</th>\n",
              "      <th>datetime</th>\n",
              "      <th>Tair_f_inst</th>\n",
              "    </tr>\n",
              "  </thead>\n",
              "  <tbody>\n",
              "    <tr>\n",
              "      <th>0</th>\n",
              "      <td>1656633600000</td>\n",
              "      <td>2022-07-01 07:00:00+07:00</td>\n",
              "      <td>292.845520</td>\n",
              "    </tr>\n",
              "    <tr>\n",
              "      <th>1</th>\n",
              "      <td>1656644400000</td>\n",
              "      <td>2022-07-01 10:00:00+07:00</td>\n",
              "      <td>298.389526</td>\n",
              "    </tr>\n",
              "    <tr>\n",
              "      <th>2</th>\n",
              "      <td>1656655200000</td>\n",
              "      <td>2022-07-01 13:00:00+07:00</td>\n",
              "      <td>297.594788</td>\n",
              "    </tr>\n",
              "    <tr>\n",
              "      <th>3</th>\n",
              "      <td>1656666000000</td>\n",
              "      <td>2022-07-01 16:00:00+07:00</td>\n",
              "      <td>295.278717</td>\n",
              "    </tr>\n",
              "    <tr>\n",
              "      <th>4</th>\n",
              "      <td>1656676800000</td>\n",
              "      <td>2022-07-01 19:00:00+07:00</td>\n",
              "      <td>291.940063</td>\n",
              "    </tr>\n",
              "  </tbody>\n",
              "</table>\n",
              "</div>\n",
              "      <button class=\"colab-df-convert\" onclick=\"convertToInteractive('df-8997db2c-13da-46ce-8e1c-c23dbfaa2141')\"\n",
              "              title=\"Convert this dataframe to an interactive table.\"\n",
              "              style=\"display:none;\">\n",
              "        \n",
              "  <svg xmlns=\"http://www.w3.org/2000/svg\" height=\"24px\"viewBox=\"0 0 24 24\"\n",
              "       width=\"24px\">\n",
              "    <path d=\"M0 0h24v24H0V0z\" fill=\"none\"/>\n",
              "    <path d=\"M18.56 5.44l.94 2.06.94-2.06 2.06-.94-2.06-.94-.94-2.06-.94 2.06-2.06.94zm-11 1L8.5 8.5l.94-2.06 2.06-.94-2.06-.94L8.5 2.5l-.94 2.06-2.06.94zm10 10l.94 2.06.94-2.06 2.06-.94-2.06-.94-.94-2.06-.94 2.06-2.06.94z\"/><path d=\"M17.41 7.96l-1.37-1.37c-.4-.4-.92-.59-1.43-.59-.52 0-1.04.2-1.43.59L10.3 9.45l-7.72 7.72c-.78.78-.78 2.05 0 2.83L4 21.41c.39.39.9.59 1.41.59.51 0 1.02-.2 1.41-.59l7.78-7.78 2.81-2.81c.8-.78.8-2.07 0-2.86zM5.41 20L4 18.59l7.72-7.72 1.47 1.35L5.41 20z\"/>\n",
              "  </svg>\n",
              "      </button>\n",
              "      \n",
              "  <style>\n",
              "    .colab-df-container {\n",
              "      display:flex;\n",
              "      flex-wrap:wrap;\n",
              "      gap: 12px;\n",
              "    }\n",
              "\n",
              "    .colab-df-convert {\n",
              "      background-color: #E8F0FE;\n",
              "      border: none;\n",
              "      border-radius: 50%;\n",
              "      cursor: pointer;\n",
              "      display: none;\n",
              "      fill: #1967D2;\n",
              "      height: 32px;\n",
              "      padding: 0 0 0 0;\n",
              "      width: 32px;\n",
              "    }\n",
              "\n",
              "    .colab-df-convert:hover {\n",
              "      background-color: #E2EBFA;\n",
              "      box-shadow: 0px 1px 2px rgba(60, 64, 67, 0.3), 0px 1px 3px 1px rgba(60, 64, 67, 0.15);\n",
              "      fill: #174EA6;\n",
              "    }\n",
              "\n",
              "    [theme=dark] .colab-df-convert {\n",
              "      background-color: #3B4455;\n",
              "      fill: #D2E3FC;\n",
              "    }\n",
              "\n",
              "    [theme=dark] .colab-df-convert:hover {\n",
              "      background-color: #434B5C;\n",
              "      box-shadow: 0px 1px 3px 1px rgba(0, 0, 0, 0.15);\n",
              "      filter: drop-shadow(0px 1px 2px rgba(0, 0, 0, 0.3));\n",
              "      fill: #FFFFFF;\n",
              "    }\n",
              "  </style>\n",
              "\n",
              "      <script>\n",
              "        const buttonEl =\n",
              "          document.querySelector('#df-8997db2c-13da-46ce-8e1c-c23dbfaa2141 button.colab-df-convert');\n",
              "        buttonEl.style.display =\n",
              "          google.colab.kernel.accessAllowed ? 'block' : 'none';\n",
              "\n",
              "        async function convertToInteractive(key) {\n",
              "          const element = document.querySelector('#df-8997db2c-13da-46ce-8e1c-c23dbfaa2141');\n",
              "          const dataTable =\n",
              "            await google.colab.kernel.invokeFunction('convertToInteractive',\n",
              "                                                     [key], {});\n",
              "          if (!dataTable) return;\n",
              "\n",
              "          const docLinkHtml = 'Like what you see? Visit the ' +\n",
              "            '<a target=\"_blank\" href=https://colab.research.google.com/notebooks/data_table.ipynb>data table notebook</a>'\n",
              "            + ' to learn more about interactive tables.';\n",
              "          element.innerHTML = '';\n",
              "          dataTable['output_type'] = 'display_data';\n",
              "          await google.colab.output.renderOutput(dataTable, element);\n",
              "          const docLink = document.createElement('div');\n",
              "          docLink.innerHTML = docLinkHtml;\n",
              "          element.appendChild(docLink);\n",
              "        }\n",
              "      </script>\n",
              "    </div>\n",
              "  </div>\n",
              "  "
            ]
          },
          "metadata": {},
          "execution_count": 85
        }
      ]
    },
    {
      "cell_type": "code",
      "source": [
        "def t_air_to_celsius(t_air):\n",
        "    \"\"\"Converts MODIS LST units to degrees Celsius.\"\"\"\n",
        "    t_celsius =  t_air - 273.15\n",
        "    \n",
        "    return round(t_celsius)\n",
        "\n",
        "t_air_df['Tair_f_inst'] = t_air_df['Tair_f_inst'].apply(t_air_to_celsius)"
      ],
      "metadata": {
        "id": "Ft9oYDHoRg-T"
      },
      "execution_count": 86,
      "outputs": []
    },
    {
      "cell_type": "code",
      "source": [
        "t_air_df.head()"
      ],
      "metadata": {
        "colab": {
          "base_uri": "https://localhost:8080/",
          "height": 206
        },
        "id": "M3nTUroMSGy3",
        "outputId": "5912eea0-aa3b-4945-93a8-1bf3f34fe1b8"
      },
      "execution_count": 87,
      "outputs": [
        {
          "output_type": "execute_result",
          "data": {
            "text/plain": [
              "0           time                  datetime  Tair_f_inst\n",
              "0  1656633600000 2022-07-01 07:00:00+07:00           20\n",
              "1  1656644400000 2022-07-01 10:00:00+07:00           25\n",
              "2  1656655200000 2022-07-01 13:00:00+07:00           24\n",
              "3  1656666000000 2022-07-01 16:00:00+07:00           22\n",
              "4  1656676800000 2022-07-01 19:00:00+07:00           19"
            ],
            "text/html": [
              "\n",
              "  <div id=\"df-632df50d-5a21-46cc-8173-d19ede10ebe8\">\n",
              "    <div class=\"colab-df-container\">\n",
              "      <div>\n",
              "<style scoped>\n",
              "    .dataframe tbody tr th:only-of-type {\n",
              "        vertical-align: middle;\n",
              "    }\n",
              "\n",
              "    .dataframe tbody tr th {\n",
              "        vertical-align: top;\n",
              "    }\n",
              "\n",
              "    .dataframe thead th {\n",
              "        text-align: right;\n",
              "    }\n",
              "</style>\n",
              "<table border=\"1\" class=\"dataframe\">\n",
              "  <thead>\n",
              "    <tr style=\"text-align: right;\">\n",
              "      <th></th>\n",
              "      <th>time</th>\n",
              "      <th>datetime</th>\n",
              "      <th>Tair_f_inst</th>\n",
              "    </tr>\n",
              "  </thead>\n",
              "  <tbody>\n",
              "    <tr>\n",
              "      <th>0</th>\n",
              "      <td>1656633600000</td>\n",
              "      <td>2022-07-01 07:00:00+07:00</td>\n",
              "      <td>20</td>\n",
              "    </tr>\n",
              "    <tr>\n",
              "      <th>1</th>\n",
              "      <td>1656644400000</td>\n",
              "      <td>2022-07-01 10:00:00+07:00</td>\n",
              "      <td>25</td>\n",
              "    </tr>\n",
              "    <tr>\n",
              "      <th>2</th>\n",
              "      <td>1656655200000</td>\n",
              "      <td>2022-07-01 13:00:00+07:00</td>\n",
              "      <td>24</td>\n",
              "    </tr>\n",
              "    <tr>\n",
              "      <th>3</th>\n",
              "      <td>1656666000000</td>\n",
              "      <td>2022-07-01 16:00:00+07:00</td>\n",
              "      <td>22</td>\n",
              "    </tr>\n",
              "    <tr>\n",
              "      <th>4</th>\n",
              "      <td>1656676800000</td>\n",
              "      <td>2022-07-01 19:00:00+07:00</td>\n",
              "      <td>19</td>\n",
              "    </tr>\n",
              "  </tbody>\n",
              "</table>\n",
              "</div>\n",
              "      <button class=\"colab-df-convert\" onclick=\"convertToInteractive('df-632df50d-5a21-46cc-8173-d19ede10ebe8')\"\n",
              "              title=\"Convert this dataframe to an interactive table.\"\n",
              "              style=\"display:none;\">\n",
              "        \n",
              "  <svg xmlns=\"http://www.w3.org/2000/svg\" height=\"24px\"viewBox=\"0 0 24 24\"\n",
              "       width=\"24px\">\n",
              "    <path d=\"M0 0h24v24H0V0z\" fill=\"none\"/>\n",
              "    <path d=\"M18.56 5.44l.94 2.06.94-2.06 2.06-.94-2.06-.94-.94-2.06-.94 2.06-2.06.94zm-11 1L8.5 8.5l.94-2.06 2.06-.94-2.06-.94L8.5 2.5l-.94 2.06-2.06.94zm10 10l.94 2.06.94-2.06 2.06-.94-2.06-.94-.94-2.06-.94 2.06-2.06.94z\"/><path d=\"M17.41 7.96l-1.37-1.37c-.4-.4-.92-.59-1.43-.59-.52 0-1.04.2-1.43.59L10.3 9.45l-7.72 7.72c-.78.78-.78 2.05 0 2.83L4 21.41c.39.39.9.59 1.41.59.51 0 1.02-.2 1.41-.59l7.78-7.78 2.81-2.81c.8-.78.8-2.07 0-2.86zM5.41 20L4 18.59l7.72-7.72 1.47 1.35L5.41 20z\"/>\n",
              "  </svg>\n",
              "      </button>\n",
              "      \n",
              "  <style>\n",
              "    .colab-df-container {\n",
              "      display:flex;\n",
              "      flex-wrap:wrap;\n",
              "      gap: 12px;\n",
              "    }\n",
              "\n",
              "    .colab-df-convert {\n",
              "      background-color: #E8F0FE;\n",
              "      border: none;\n",
              "      border-radius: 50%;\n",
              "      cursor: pointer;\n",
              "      display: none;\n",
              "      fill: #1967D2;\n",
              "      height: 32px;\n",
              "      padding: 0 0 0 0;\n",
              "      width: 32px;\n",
              "    }\n",
              "\n",
              "    .colab-df-convert:hover {\n",
              "      background-color: #E2EBFA;\n",
              "      box-shadow: 0px 1px 2px rgba(60, 64, 67, 0.3), 0px 1px 3px 1px rgba(60, 64, 67, 0.15);\n",
              "      fill: #174EA6;\n",
              "    }\n",
              "\n",
              "    [theme=dark] .colab-df-convert {\n",
              "      background-color: #3B4455;\n",
              "      fill: #D2E3FC;\n",
              "    }\n",
              "\n",
              "    [theme=dark] .colab-df-convert:hover {\n",
              "      background-color: #434B5C;\n",
              "      box-shadow: 0px 1px 3px 1px rgba(0, 0, 0, 0.15);\n",
              "      filter: drop-shadow(0px 1px 2px rgba(0, 0, 0, 0.3));\n",
              "      fill: #FFFFFF;\n",
              "    }\n",
              "  </style>\n",
              "\n",
              "      <script>\n",
              "        const buttonEl =\n",
              "          document.querySelector('#df-632df50d-5a21-46cc-8173-d19ede10ebe8 button.colab-df-convert');\n",
              "        buttonEl.style.display =\n",
              "          google.colab.kernel.accessAllowed ? 'block' : 'none';\n",
              "\n",
              "        async function convertToInteractive(key) {\n",
              "          const element = document.querySelector('#df-632df50d-5a21-46cc-8173-d19ede10ebe8');\n",
              "          const dataTable =\n",
              "            await google.colab.kernel.invokeFunction('convertToInteractive',\n",
              "                                                     [key], {});\n",
              "          if (!dataTable) return;\n",
              "\n",
              "          const docLinkHtml = 'Like what you see? Visit the ' +\n",
              "            '<a target=\"_blank\" href=https://colab.research.google.com/notebooks/data_table.ipynb>data table notebook</a>'\n",
              "            + ' to learn more about interactive tables.';\n",
              "          element.innerHTML = '';\n",
              "          dataTable['output_type'] = 'display_data';\n",
              "          await google.colab.output.renderOutput(dataTable, element);\n",
              "          const docLink = document.createElement('div');\n",
              "          docLink.innerHTML = docLinkHtml;\n",
              "          element.appendChild(docLink);\n",
              "        }\n",
              "      </script>\n",
              "    </div>\n",
              "  </div>\n",
              "  "
            ]
          },
          "metadata": {},
          "execution_count": 87
        }
      ]
    },
    {
      "cell_type": "code",
      "source": [
        "# from datetime import datetime as dt\n",
        "\n",
        "# t_air_df[\"datetime\"] = t_air_df[\"datetime\"].dt.tz_convert(\"Asia/Jakarta\")"
      ],
      "metadata": {
        "id": "gltkeT3dV60V"
      },
      "execution_count": 88,
      "outputs": []
    },
    {
      "cell_type": "code",
      "source": [
        "t_air_df"
      ],
      "metadata": {
        "colab": {
          "base_uri": "https://localhost:8080/",
          "height": 424
        },
        "id": "DaFn8Vk2WakS",
        "outputId": "981b384c-ad24-40e6-a76b-ae0f52596cee"
      },
      "execution_count": 91,
      "outputs": [
        {
          "output_type": "execute_result",
          "data": {
            "text/plain": [
              "0             time                  datetime  Tair_f_inst\n",
              "0    1656633600000 2022-07-01 07:00:00+07:00           20\n",
              "1    1656644400000 2022-07-01 10:00:00+07:00           25\n",
              "2    1656655200000 2022-07-01 13:00:00+07:00           24\n",
              "3    1656666000000 2022-07-01 16:00:00+07:00           22\n",
              "4    1656676800000 2022-07-01 19:00:00+07:00           19\n",
              "..             ...                       ...          ...\n",
              "235  1659171600000 2022-07-30 16:00:00+07:00           23\n",
              "236  1659182400000 2022-07-30 19:00:00+07:00           19\n",
              "237  1659193200000 2022-07-30 22:00:00+07:00           18\n",
              "238  1659204000000 2022-07-31 01:00:00+07:00           18\n",
              "239  1659214800000 2022-07-31 04:00:00+07:00           17\n",
              "\n",
              "[240 rows x 3 columns]"
            ],
            "text/html": [
              "\n",
              "  <div id=\"df-cdc78843-3f5a-417e-99ab-64dcdb8db000\">\n",
              "    <div class=\"colab-df-container\">\n",
              "      <div>\n",
              "<style scoped>\n",
              "    .dataframe tbody tr th:only-of-type {\n",
              "        vertical-align: middle;\n",
              "    }\n",
              "\n",
              "    .dataframe tbody tr th {\n",
              "        vertical-align: top;\n",
              "    }\n",
              "\n",
              "    .dataframe thead th {\n",
              "        text-align: right;\n",
              "    }\n",
              "</style>\n",
              "<table border=\"1\" class=\"dataframe\">\n",
              "  <thead>\n",
              "    <tr style=\"text-align: right;\">\n",
              "      <th></th>\n",
              "      <th>time</th>\n",
              "      <th>datetime</th>\n",
              "      <th>Tair_f_inst</th>\n",
              "    </tr>\n",
              "  </thead>\n",
              "  <tbody>\n",
              "    <tr>\n",
              "      <th>0</th>\n",
              "      <td>1656633600000</td>\n",
              "      <td>2022-07-01 07:00:00+07:00</td>\n",
              "      <td>20</td>\n",
              "    </tr>\n",
              "    <tr>\n",
              "      <th>1</th>\n",
              "      <td>1656644400000</td>\n",
              "      <td>2022-07-01 10:00:00+07:00</td>\n",
              "      <td>25</td>\n",
              "    </tr>\n",
              "    <tr>\n",
              "      <th>2</th>\n",
              "      <td>1656655200000</td>\n",
              "      <td>2022-07-01 13:00:00+07:00</td>\n",
              "      <td>24</td>\n",
              "    </tr>\n",
              "    <tr>\n",
              "      <th>3</th>\n",
              "      <td>1656666000000</td>\n",
              "      <td>2022-07-01 16:00:00+07:00</td>\n",
              "      <td>22</td>\n",
              "    </tr>\n",
              "    <tr>\n",
              "      <th>4</th>\n",
              "      <td>1656676800000</td>\n",
              "      <td>2022-07-01 19:00:00+07:00</td>\n",
              "      <td>19</td>\n",
              "    </tr>\n",
              "    <tr>\n",
              "      <th>...</th>\n",
              "      <td>...</td>\n",
              "      <td>...</td>\n",
              "      <td>...</td>\n",
              "    </tr>\n",
              "    <tr>\n",
              "      <th>235</th>\n",
              "      <td>1659171600000</td>\n",
              "      <td>2022-07-30 16:00:00+07:00</td>\n",
              "      <td>23</td>\n",
              "    </tr>\n",
              "    <tr>\n",
              "      <th>236</th>\n",
              "      <td>1659182400000</td>\n",
              "      <td>2022-07-30 19:00:00+07:00</td>\n",
              "      <td>19</td>\n",
              "    </tr>\n",
              "    <tr>\n",
              "      <th>237</th>\n",
              "      <td>1659193200000</td>\n",
              "      <td>2022-07-30 22:00:00+07:00</td>\n",
              "      <td>18</td>\n",
              "    </tr>\n",
              "    <tr>\n",
              "      <th>238</th>\n",
              "      <td>1659204000000</td>\n",
              "      <td>2022-07-31 01:00:00+07:00</td>\n",
              "      <td>18</td>\n",
              "    </tr>\n",
              "    <tr>\n",
              "      <th>239</th>\n",
              "      <td>1659214800000</td>\n",
              "      <td>2022-07-31 04:00:00+07:00</td>\n",
              "      <td>17</td>\n",
              "    </tr>\n",
              "  </tbody>\n",
              "</table>\n",
              "<p>240 rows × 3 columns</p>\n",
              "</div>\n",
              "      <button class=\"colab-df-convert\" onclick=\"convertToInteractive('df-cdc78843-3f5a-417e-99ab-64dcdb8db000')\"\n",
              "              title=\"Convert this dataframe to an interactive table.\"\n",
              "              style=\"display:none;\">\n",
              "        \n",
              "  <svg xmlns=\"http://www.w3.org/2000/svg\" height=\"24px\"viewBox=\"0 0 24 24\"\n",
              "       width=\"24px\">\n",
              "    <path d=\"M0 0h24v24H0V0z\" fill=\"none\"/>\n",
              "    <path d=\"M18.56 5.44l.94 2.06.94-2.06 2.06-.94-2.06-.94-.94-2.06-.94 2.06-2.06.94zm-11 1L8.5 8.5l.94-2.06 2.06-.94-2.06-.94L8.5 2.5l-.94 2.06-2.06.94zm10 10l.94 2.06.94-2.06 2.06-.94-2.06-.94-.94-2.06-.94 2.06-2.06.94z\"/><path d=\"M17.41 7.96l-1.37-1.37c-.4-.4-.92-.59-1.43-.59-.52 0-1.04.2-1.43.59L10.3 9.45l-7.72 7.72c-.78.78-.78 2.05 0 2.83L4 21.41c.39.39.9.59 1.41.59.51 0 1.02-.2 1.41-.59l7.78-7.78 2.81-2.81c.8-.78.8-2.07 0-2.86zM5.41 20L4 18.59l7.72-7.72 1.47 1.35L5.41 20z\"/>\n",
              "  </svg>\n",
              "      </button>\n",
              "      \n",
              "  <style>\n",
              "    .colab-df-container {\n",
              "      display:flex;\n",
              "      flex-wrap:wrap;\n",
              "      gap: 12px;\n",
              "    }\n",
              "\n",
              "    .colab-df-convert {\n",
              "      background-color: #E8F0FE;\n",
              "      border: none;\n",
              "      border-radius: 50%;\n",
              "      cursor: pointer;\n",
              "      display: none;\n",
              "      fill: #1967D2;\n",
              "      height: 32px;\n",
              "      padding: 0 0 0 0;\n",
              "      width: 32px;\n",
              "    }\n",
              "\n",
              "    .colab-df-convert:hover {\n",
              "      background-color: #E2EBFA;\n",
              "      box-shadow: 0px 1px 2px rgba(60, 64, 67, 0.3), 0px 1px 3px 1px rgba(60, 64, 67, 0.15);\n",
              "      fill: #174EA6;\n",
              "    }\n",
              "\n",
              "    [theme=dark] .colab-df-convert {\n",
              "      background-color: #3B4455;\n",
              "      fill: #D2E3FC;\n",
              "    }\n",
              "\n",
              "    [theme=dark] .colab-df-convert:hover {\n",
              "      background-color: #434B5C;\n",
              "      box-shadow: 0px 1px 3px 1px rgba(0, 0, 0, 0.15);\n",
              "      filter: drop-shadow(0px 1px 2px rgba(0, 0, 0, 0.3));\n",
              "      fill: #FFFFFF;\n",
              "    }\n",
              "  </style>\n",
              "\n",
              "      <script>\n",
              "        const buttonEl =\n",
              "          document.querySelector('#df-cdc78843-3f5a-417e-99ab-64dcdb8db000 button.colab-df-convert');\n",
              "        buttonEl.style.display =\n",
              "          google.colab.kernel.accessAllowed ? 'block' : 'none';\n",
              "\n",
              "        async function convertToInteractive(key) {\n",
              "          const element = document.querySelector('#df-cdc78843-3f5a-417e-99ab-64dcdb8db000');\n",
              "          const dataTable =\n",
              "            await google.colab.kernel.invokeFunction('convertToInteractive',\n",
              "                                                     [key], {});\n",
              "          if (!dataTable) return;\n",
              "\n",
              "          const docLinkHtml = 'Like what you see? Visit the ' +\n",
              "            '<a target=\"_blank\" href=https://colab.research.google.com/notebooks/data_table.ipynb>data table notebook</a>'\n",
              "            + ' to learn more about interactive tables.';\n",
              "          element.innerHTML = '';\n",
              "          dataTable['output_type'] = 'display_data';\n",
              "          await google.colab.output.renderOutput(dataTable, element);\n",
              "          const docLink = document.createElement('div');\n",
              "          docLink.innerHTML = docLinkHtml;\n",
              "          element.appendChild(docLink);\n",
              "        }\n",
              "      </script>\n",
              "    </div>\n",
              "  </div>\n",
              "  "
            ]
          },
          "metadata": {},
          "execution_count": 91
        }
      ]
    },
    {
      "cell_type": "code",
      "source": [
        "#Visualize the data with Plotly\n",
        "import plotly.express as px\n",
        "\n",
        "#Define x and y values\n",
        "fig = px.line(t_air_df, x=\"datetime\", y=\"Tair_f_inst\", \n",
        "              title=\"Air Temperature on Malang City - GLDAS-2.1 (NASA)\")\n",
        "#Show the figure\n",
        "fig.show()"
      ],
      "metadata": {
        "colab": {
          "base_uri": "https://localhost:8080/",
          "height": 542
        },
        "id": "Ij3KCqPQYR5b",
        "outputId": "78ddbb0b-38d8-4ff9-9e4d-7cfff9b82769"
      },
      "execution_count": 90,
      "outputs": [
        {
          "output_type": "display_data",
          "data": {
            "text/html": [
              "<html>\n",
              "<head><meta charset=\"utf-8\" /></head>\n",
              "<body>\n",
              "    <div>            <script src=\"https://cdnjs.cloudflare.com/ajax/libs/mathjax/2.7.5/MathJax.js?config=TeX-AMS-MML_SVG\"></script><script type=\"text/javascript\">if (window.MathJax) {MathJax.Hub.Config({SVG: {font: \"STIX-Web\"}});}</script>                <script type=\"text/javascript\">window.PlotlyConfig = {MathJaxConfig: 'local'};</script>\n",
              "        <script src=\"https://cdn.plot.ly/plotly-2.8.3.min.js\"></script>                <div id=\"8fcd30a2-3b41-4223-b3f6-5d55bcf46bed\" class=\"plotly-graph-div\" style=\"height:525px; width:100%;\"></div>            <script type=\"text/javascript\">                                    window.PLOTLYENV=window.PLOTLYENV || {};                                    if (document.getElementById(\"8fcd30a2-3b41-4223-b3f6-5d55bcf46bed\")) {                    Plotly.newPlot(                        \"8fcd30a2-3b41-4223-b3f6-5d55bcf46bed\",                        [{\"hovertemplate\":\"datetime=%{x}<br>Tair_f_inst=%{y}<extra></extra>\",\"legendgroup\":\"\",\"line\":{\"color\":\"#636efa\",\"dash\":\"solid\"},\"marker\":{\"symbol\":\"circle\"},\"mode\":\"lines\",\"name\":\"\",\"orientation\":\"v\",\"showlegend\":false,\"x\":[\"2022-07-01T07:00:00+07:00\",\"2022-07-01T10:00:00+07:00\",\"2022-07-01T13:00:00+07:00\",\"2022-07-01T16:00:00+07:00\",\"2022-07-01T19:00:00+07:00\",\"2022-07-01T22:00:00+07:00\",\"2022-07-02T01:00:00+07:00\",\"2022-07-02T04:00:00+07:00\",\"2022-07-02T07:00:00+07:00\",\"2022-07-02T10:00:00+07:00\",\"2022-07-02T13:00:00+07:00\",\"2022-07-02T16:00:00+07:00\",\"2022-07-02T19:00:00+07:00\",\"2022-07-02T22:00:00+07:00\",\"2022-07-03T01:00:00+07:00\",\"2022-07-03T04:00:00+07:00\",\"2022-07-03T07:00:00+07:00\",\"2022-07-03T10:00:00+07:00\",\"2022-07-03T13:00:00+07:00\",\"2022-07-03T16:00:00+07:00\",\"2022-07-03T19:00:00+07:00\",\"2022-07-03T22:00:00+07:00\",\"2022-07-04T01:00:00+07:00\",\"2022-07-04T04:00:00+07:00\",\"2022-07-04T07:00:00+07:00\",\"2022-07-04T10:00:00+07:00\",\"2022-07-04T13:00:00+07:00\",\"2022-07-04T16:00:00+07:00\",\"2022-07-04T19:00:00+07:00\",\"2022-07-04T22:00:00+07:00\",\"2022-07-05T01:00:00+07:00\",\"2022-07-05T04:00:00+07:00\",\"2022-07-05T07:00:00+07:00\",\"2022-07-05T10:00:00+07:00\",\"2022-07-05T13:00:00+07:00\",\"2022-07-05T16:00:00+07:00\",\"2022-07-05T19:00:00+07:00\",\"2022-07-05T22:00:00+07:00\",\"2022-07-06T01:00:00+07:00\",\"2022-07-06T04:00:00+07:00\",\"2022-07-06T07:00:00+07:00\",\"2022-07-06T10:00:00+07:00\",\"2022-07-06T13:00:00+07:00\",\"2022-07-06T16:00:00+07:00\",\"2022-07-06T19:00:00+07:00\",\"2022-07-06T22:00:00+07:00\",\"2022-07-07T01:00:00+07:00\",\"2022-07-07T04:00:00+07:00\",\"2022-07-07T07:00:00+07:00\",\"2022-07-07T10:00:00+07:00\",\"2022-07-07T13:00:00+07:00\",\"2022-07-07T16:00:00+07:00\",\"2022-07-07T19:00:00+07:00\",\"2022-07-07T22:00:00+07:00\",\"2022-07-08T01:00:00+07:00\",\"2022-07-08T04:00:00+07:00\",\"2022-07-08T07:00:00+07:00\",\"2022-07-08T10:00:00+07:00\",\"2022-07-08T13:00:00+07:00\",\"2022-07-08T16:00:00+07:00\",\"2022-07-08T19:00:00+07:00\",\"2022-07-08T22:00:00+07:00\",\"2022-07-09T01:00:00+07:00\",\"2022-07-09T04:00:00+07:00\",\"2022-07-09T07:00:00+07:00\",\"2022-07-09T10:00:00+07:00\",\"2022-07-09T13:00:00+07:00\",\"2022-07-09T16:00:00+07:00\",\"2022-07-09T19:00:00+07:00\",\"2022-07-09T22:00:00+07:00\",\"2022-07-10T01:00:00+07:00\",\"2022-07-10T04:00:00+07:00\",\"2022-07-10T07:00:00+07:00\",\"2022-07-10T10:00:00+07:00\",\"2022-07-10T13:00:00+07:00\",\"2022-07-10T16:00:00+07:00\",\"2022-07-10T19:00:00+07:00\",\"2022-07-10T22:00:00+07:00\",\"2022-07-11T01:00:00+07:00\",\"2022-07-11T04:00:00+07:00\",\"2022-07-11T07:00:00+07:00\",\"2022-07-11T10:00:00+07:00\",\"2022-07-11T13:00:00+07:00\",\"2022-07-11T16:00:00+07:00\",\"2022-07-11T19:00:00+07:00\",\"2022-07-11T22:00:00+07:00\",\"2022-07-12T01:00:00+07:00\",\"2022-07-12T04:00:00+07:00\",\"2022-07-12T07:00:00+07:00\",\"2022-07-12T10:00:00+07:00\",\"2022-07-12T13:00:00+07:00\",\"2022-07-12T16:00:00+07:00\",\"2022-07-12T19:00:00+07:00\",\"2022-07-12T22:00:00+07:00\",\"2022-07-13T01:00:00+07:00\",\"2022-07-13T04:00:00+07:00\",\"2022-07-13T07:00:00+07:00\",\"2022-07-13T10:00:00+07:00\",\"2022-07-13T13:00:00+07:00\",\"2022-07-13T16:00:00+07:00\",\"2022-07-13T19:00:00+07:00\",\"2022-07-13T22:00:00+07:00\",\"2022-07-14T01:00:00+07:00\",\"2022-07-14T04:00:00+07:00\",\"2022-07-14T07:00:00+07:00\",\"2022-07-14T10:00:00+07:00\",\"2022-07-14T13:00:00+07:00\",\"2022-07-14T16:00:00+07:00\",\"2022-07-14T19:00:00+07:00\",\"2022-07-14T22:00:00+07:00\",\"2022-07-15T01:00:00+07:00\",\"2022-07-15T04:00:00+07:00\",\"2022-07-15T07:00:00+07:00\",\"2022-07-15T10:00:00+07:00\",\"2022-07-15T13:00:00+07:00\",\"2022-07-15T16:00:00+07:00\",\"2022-07-15T19:00:00+07:00\",\"2022-07-15T22:00:00+07:00\",\"2022-07-16T01:00:00+07:00\",\"2022-07-16T04:00:00+07:00\",\"2022-07-16T07:00:00+07:00\",\"2022-07-16T10:00:00+07:00\",\"2022-07-16T13:00:00+07:00\",\"2022-07-16T16:00:00+07:00\",\"2022-07-16T19:00:00+07:00\",\"2022-07-16T22:00:00+07:00\",\"2022-07-17T01:00:00+07:00\",\"2022-07-17T04:00:00+07:00\",\"2022-07-17T07:00:00+07:00\",\"2022-07-17T10:00:00+07:00\",\"2022-07-17T13:00:00+07:00\",\"2022-07-17T16:00:00+07:00\",\"2022-07-17T19:00:00+07:00\",\"2022-07-17T22:00:00+07:00\",\"2022-07-18T01:00:00+07:00\",\"2022-07-18T04:00:00+07:00\",\"2022-07-18T07:00:00+07:00\",\"2022-07-18T10:00:00+07:00\",\"2022-07-18T13:00:00+07:00\",\"2022-07-18T16:00:00+07:00\",\"2022-07-18T19:00:00+07:00\",\"2022-07-18T22:00:00+07:00\",\"2022-07-19T01:00:00+07:00\",\"2022-07-19T04:00:00+07:00\",\"2022-07-19T07:00:00+07:00\",\"2022-07-19T10:00:00+07:00\",\"2022-07-19T13:00:00+07:00\",\"2022-07-19T16:00:00+07:00\",\"2022-07-19T19:00:00+07:00\",\"2022-07-19T22:00:00+07:00\",\"2022-07-20T01:00:00+07:00\",\"2022-07-20T04:00:00+07:00\",\"2022-07-20T07:00:00+07:00\",\"2022-07-20T10:00:00+07:00\",\"2022-07-20T13:00:00+07:00\",\"2022-07-20T16:00:00+07:00\",\"2022-07-20T19:00:00+07:00\",\"2022-07-20T22:00:00+07:00\",\"2022-07-21T01:00:00+07:00\",\"2022-07-21T04:00:00+07:00\",\"2022-07-21T07:00:00+07:00\",\"2022-07-21T10:00:00+07:00\",\"2022-07-21T13:00:00+07:00\",\"2022-07-21T16:00:00+07:00\",\"2022-07-21T19:00:00+07:00\",\"2022-07-21T22:00:00+07:00\",\"2022-07-22T01:00:00+07:00\",\"2022-07-22T04:00:00+07:00\",\"2022-07-22T07:00:00+07:00\",\"2022-07-22T10:00:00+07:00\",\"2022-07-22T13:00:00+07:00\",\"2022-07-22T16:00:00+07:00\",\"2022-07-22T19:00:00+07:00\",\"2022-07-22T22:00:00+07:00\",\"2022-07-23T01:00:00+07:00\",\"2022-07-23T04:00:00+07:00\",\"2022-07-23T07:00:00+07:00\",\"2022-07-23T10:00:00+07:00\",\"2022-07-23T13:00:00+07:00\",\"2022-07-23T16:00:00+07:00\",\"2022-07-23T19:00:00+07:00\",\"2022-07-23T22:00:00+07:00\",\"2022-07-24T01:00:00+07:00\",\"2022-07-24T04:00:00+07:00\",\"2022-07-24T07:00:00+07:00\",\"2022-07-24T10:00:00+07:00\",\"2022-07-24T13:00:00+07:00\",\"2022-07-24T16:00:00+07:00\",\"2022-07-24T19:00:00+07:00\",\"2022-07-24T22:00:00+07:00\",\"2022-07-25T01:00:00+07:00\",\"2022-07-25T04:00:00+07:00\",\"2022-07-25T07:00:00+07:00\",\"2022-07-25T10:00:00+07:00\",\"2022-07-25T13:00:00+07:00\",\"2022-07-25T16:00:00+07:00\",\"2022-07-25T19:00:00+07:00\",\"2022-07-25T22:00:00+07:00\",\"2022-07-26T01:00:00+07:00\",\"2022-07-26T04:00:00+07:00\",\"2022-07-26T07:00:00+07:00\",\"2022-07-26T10:00:00+07:00\",\"2022-07-26T13:00:00+07:00\",\"2022-07-26T16:00:00+07:00\",\"2022-07-26T19:00:00+07:00\",\"2022-07-26T22:00:00+07:00\",\"2022-07-27T01:00:00+07:00\",\"2022-07-27T04:00:00+07:00\",\"2022-07-27T07:00:00+07:00\",\"2022-07-27T10:00:00+07:00\",\"2022-07-27T13:00:00+07:00\",\"2022-07-27T16:00:00+07:00\",\"2022-07-27T19:00:00+07:00\",\"2022-07-27T22:00:00+07:00\",\"2022-07-28T01:00:00+07:00\",\"2022-07-28T04:00:00+07:00\",\"2022-07-28T07:00:00+07:00\",\"2022-07-28T10:00:00+07:00\",\"2022-07-28T13:00:00+07:00\",\"2022-07-28T16:00:00+07:00\",\"2022-07-28T19:00:00+07:00\",\"2022-07-28T22:00:00+07:00\",\"2022-07-29T01:00:00+07:00\",\"2022-07-29T04:00:00+07:00\",\"2022-07-29T07:00:00+07:00\",\"2022-07-29T10:00:00+07:00\",\"2022-07-29T13:00:00+07:00\",\"2022-07-29T16:00:00+07:00\",\"2022-07-29T19:00:00+07:00\",\"2022-07-29T22:00:00+07:00\",\"2022-07-30T01:00:00+07:00\",\"2022-07-30T04:00:00+07:00\",\"2022-07-30T07:00:00+07:00\",\"2022-07-30T10:00:00+07:00\",\"2022-07-30T13:00:00+07:00\",\"2022-07-30T16:00:00+07:00\",\"2022-07-30T19:00:00+07:00\",\"2022-07-30T22:00:00+07:00\",\"2022-07-31T01:00:00+07:00\",\"2022-07-31T04:00:00+07:00\"],\"xaxis\":\"x\",\"y\":[20,25,24,22,19,18,18,18,20,26,25,23,20,20,19,18,20,25,26,24,20,19,19,18,20,26,25,23,20,19,19,18,21,26,24,22,20,19,19,18,20,24,23,21,18,17,17,16,19,24,25,22,17,17,16,15,18,23,24,20,17,16,16,15,18,24,24,21,17,17,16,16,18,25,27,22,19,18,18,18,20,25,25,22,19,19,18,18,20,25,24,22,19,19,18,18,20,25,25,22,19,19,18,18,20,25,24,22,19,19,18,17,19,24,24,23,19,19,18,18,20,25,26,22,20,19,18,18,19,24,25,21,20,18,18,17,19,25,25,22,20,18,19,19,19,25,27,24,19,18,17,17,20,25,27,24,18,17,17,17,18,24,27,24,19,18,17,17,19,25,25,23,19,18,18,17,20,25,23,21,19,18,18,17,18,23,26,22,17,16,15,15,18,24,26,23,17,16,15,15,19,26,28,25,18,17,17,17,20,27,27,25,19,19,18,18,20,26,28,24,20,19,18,17,20,26,29,25,20,19,19,18,19,26,27,23,19,18,18,17],\"yaxis\":\"y\",\"type\":\"scatter\"}],                        {\"template\":{\"data\":{\"bar\":[{\"error_x\":{\"color\":\"#2a3f5f\"},\"error_y\":{\"color\":\"#2a3f5f\"},\"marker\":{\"line\":{\"color\":\"#E5ECF6\",\"width\":0.5},\"pattern\":{\"fillmode\":\"overlay\",\"size\":10,\"solidity\":0.2}},\"type\":\"bar\"}],\"barpolar\":[{\"marker\":{\"line\":{\"color\":\"#E5ECF6\",\"width\":0.5},\"pattern\":{\"fillmode\":\"overlay\",\"size\":10,\"solidity\":0.2}},\"type\":\"barpolar\"}],\"carpet\":[{\"aaxis\":{\"endlinecolor\":\"#2a3f5f\",\"gridcolor\":\"white\",\"linecolor\":\"white\",\"minorgridcolor\":\"white\",\"startlinecolor\":\"#2a3f5f\"},\"baxis\":{\"endlinecolor\":\"#2a3f5f\",\"gridcolor\":\"white\",\"linecolor\":\"white\",\"minorgridcolor\":\"white\",\"startlinecolor\":\"#2a3f5f\"},\"type\":\"carpet\"}],\"choropleth\":[{\"colorbar\":{\"outlinewidth\":0,\"ticks\":\"\"},\"type\":\"choropleth\"}],\"contour\":[{\"colorbar\":{\"outlinewidth\":0,\"ticks\":\"\"},\"colorscale\":[[0.0,\"#0d0887\"],[0.1111111111111111,\"#46039f\"],[0.2222222222222222,\"#7201a8\"],[0.3333333333333333,\"#9c179e\"],[0.4444444444444444,\"#bd3786\"],[0.5555555555555556,\"#d8576b\"],[0.6666666666666666,\"#ed7953\"],[0.7777777777777778,\"#fb9f3a\"],[0.8888888888888888,\"#fdca26\"],[1.0,\"#f0f921\"]],\"type\":\"contour\"}],\"contourcarpet\":[{\"colorbar\":{\"outlinewidth\":0,\"ticks\":\"\"},\"type\":\"contourcarpet\"}],\"heatmap\":[{\"colorbar\":{\"outlinewidth\":0,\"ticks\":\"\"},\"colorscale\":[[0.0,\"#0d0887\"],[0.1111111111111111,\"#46039f\"],[0.2222222222222222,\"#7201a8\"],[0.3333333333333333,\"#9c179e\"],[0.4444444444444444,\"#bd3786\"],[0.5555555555555556,\"#d8576b\"],[0.6666666666666666,\"#ed7953\"],[0.7777777777777778,\"#fb9f3a\"],[0.8888888888888888,\"#fdca26\"],[1.0,\"#f0f921\"]],\"type\":\"heatmap\"}],\"heatmapgl\":[{\"colorbar\":{\"outlinewidth\":0,\"ticks\":\"\"},\"colorscale\":[[0.0,\"#0d0887\"],[0.1111111111111111,\"#46039f\"],[0.2222222222222222,\"#7201a8\"],[0.3333333333333333,\"#9c179e\"],[0.4444444444444444,\"#bd3786\"],[0.5555555555555556,\"#d8576b\"],[0.6666666666666666,\"#ed7953\"],[0.7777777777777778,\"#fb9f3a\"],[0.8888888888888888,\"#fdca26\"],[1.0,\"#f0f921\"]],\"type\":\"heatmapgl\"}],\"histogram\":[{\"marker\":{\"pattern\":{\"fillmode\":\"overlay\",\"size\":10,\"solidity\":0.2}},\"type\":\"histogram\"}],\"histogram2d\":[{\"colorbar\":{\"outlinewidth\":0,\"ticks\":\"\"},\"colorscale\":[[0.0,\"#0d0887\"],[0.1111111111111111,\"#46039f\"],[0.2222222222222222,\"#7201a8\"],[0.3333333333333333,\"#9c179e\"],[0.4444444444444444,\"#bd3786\"],[0.5555555555555556,\"#d8576b\"],[0.6666666666666666,\"#ed7953\"],[0.7777777777777778,\"#fb9f3a\"],[0.8888888888888888,\"#fdca26\"],[1.0,\"#f0f921\"]],\"type\":\"histogram2d\"}],\"histogram2dcontour\":[{\"colorbar\":{\"outlinewidth\":0,\"ticks\":\"\"},\"colorscale\":[[0.0,\"#0d0887\"],[0.1111111111111111,\"#46039f\"],[0.2222222222222222,\"#7201a8\"],[0.3333333333333333,\"#9c179e\"],[0.4444444444444444,\"#bd3786\"],[0.5555555555555556,\"#d8576b\"],[0.6666666666666666,\"#ed7953\"],[0.7777777777777778,\"#fb9f3a\"],[0.8888888888888888,\"#fdca26\"],[1.0,\"#f0f921\"]],\"type\":\"histogram2dcontour\"}],\"mesh3d\":[{\"colorbar\":{\"outlinewidth\":0,\"ticks\":\"\"},\"type\":\"mesh3d\"}],\"parcoords\":[{\"line\":{\"colorbar\":{\"outlinewidth\":0,\"ticks\":\"\"}},\"type\":\"parcoords\"}],\"pie\":[{\"automargin\":true,\"type\":\"pie\"}],\"scatter\":[{\"marker\":{\"colorbar\":{\"outlinewidth\":0,\"ticks\":\"\"}},\"type\":\"scatter\"}],\"scatter3d\":[{\"line\":{\"colorbar\":{\"outlinewidth\":0,\"ticks\":\"\"}},\"marker\":{\"colorbar\":{\"outlinewidth\":0,\"ticks\":\"\"}},\"type\":\"scatter3d\"}],\"scattercarpet\":[{\"marker\":{\"colorbar\":{\"outlinewidth\":0,\"ticks\":\"\"}},\"type\":\"scattercarpet\"}],\"scattergeo\":[{\"marker\":{\"colorbar\":{\"outlinewidth\":0,\"ticks\":\"\"}},\"type\":\"scattergeo\"}],\"scattergl\":[{\"marker\":{\"colorbar\":{\"outlinewidth\":0,\"ticks\":\"\"}},\"type\":\"scattergl\"}],\"scattermapbox\":[{\"marker\":{\"colorbar\":{\"outlinewidth\":0,\"ticks\":\"\"}},\"type\":\"scattermapbox\"}],\"scatterpolar\":[{\"marker\":{\"colorbar\":{\"outlinewidth\":0,\"ticks\":\"\"}},\"type\":\"scatterpolar\"}],\"scatterpolargl\":[{\"marker\":{\"colorbar\":{\"outlinewidth\":0,\"ticks\":\"\"}},\"type\":\"scatterpolargl\"}],\"scatterternary\":[{\"marker\":{\"colorbar\":{\"outlinewidth\":0,\"ticks\":\"\"}},\"type\":\"scatterternary\"}],\"surface\":[{\"colorbar\":{\"outlinewidth\":0,\"ticks\":\"\"},\"colorscale\":[[0.0,\"#0d0887\"],[0.1111111111111111,\"#46039f\"],[0.2222222222222222,\"#7201a8\"],[0.3333333333333333,\"#9c179e\"],[0.4444444444444444,\"#bd3786\"],[0.5555555555555556,\"#d8576b\"],[0.6666666666666666,\"#ed7953\"],[0.7777777777777778,\"#fb9f3a\"],[0.8888888888888888,\"#fdca26\"],[1.0,\"#f0f921\"]],\"type\":\"surface\"}],\"table\":[{\"cells\":{\"fill\":{\"color\":\"#EBF0F8\"},\"line\":{\"color\":\"white\"}},\"header\":{\"fill\":{\"color\":\"#C8D4E3\"},\"line\":{\"color\":\"white\"}},\"type\":\"table\"}]},\"layout\":{\"annotationdefaults\":{\"arrowcolor\":\"#2a3f5f\",\"arrowhead\":0,\"arrowwidth\":1},\"autotypenumbers\":\"strict\",\"coloraxis\":{\"colorbar\":{\"outlinewidth\":0,\"ticks\":\"\"}},\"colorscale\":{\"diverging\":[[0,\"#8e0152\"],[0.1,\"#c51b7d\"],[0.2,\"#de77ae\"],[0.3,\"#f1b6da\"],[0.4,\"#fde0ef\"],[0.5,\"#f7f7f7\"],[0.6,\"#e6f5d0\"],[0.7,\"#b8e186\"],[0.8,\"#7fbc41\"],[0.9,\"#4d9221\"],[1,\"#276419\"]],\"sequential\":[[0.0,\"#0d0887\"],[0.1111111111111111,\"#46039f\"],[0.2222222222222222,\"#7201a8\"],[0.3333333333333333,\"#9c179e\"],[0.4444444444444444,\"#bd3786\"],[0.5555555555555556,\"#d8576b\"],[0.6666666666666666,\"#ed7953\"],[0.7777777777777778,\"#fb9f3a\"],[0.8888888888888888,\"#fdca26\"],[1.0,\"#f0f921\"]],\"sequentialminus\":[[0.0,\"#0d0887\"],[0.1111111111111111,\"#46039f\"],[0.2222222222222222,\"#7201a8\"],[0.3333333333333333,\"#9c179e\"],[0.4444444444444444,\"#bd3786\"],[0.5555555555555556,\"#d8576b\"],[0.6666666666666666,\"#ed7953\"],[0.7777777777777778,\"#fb9f3a\"],[0.8888888888888888,\"#fdca26\"],[1.0,\"#f0f921\"]]},\"colorway\":[\"#636efa\",\"#EF553B\",\"#00cc96\",\"#ab63fa\",\"#FFA15A\",\"#19d3f3\",\"#FF6692\",\"#B6E880\",\"#FF97FF\",\"#FECB52\"],\"font\":{\"color\":\"#2a3f5f\"},\"geo\":{\"bgcolor\":\"white\",\"lakecolor\":\"white\",\"landcolor\":\"#E5ECF6\",\"showlakes\":true,\"showland\":true,\"subunitcolor\":\"white\"},\"hoverlabel\":{\"align\":\"left\"},\"hovermode\":\"closest\",\"mapbox\":{\"style\":\"light\"},\"paper_bgcolor\":\"white\",\"plot_bgcolor\":\"#E5ECF6\",\"polar\":{\"angularaxis\":{\"gridcolor\":\"white\",\"linecolor\":\"white\",\"ticks\":\"\"},\"bgcolor\":\"#E5ECF6\",\"radialaxis\":{\"gridcolor\":\"white\",\"linecolor\":\"white\",\"ticks\":\"\"}},\"scene\":{\"xaxis\":{\"backgroundcolor\":\"#E5ECF6\",\"gridcolor\":\"white\",\"gridwidth\":2,\"linecolor\":\"white\",\"showbackground\":true,\"ticks\":\"\",\"zerolinecolor\":\"white\"},\"yaxis\":{\"backgroundcolor\":\"#E5ECF6\",\"gridcolor\":\"white\",\"gridwidth\":2,\"linecolor\":\"white\",\"showbackground\":true,\"ticks\":\"\",\"zerolinecolor\":\"white\"},\"zaxis\":{\"backgroundcolor\":\"#E5ECF6\",\"gridcolor\":\"white\",\"gridwidth\":2,\"linecolor\":\"white\",\"showbackground\":true,\"ticks\":\"\",\"zerolinecolor\":\"white\"}},\"shapedefaults\":{\"line\":{\"color\":\"#2a3f5f\"}},\"ternary\":{\"aaxis\":{\"gridcolor\":\"white\",\"linecolor\":\"white\",\"ticks\":\"\"},\"baxis\":{\"gridcolor\":\"white\",\"linecolor\":\"white\",\"ticks\":\"\"},\"bgcolor\":\"#E5ECF6\",\"caxis\":{\"gridcolor\":\"white\",\"linecolor\":\"white\",\"ticks\":\"\"}},\"title\":{\"x\":0.05},\"xaxis\":{\"automargin\":true,\"gridcolor\":\"white\",\"linecolor\":\"white\",\"ticks\":\"\",\"title\":{\"standoff\":15},\"zerolinecolor\":\"white\",\"zerolinewidth\":2},\"yaxis\":{\"automargin\":true,\"gridcolor\":\"white\",\"linecolor\":\"white\",\"ticks\":\"\",\"title\":{\"standoff\":15},\"zerolinecolor\":\"white\",\"zerolinewidth\":2}}},\"xaxis\":{\"anchor\":\"y\",\"domain\":[0.0,1.0],\"title\":{\"text\":\"datetime\"}},\"yaxis\":{\"anchor\":\"x\",\"domain\":[0.0,1.0],\"title\":{\"text\":\"Tair_f_inst\"}},\"legend\":{\"tracegroupgap\":0},\"title\":{\"text\":\"Air Temperature on Malang City - GLDAS-2.1 (NASA)\"}},                        {\"responsive\": true}                    ).then(function(){\n",
              "                            \n",
              "var gd = document.getElementById('8fcd30a2-3b41-4223-b3f6-5d55bcf46bed');\n",
              "var x = new MutationObserver(function (mutations, observer) {{\n",
              "        var display = window.getComputedStyle(gd).display;\n",
              "        if (!display || display === 'none') {{\n",
              "            console.log([gd, 'removed!']);\n",
              "            Plotly.purge(gd);\n",
              "            observer.disconnect();\n",
              "        }}\n",
              "}});\n",
              "\n",
              "// Listen for the removal of the full notebook cells\n",
              "var notebookContainer = gd.closest('#notebook-container');\n",
              "if (notebookContainer) {{\n",
              "    x.observe(notebookContainer, {childList: true});\n",
              "}}\n",
              "\n",
              "// Listen for the clearing of the current output cell\n",
              "var outputEl = gd.closest('.output');\n",
              "if (outputEl) {{\n",
              "    x.observe(outputEl, {childList: true});\n",
              "}}\n",
              "\n",
              "                        })                };                            </script>        </div>\n",
              "</body>\n",
              "</html>"
            ]
          },
          "metadata": {}
        }
      ]
    }
  ]
}