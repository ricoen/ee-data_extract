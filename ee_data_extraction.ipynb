{
  "nbformat": 4,
  "nbformat_minor": 0,
  "metadata": {
    "colab": {
      "name": "ee-data_extraction.ipynb",
      "provenance": [],
      "collapsed_sections": [],
      "authorship_tag": "ABX9TyOO7LuuLZBFMY9D1wStAgCz",
      "include_colab_link": true
    },
    "kernelspec": {
      "name": "python3",
      "display_name": "Python 3"
    }
  },
  "cells": [
    {
      "cell_type": "markdown",
      "metadata": {
        "id": "view-in-github",
        "colab_type": "text"
      },
      "source": [
        "<a href=\"https://colab.research.google.com/github/ricoen/google-ee-data-extraction/blob/main/ee_data_extraction.ipynb\" target=\"_parent\"><img src=\"https://colab.research.google.com/assets/colab-badge.svg\" alt=\"Open In Colab\"/></a>"
      ]
    },
    {
      "cell_type": "markdown",
      "metadata": {
        "id": "jVC-vgBFzl5n"
      },
      "source": [
        "# Google Earth Engine Data Extract\n",
        "\n",
        "Author [@ricoen](https://github.com/ricoen)<br>\n",
        "\n",
        "MIT Licensed"
      ]
    },
    {
      "cell_type": "code",
      "metadata": {
        "id": "yUsFNzL_YyR1"
      },
      "source": [
        "#Import Earth Engine\n",
        "import ee"
      ],
      "execution_count": null,
      "outputs": []
    },
    {
      "cell_type": "code",
      "metadata": {
        "colab": {
          "base_uri": "https://localhost:8080/"
        },
        "id": "Ng4JRr6X279f",
        "outputId": "f44ae3c6-e73f-4bc7-a520-446f19ffbf92"
      },
      "source": [
        "#Authenticate EE with your account\n",
        "ee.Authenticate()"
      ],
      "execution_count": null,
      "outputs": [
        {
          "output_type": "stream",
          "name": "stdout",
          "text": [
            "To authorize access needed by Earth Engine, open the following URL in a web browser and follow the instructions. If the web browser does not start automatically, please manually browse the URL below.\n",
            "\n",
            "    https://code.earthengine.google.com/client-auth?scopes=https%3A//www.googleapis.com/auth/earthengine%20https%3A//www.googleapis.com/auth/devstorage.full_control&request_id=inCUuZaCpDotIIOVmnMqm7F0AM48Esw3p8-vpMfGIic&tc=WT2mXtEQIQ93SXLSKSaDgsxECqf9UEF0eXU8QBMADXo&cc=o6oG5GAggCcLiRc4L5fQJJYI03TvYuKGZPy4LAWGshM\n",
            "\n",
            "The authorization workflow will generate a code, which you should paste in the box below.\n",
            "Enter verification code: 4/1AdQt8qjXeeXz-v3VMp__Hz5jUQvDn0ykHuGoInXlyJ1A80MD-PAtLfbU7wc\n",
            "\n",
            "Successfully saved authorization token.\n"
          ]
        }
      ]
    },
    {
      "cell_type": "code",
      "metadata": {
        "id": "wF76mUYr3TK_"
      },
      "source": [
        "#Initialize EE\n",
        "ee.Initialize()"
      ],
      "execution_count": null,
      "outputs": []
    },
    {
      "cell_type": "code",
      "metadata": {
        "id": "ypKuzTz1oTBa"
      },
      "source": [
        "#Set the dataset from EE Image Collection\n",
        "dataset = ee.ImageCollection(\"NASA/GLDAS/V021/NOAH/G025/T3H\")"
      ],
      "execution_count": null,
      "outputs": []
    },
    {
      "cell_type": "code",
      "metadata": {
        "id": "22lIv_BGqL1t"
      },
      "source": [
        "#Set the dataset taken time\n",
        "taken = dataset.filterDate(\"2022-07-01\", \"2022-07-31\")"
      ],
      "execution_count": null,
      "outputs": []
    },
    {
      "cell_type": "code",
      "metadata": {
        "id": "z6VikaAxrAHn"
      },
      "source": [
        "#Get the first raster for visualize the data\n",
        "first_raster = ee.Image(taken.first())"
      ],
      "execution_count": null,
      "outputs": []
    },
    {
      "cell_type": "code",
      "metadata": {
        "colab": {
          "base_uri": "https://localhost:8080/"
        },
        "id": "6xQk7FDMrQOY",
        "outputId": "cca604d5-0a0a-4259-9fcb-d2dbe182c424"
      },
      "source": [
        "#Get info from the selected raster\n",
        "img = first_raster\n",
        "\n",
        "img.getInfo()"
      ],
      "execution_count": null,
      "outputs": [
        {
          "output_type": "execute_result",
          "data": {
            "text/plain": [
              "{'type': 'Image',\n",
              " 'bands': [{'id': 'Albedo_inst',\n",
              "   'data_type': {'type': 'PixelType', 'precision': 'float'},\n",
              "   'dimensions': [1440, 600],\n",
              "   'crs': 'EPSG:4326',\n",
              "   'crs_transform': [0.25, 0, -180, 0, -0.25, 90]},\n",
              "  {'id': 'AvgSurfT_inst',\n",
              "   'data_type': {'type': 'PixelType', 'precision': 'float'},\n",
              "   'dimensions': [1440, 600],\n",
              "   'crs': 'EPSG:4326',\n",
              "   'crs_transform': [0.25, 0, -180, 0, -0.25, 90]},\n",
              "  {'id': 'CanopInt_inst',\n",
              "   'data_type': {'type': 'PixelType', 'precision': 'float'},\n",
              "   'dimensions': [1440, 600],\n",
              "   'crs': 'EPSG:4326',\n",
              "   'crs_transform': [0.25, 0, -180, 0, -0.25, 90]},\n",
              "  {'id': 'ECanop_tavg',\n",
              "   'data_type': {'type': 'PixelType', 'precision': 'float'},\n",
              "   'dimensions': [1440, 600],\n",
              "   'crs': 'EPSG:4326',\n",
              "   'crs_transform': [0.25, 0, -180, 0, -0.25, 90]},\n",
              "  {'id': 'ESoil_tavg',\n",
              "   'data_type': {'type': 'PixelType', 'precision': 'float'},\n",
              "   'dimensions': [1440, 600],\n",
              "   'crs': 'EPSG:4326',\n",
              "   'crs_transform': [0.25, 0, -180, 0, -0.25, 90]},\n",
              "  {'id': 'Evap_tavg',\n",
              "   'data_type': {'type': 'PixelType', 'precision': 'float'},\n",
              "   'dimensions': [1440, 600],\n",
              "   'crs': 'EPSG:4326',\n",
              "   'crs_transform': [0.25, 0, -180, 0, -0.25, 90]},\n",
              "  {'id': 'LWdown_f_tavg',\n",
              "   'data_type': {'type': 'PixelType', 'precision': 'float'},\n",
              "   'dimensions': [1440, 600],\n",
              "   'crs': 'EPSG:4326',\n",
              "   'crs_transform': [0.25, 0, -180, 0, -0.25, 90]},\n",
              "  {'id': 'Lwnet_tavg',\n",
              "   'data_type': {'type': 'PixelType', 'precision': 'float'},\n",
              "   'dimensions': [1440, 600],\n",
              "   'crs': 'EPSG:4326',\n",
              "   'crs_transform': [0.25, 0, -180, 0, -0.25, 90]},\n",
              "  {'id': 'PotEvap_tavg',\n",
              "   'data_type': {'type': 'PixelType', 'precision': 'float'},\n",
              "   'dimensions': [1440, 600],\n",
              "   'crs': 'EPSG:4326',\n",
              "   'crs_transform': [0.25, 0, -180, 0, -0.25, 90]},\n",
              "  {'id': 'Psurf_f_inst',\n",
              "   'data_type': {'type': 'PixelType', 'precision': 'float'},\n",
              "   'dimensions': [1440, 600],\n",
              "   'crs': 'EPSG:4326',\n",
              "   'crs_transform': [0.25, 0, -180, 0, -0.25, 90]},\n",
              "  {'id': 'Qair_f_inst',\n",
              "   'data_type': {'type': 'PixelType', 'precision': 'float'},\n",
              "   'dimensions': [1440, 600],\n",
              "   'crs': 'EPSG:4326',\n",
              "   'crs_transform': [0.25, 0, -180, 0, -0.25, 90]},\n",
              "  {'id': 'Qg_tavg',\n",
              "   'data_type': {'type': 'PixelType', 'precision': 'float'},\n",
              "   'dimensions': [1440, 600],\n",
              "   'crs': 'EPSG:4326',\n",
              "   'crs_transform': [0.25, 0, -180, 0, -0.25, 90]},\n",
              "  {'id': 'Qh_tavg',\n",
              "   'data_type': {'type': 'PixelType', 'precision': 'float'},\n",
              "   'dimensions': [1440, 600],\n",
              "   'crs': 'EPSG:4326',\n",
              "   'crs_transform': [0.25, 0, -180, 0, -0.25, 90]},\n",
              "  {'id': 'Qle_tavg',\n",
              "   'data_type': {'type': 'PixelType', 'precision': 'float'},\n",
              "   'dimensions': [1440, 600],\n",
              "   'crs': 'EPSG:4326',\n",
              "   'crs_transform': [0.25, 0, -180, 0, -0.25, 90]},\n",
              "  {'id': 'Qs_acc',\n",
              "   'data_type': {'type': 'PixelType', 'precision': 'float'},\n",
              "   'dimensions': [1440, 600],\n",
              "   'crs': 'EPSG:4326',\n",
              "   'crs_transform': [0.25, 0, -180, 0, -0.25, 90]},\n",
              "  {'id': 'Qsb_acc',\n",
              "   'data_type': {'type': 'PixelType', 'precision': 'float'},\n",
              "   'dimensions': [1440, 600],\n",
              "   'crs': 'EPSG:4326',\n",
              "   'crs_transform': [0.25, 0, -180, 0, -0.25, 90]},\n",
              "  {'id': 'Qsm_acc',\n",
              "   'data_type': {'type': 'PixelType', 'precision': 'float'},\n",
              "   'dimensions': [1440, 600],\n",
              "   'crs': 'EPSG:4326',\n",
              "   'crs_transform': [0.25, 0, -180, 0, -0.25, 90]},\n",
              "  {'id': 'Rainf_f_tavg',\n",
              "   'data_type': {'type': 'PixelType', 'precision': 'float'},\n",
              "   'dimensions': [1440, 600],\n",
              "   'crs': 'EPSG:4326',\n",
              "   'crs_transform': [0.25, 0, -180, 0, -0.25, 90]},\n",
              "  {'id': 'Rainf_tavg',\n",
              "   'data_type': {'type': 'PixelType', 'precision': 'float'},\n",
              "   'dimensions': [1440, 600],\n",
              "   'crs': 'EPSG:4326',\n",
              "   'crs_transform': [0.25, 0, -180, 0, -0.25, 90]},\n",
              "  {'id': 'RootMoist_inst',\n",
              "   'data_type': {'type': 'PixelType', 'precision': 'float'},\n",
              "   'dimensions': [1440, 600],\n",
              "   'crs': 'EPSG:4326',\n",
              "   'crs_transform': [0.25, 0, -180, 0, -0.25, 90]},\n",
              "  {'id': 'SWE_inst',\n",
              "   'data_type': {'type': 'PixelType', 'precision': 'float'},\n",
              "   'dimensions': [1440, 600],\n",
              "   'crs': 'EPSG:4326',\n",
              "   'crs_transform': [0.25, 0, -180, 0, -0.25, 90]},\n",
              "  {'id': 'SWdown_f_tavg',\n",
              "   'data_type': {'type': 'PixelType', 'precision': 'float'},\n",
              "   'dimensions': [1440, 600],\n",
              "   'crs': 'EPSG:4326',\n",
              "   'crs_transform': [0.25, 0, -180, 0, -0.25, 90]},\n",
              "  {'id': 'SnowDepth_inst',\n",
              "   'data_type': {'type': 'PixelType', 'precision': 'float'},\n",
              "   'dimensions': [1440, 600],\n",
              "   'crs': 'EPSG:4326',\n",
              "   'crs_transform': [0.25, 0, -180, 0, -0.25, 90]},\n",
              "  {'id': 'Snowf_tavg',\n",
              "   'data_type': {'type': 'PixelType', 'precision': 'float'},\n",
              "   'dimensions': [1440, 600],\n",
              "   'crs': 'EPSG:4326',\n",
              "   'crs_transform': [0.25, 0, -180, 0, -0.25, 90]},\n",
              "  {'id': 'SoilMoi0_10cm_inst',\n",
              "   'data_type': {'type': 'PixelType', 'precision': 'float'},\n",
              "   'dimensions': [1440, 600],\n",
              "   'crs': 'EPSG:4326',\n",
              "   'crs_transform': [0.25, 0, -180, 0, -0.25, 90]},\n",
              "  {'id': 'SoilMoi100_200cm_inst',\n",
              "   'data_type': {'type': 'PixelType', 'precision': 'float'},\n",
              "   'dimensions': [1440, 600],\n",
              "   'crs': 'EPSG:4326',\n",
              "   'crs_transform': [0.25, 0, -180, 0, -0.25, 90]},\n",
              "  {'id': 'SoilMoi10_40cm_inst',\n",
              "   'data_type': {'type': 'PixelType', 'precision': 'float'},\n",
              "   'dimensions': [1440, 600],\n",
              "   'crs': 'EPSG:4326',\n",
              "   'crs_transform': [0.25, 0, -180, 0, -0.25, 90]},\n",
              "  {'id': 'SoilMoi40_100cm_inst',\n",
              "   'data_type': {'type': 'PixelType', 'precision': 'float'},\n",
              "   'dimensions': [1440, 600],\n",
              "   'crs': 'EPSG:4326',\n",
              "   'crs_transform': [0.25, 0, -180, 0, -0.25, 90]},\n",
              "  {'id': 'SoilTMP0_10cm_inst',\n",
              "   'data_type': {'type': 'PixelType', 'precision': 'float'},\n",
              "   'dimensions': [1440, 600],\n",
              "   'crs': 'EPSG:4326',\n",
              "   'crs_transform': [0.25, 0, -180, 0, -0.25, 90]},\n",
              "  {'id': 'SoilTMP100_200cm_inst',\n",
              "   'data_type': {'type': 'PixelType', 'precision': 'float'},\n",
              "   'dimensions': [1440, 600],\n",
              "   'crs': 'EPSG:4326',\n",
              "   'crs_transform': [0.25, 0, -180, 0, -0.25, 90]},\n",
              "  {'id': 'SoilTMP10_40cm_inst',\n",
              "   'data_type': {'type': 'PixelType', 'precision': 'float'},\n",
              "   'dimensions': [1440, 600],\n",
              "   'crs': 'EPSG:4326',\n",
              "   'crs_transform': [0.25, 0, -180, 0, -0.25, 90]},\n",
              "  {'id': 'SoilTMP40_100cm_inst',\n",
              "   'data_type': {'type': 'PixelType', 'precision': 'float'},\n",
              "   'dimensions': [1440, 600],\n",
              "   'crs': 'EPSG:4326',\n",
              "   'crs_transform': [0.25, 0, -180, 0, -0.25, 90]},\n",
              "  {'id': 'Swnet_tavg',\n",
              "   'data_type': {'type': 'PixelType', 'precision': 'float'},\n",
              "   'dimensions': [1440, 600],\n",
              "   'crs': 'EPSG:4326',\n",
              "   'crs_transform': [0.25, 0, -180, 0, -0.25, 90]},\n",
              "  {'id': 'Tair_f_inst',\n",
              "   'data_type': {'type': 'PixelType', 'precision': 'float'},\n",
              "   'dimensions': [1440, 600],\n",
              "   'crs': 'EPSG:4326',\n",
              "   'crs_transform': [0.25, 0, -180, 0, -0.25, 90]},\n",
              "  {'id': 'Tveg_tavg',\n",
              "   'data_type': {'type': 'PixelType', 'precision': 'float'},\n",
              "   'dimensions': [1440, 600],\n",
              "   'crs': 'EPSG:4326',\n",
              "   'crs_transform': [0.25, 0, -180, 0, -0.25, 90]},\n",
              "  {'id': 'Wind_f_inst',\n",
              "   'data_type': {'type': 'PixelType', 'precision': 'float'},\n",
              "   'dimensions': [1440, 600],\n",
              "   'crs': 'EPSG:4326',\n",
              "   'crs_transform': [0.25, 0, -180, 0, -0.25, 90]}],\n",
              " 'version': 1657763274874835,\n",
              " 'id': 'NASA/GLDAS/V021/NOAH/G025/T3H/A20220701_0000',\n",
              " 'properties': {'system:time_start': 1656633600000,\n",
              "  'system:footprint': {'type': 'LinearRing',\n",
              "   'coordinates': [[-180, -90],\n",
              "    [180, -90],\n",
              "    [180, 90],\n",
              "    [-180, 90],\n",
              "    [-180, -90]]},\n",
              "  'start_hour': 0,\n",
              "  'system:time_end': 1656644400000,\n",
              "  'end_hour': 3,\n",
              "  'system:asset_size': 25934412,\n",
              "  'status': 'early',\n",
              "  'system:index': 'A20220701_0000'}}"
            ]
          },
          "metadata": {},
          "execution_count": 7
        }
      ]
    },
    {
      "cell_type": "code",
      "metadata": {
        "id": "-LZWnrxMtVAQ"
      },
      "source": [
        "#Get the temperature value from T band\n",
        "temperature = img.select(\"Tair_f_inst\")"
      ],
      "execution_count": null,
      "outputs": []
    },
    {
      "cell_type": "code",
      "metadata": {
        "id": "VtpzlozDt65k"
      },
      "source": [
        "#Import the folium library.\n",
        "import folium\n",
        "from folium import plugins"
      ],
      "execution_count": null,
      "outputs": []
    },
    {
      "cell_type": "code",
      "metadata": {
        "id": "-yATwqKDuBL4"
      },
      "source": [
        "#Set the basemap for map\n",
        "basemaps = {\n",
        "    \"Google Maps\": folium.TileLayer(\n",
        "        tiles = \"https://mt1.google.com/vt/lyrs=m&x={x}&y={y}&z={z}\",\n",
        "        attr = \"Google\",\n",
        "        name = \"Google Maps\",\n",
        "        overlay = True,\n",
        "        control = True\n",
        "    ),\n",
        "    \"Google Satellite\": folium.TileLayer(\n",
        "        tiles = \"https://mt1.google.com/vt/lyrs=s&x={x}&y={y}&z={z}\",\n",
        "        attr = \"Google\",\n",
        "        name = \"Google Satellite\",\n",
        "        overlay = True,\n",
        "        control = True\n",
        "    )\n",
        "}"
      ],
      "execution_count": null,
      "outputs": []
    },
    {
      "cell_type": "code",
      "metadata": {
        "colab": {
          "base_uri": "https://localhost:8080/",
          "height": 771
        },
        "id": "AwkpelXlvHl-",
        "outputId": "2d5a5ce3-2e42-49a5-8a6b-612d12aff2e0"
      },
      "source": [
        "# Define a method for displaying Earth Engine image tiles to folium map.\n",
        "def add_ee_layer(self, ee_image_object, vis_params, name):\n",
        "  map_id_dict = ee.Image(ee_image_object).getMapId(vis_params)\n",
        "  \n",
        "  folium.raster_layers.TileLayer(\n",
        "    tiles = map_id_dict[\"tile_fetcher\"].url_format,\n",
        "    attr = \"Map Data &copy; <a href=\"https://earthengine.google.com/\">Google Earth Engine</a>\",\n",
        "    name = name,\n",
        "    overlay = True,\n",
        "    control = True\n",
        "  ).add_to(self)\n",
        "\n",
        "# Add EE drawing method to folium.\n",
        "folium.Map.add_ee_layer = add_ee_layer\n",
        "\n",
        "# Create a folium map object.\n",
        "my_map = folium.Map(location=[-7.50, 111.25], zoom_start=3, height=1000)\n",
        "\n",
        "# Add custom basemaps\n",
        "basemaps[\"Google Satellite\"].add_to(my_map)\n",
        "\n",
        "# Add fullscreen button\n",
        "plugins.Fullscreen().add_to(my_map)\n",
        "\n",
        "# Temperature Params\n",
        "temp_params = {\n",
        "  \"min\": 206,\n",
        "  \"max\": 328,\n",
        "  \"palette\": [\"green\", \"yellow\", \"red\"]}\n",
        "\n",
        "# Add the elevation model to the map object.\n",
        "my_map.add_ee_layer(temperature.updateMask(temperature.gt(0)), temp_params, \"Air Temperature\")\n",
        "\n",
        "# Add a layer control panel to the map.\n",
        "my_map.add_child(folium.LayerControl())\n",
        "\n",
        "# Display the map.\n",
        "display(my_map)"
      ],
      "execution_count": null,
      "outputs": [
        {
          "output_type": "display_data",
          "data": {
            "text/plain": [
              "<folium.folium.Map at 0x7fceb9ea96d0>"
            ],
            "text/html": [
              "<div style=\"width:100%;\"><div style=\"position:relative;width:100%;height:0;padding-bottom:60%;\"><span style=\"color:#565656\">Make this Notebook Trusted to load map: File -> Trust Notebook</span><iframe srcdoc=\"&lt;!DOCTYPE html&gt;\n",
              "&lt;head&gt;    \n",
              "    &lt;meta http-equiv=&quot;content-type&quot; content=&quot;text/html; charset=UTF-8&quot; /&gt;\n",
              "    \n",
              "        &lt;script&gt;\n",
              "            L_NO_TOUCH = false;\n",
              "            L_DISABLE_3D = false;\n",
              "        &lt;/script&gt;\n",
              "    \n",
              "    &lt;style&gt;html, body {width: 100%;height: 100%;margin: 0;padding: 0;}&lt;/style&gt;\n",
              "    &lt;style&gt;#map {position:absolute;top:0;bottom:0;right:0;left:0;}&lt;/style&gt;\n",
              "    &lt;script src=&quot;https://cdn.jsdelivr.net/npm/leaflet@1.6.0/dist/leaflet.js&quot;&gt;&lt;/script&gt;\n",
              "    &lt;script src=&quot;https://code.jquery.com/jquery-1.12.4.min.js&quot;&gt;&lt;/script&gt;\n",
              "    &lt;script src=&quot;https://maxcdn.bootstrapcdn.com/bootstrap/3.2.0/js/bootstrap.min.js&quot;&gt;&lt;/script&gt;\n",
              "    &lt;script src=&quot;https://cdnjs.cloudflare.com/ajax/libs/Leaflet.awesome-markers/2.0.2/leaflet.awesome-markers.js&quot;&gt;&lt;/script&gt;\n",
              "    &lt;link rel=&quot;stylesheet&quot; href=&quot;https://cdn.jsdelivr.net/npm/leaflet@1.6.0/dist/leaflet.css&quot;/&gt;\n",
              "    &lt;link rel=&quot;stylesheet&quot; href=&quot;https://maxcdn.bootstrapcdn.com/bootstrap/3.2.0/css/bootstrap.min.css&quot;/&gt;\n",
              "    &lt;link rel=&quot;stylesheet&quot; href=&quot;https://maxcdn.bootstrapcdn.com/bootstrap/3.2.0/css/bootstrap-theme.min.css&quot;/&gt;\n",
              "    &lt;link rel=&quot;stylesheet&quot; href=&quot;https://maxcdn.bootstrapcdn.com/font-awesome/4.6.3/css/font-awesome.min.css&quot;/&gt;\n",
              "    &lt;link rel=&quot;stylesheet&quot; href=&quot;https://cdnjs.cloudflare.com/ajax/libs/Leaflet.awesome-markers/2.0.2/leaflet.awesome-markers.css&quot;/&gt;\n",
              "    &lt;link rel=&quot;stylesheet&quot; href=&quot;https://cdn.jsdelivr.net/gh/python-visualization/folium/folium/templates/leaflet.awesome.rotate.min.css&quot;/&gt;\n",
              "    \n",
              "            &lt;meta name=&quot;viewport&quot; content=&quot;width=device-width,\n",
              "                initial-scale=1.0, maximum-scale=1.0, user-scalable=no&quot; /&gt;\n",
              "            &lt;style&gt;\n",
              "                #map_da30d30e9a8368b986b7f8b61b6c5495 {\n",
              "                    position: relative;\n",
              "                    width: 100.0%;\n",
              "                    height: 1000.0px;\n",
              "                    left: 0.0%;\n",
              "                    top: 0.0%;\n",
              "                }\n",
              "            &lt;/style&gt;\n",
              "        \n",
              "    &lt;script src=&quot;https://cdnjs.cloudflare.com/ajax/libs/leaflet.fullscreen/1.4.2/Control.FullScreen.min.js&quot;&gt;&lt;/script&gt;\n",
              "    &lt;link rel=&quot;stylesheet&quot; href=&quot;https://cdnjs.cloudflare.com/ajax/libs/leaflet.fullscreen/1.4.2/Control.FullScreen.min.css&quot;/&gt;\n",
              "&lt;/head&gt;\n",
              "&lt;body&gt;    \n",
              "    \n",
              "            &lt;div class=&quot;folium-map&quot; id=&quot;map_da30d30e9a8368b986b7f8b61b6c5495&quot; &gt;&lt;/div&gt;\n",
              "        \n",
              "&lt;/body&gt;\n",
              "&lt;script&gt;    \n",
              "    \n",
              "            var map_da30d30e9a8368b986b7f8b61b6c5495 = L.map(\n",
              "                &quot;map_da30d30e9a8368b986b7f8b61b6c5495&quot;,\n",
              "                {\n",
              "                    center: [-7.5, 111.25],\n",
              "                    crs: L.CRS.EPSG3857,\n",
              "                    zoom: 3,\n",
              "                    zoomControl: true,\n",
              "                    preferCanvas: false,\n",
              "                }\n",
              "            );\n",
              "\n",
              "            \n",
              "\n",
              "        \n",
              "    \n",
              "            var tile_layer_7f46b179276c2128dcd87cefc1df9cc7 = L.tileLayer(\n",
              "                &quot;https://{s}.tile.openstreetmap.org/{z}/{x}/{y}.png&quot;,\n",
              "                {&quot;attribution&quot;: &quot;Data by \\u0026copy; \\u003ca href=\\&quot;http://openstreetmap.org\\&quot;\\u003eOpenStreetMap\\u003c/a\\u003e, under \\u003ca href=\\&quot;http://www.openstreetmap.org/copyright\\&quot;\\u003eODbL\\u003c/a\\u003e.&quot;, &quot;detectRetina&quot;: false, &quot;maxNativeZoom&quot;: 18, &quot;maxZoom&quot;: 18, &quot;minZoom&quot;: 0, &quot;noWrap&quot;: false, &quot;opacity&quot;: 1, &quot;subdomains&quot;: &quot;abc&quot;, &quot;tms&quot;: false}\n",
              "            ).addTo(map_da30d30e9a8368b986b7f8b61b6c5495);\n",
              "        \n",
              "    \n",
              "            var tile_layer_8e76a28ed5a17db4ed1d29a52018c144 = L.tileLayer(\n",
              "                &quot;https://mt1.google.com/vt/lyrs=s\\u0026x={x}\\u0026y={y}\\u0026z={z}&quot;,\n",
              "                {&quot;attribution&quot;: &quot;Google&quot;, &quot;detectRetina&quot;: false, &quot;maxNativeZoom&quot;: 18, &quot;maxZoom&quot;: 18, &quot;minZoom&quot;: 0, &quot;noWrap&quot;: false, &quot;opacity&quot;: 1, &quot;subdomains&quot;: &quot;abc&quot;, &quot;tms&quot;: false}\n",
              "            ).addTo(map_da30d30e9a8368b986b7f8b61b6c5495);\n",
              "        \n",
              "    \n",
              "            L.control.fullscreen(\n",
              "                {&quot;forceSeparateButton&quot;: false, &quot;position&quot;: &quot;topleft&quot;, &quot;title&quot;: &quot;Full Screen&quot;, &quot;titleCancel&quot;: &quot;Exit Full Screen&quot;}\n",
              "            ).addTo(map_da30d30e9a8368b986b7f8b61b6c5495);\n",
              "        \n",
              "    \n",
              "            var tile_layer_2580cfd41248eab41209d4ae24e01296 = L.tileLayer(\n",
              "                &quot;https://earthengine.googleapis.com/v1alpha/projects/earthengine-legacy/maps/df50065dc24932426fc162b6344e62de-3afe1cc657a0c2094f92893a885c8981/tiles/{z}/{x}/{y}&quot;,\n",
              "                {&quot;attribution&quot;: &quot;Map Data \\u0026copy; \\u003ca href=\\&quot;https://earthengine.google.com/\\&quot;\\u003eGoogle Earth Engine\\u003c/a\\u003e&quot;, &quot;detectRetina&quot;: false, &quot;maxNativeZoom&quot;: 18, &quot;maxZoom&quot;: 18, &quot;minZoom&quot;: 0, &quot;noWrap&quot;: false, &quot;opacity&quot;: 1, &quot;subdomains&quot;: &quot;abc&quot;, &quot;tms&quot;: false}\n",
              "            ).addTo(map_da30d30e9a8368b986b7f8b61b6c5495);\n",
              "        \n",
              "    \n",
              "            var layer_control_841fbcec5dcf26c00201e141368d6cad = {\n",
              "                base_layers : {\n",
              "                    &quot;openstreetmap&quot; : tile_layer_7f46b179276c2128dcd87cefc1df9cc7,\n",
              "                },\n",
              "                overlays :  {\n",
              "                    &quot;Google Satellite&quot; : tile_layer_8e76a28ed5a17db4ed1d29a52018c144,\n",
              "                    &quot;Air Temperature&quot; : tile_layer_2580cfd41248eab41209d4ae24e01296,\n",
              "                },\n",
              "            };\n",
              "            L.control.layers(\n",
              "                layer_control_841fbcec5dcf26c00201e141368d6cad.base_layers,\n",
              "                layer_control_841fbcec5dcf26c00201e141368d6cad.overlays,\n",
              "                {&quot;autoZIndex&quot;: true, &quot;collapsed&quot;: true, &quot;position&quot;: &quot;topright&quot;}\n",
              "            ).addTo(map_da30d30e9a8368b986b7f8b61b6c5495);\n",
              "        \n",
              "&lt;/script&gt;\" style=\"position:absolute;width:100%;height:100%;left:0;top:0;border:none !important;\" allowfullscreen webkitallowfullscreen mozallowfullscreen></iframe></div></div>"
            ]
          },
          "metadata": {}
        }
      ]
    },
    {
      "cell_type": "code",
      "metadata": {
        "id": "GabtTCRr832J"
      },
      "source": [
        "#Set the AOI (Area of Interest)\n",
        "aoi = ee.Geometry.Polygon([\n",
        "          [\n",
        "            [\n",
        "              112.62535572052002,\n",
        "              -7.988390117845741\n",
        "            ],\n",
        "            [\n",
        "              112.64822959899902,\n",
        "              -7.988390117845741\n",
        "            ],\n",
        "            [\n",
        "              112.64822959899902,\n",
        "              -7.968202639589894\n",
        "            ],\n",
        "            [\n",
        "              112.62535572052002,\n",
        "              -7.968202639589894\n",
        "            ],\n",
        "            [\n",
        "              112.62535572052002,\n",
        "              -7.988390117845741\n",
        "            ]\n",
        "          ]\n",
        "        ], None, False)\n",
        "\n",
        "#poi = ee.Geometry.Point([112.644105, -7.9514187])"
      ],
      "execution_count": null,
      "outputs": []
    },
    {
      "cell_type": "code",
      "metadata": {
        "id": "cMyLqUAO-Og5"
      },
      "source": [
        "#Reduce the raster\n",
        "def setProperty(image):\n",
        "    dict = image.reduceRegion(ee.Reducer.mean(), aoi)\n",
        "    return image.set(dict)"
      ],
      "execution_count": null,
      "outputs": []
    },
    {
      "cell_type": "code",
      "metadata": {
        "id": "iFLfVjIA_m3r"
      },
      "source": [
        "#Calculate the raster property\n",
        "withMean = taken.map(setProperty)"
      ],
      "execution_count": null,
      "outputs": []
    },
    {
      "cell_type": "code",
      "metadata": {
        "id": "V3N2Dw-v-jh2"
      },
      "source": [
        "import pandas as pd\n",
        "\n",
        "#Convert temperature unit (Kelvin) to Celcius \n",
        "t_avg = withMean.aggregate_array(\"AvgSurfT_inst\").getInfo()\n",
        "t_c = [x - 273 for x in t_avg]\n",
        "t_c = pd.Series(t_c).round(decimals=0)\n",
        "\n",
        "#print(t_c)"
      ],
      "execution_count": null,
      "outputs": []
    },
    {
      "cell_type": "code",
      "metadata": {
        "id": "5tAcbgWJDZkS"
      },
      "source": [
        "#Get the date\n",
        "from datetime import datetime as dt\n",
        "\n",
        "time = withMean.aggregate_array(\"system:time_start\").getInfo()\n",
        "#Convert from miliseconds to true time (local time with 24-H format)\n",
        "date = [x // 1000 for x in time]\n",
        "captured = [dt.utcfromtimestamp(i).strftime(\"%c GMT\") for i in date]\n",
        "captured = pd.Series(captured)\n",
        "converted_date = pd.to_datetime(captured).dt.tz_convert(\"Asia/Jakarta\")\n",
        "\n",
        "# print(captured)"
      ],
      "execution_count": null,
      "outputs": []
    },
    {
      "cell_type": "code",
      "metadata": {
        "colab": {
          "base_uri": "https://localhost:8080/"
        },
        "id": "PtnKAGyOdM3j",
        "outputId": "63e8c9c1-c948-428b-b384-da953f5ee2ec"
      },
      "source": [
        "#Just look inside the array\n",
        "t_c"
      ],
      "execution_count": null,
      "outputs": [
        {
          "output_type": "execute_result",
          "data": {
            "text/plain": [
              "0      21.0\n",
              "1      30.0\n",
              "2      30.0\n",
              "3      23.0\n",
              "4      17.0\n",
              "       ... \n",
              "231    28.0\n",
              "232    33.0\n",
              "233    25.0\n",
              "234    18.0\n",
              "235    15.0\n",
              "Length: 236, dtype: float64"
            ]
          },
          "metadata": {},
          "execution_count": 17
        }
      ]
    },
    {
      "cell_type": "code",
      "metadata": {
        "colab": {
          "base_uri": "https://localhost:8080/"
        },
        "id": "hx1FcGardYAz",
        "outputId": "b01a3ac0-7c3e-4f5b-aa3f-8d732a506c16"
      },
      "source": [
        "#Just look inside the array\n",
        "converted_date"
      ],
      "execution_count": null,
      "outputs": [
        {
          "output_type": "execute_result",
          "data": {
            "text/plain": [
              "0     2022-07-01 07:00:00+07:00\n",
              "1     2022-07-01 10:00:00+07:00\n",
              "2     2022-07-01 13:00:00+07:00\n",
              "3     2022-07-01 16:00:00+07:00\n",
              "4     2022-07-01 19:00:00+07:00\n",
              "                 ...           \n",
              "231   2022-07-30 10:00:00+07:00\n",
              "232   2022-07-30 13:00:00+07:00\n",
              "233   2022-07-30 16:00:00+07:00\n",
              "234   2022-07-30 19:00:00+07:00\n",
              "235   2022-07-31 04:00:00+07:00\n",
              "Length: 236, dtype: datetime64[ns, Asia/Jakarta]"
            ]
          },
          "metadata": {},
          "execution_count": 18
        }
      ]
    },
    {
      "cell_type": "code",
      "metadata": {
        "colab": {
          "base_uri": "https://localhost:8080/",
          "height": 424
        },
        "id": "M3cPPuK4aCmp",
        "outputId": "33c493be-2baa-4783-8bd4-74771aaae7d4"
      },
      "source": [
        "#Visualize The Data\n",
        "\n",
        "#Convert from numpy array to Pandas Series\n",
        "date = pd.Series(converted_date)\n",
        "day = date.dt.day_name()\n",
        "temperature = pd.Series(t_c)\n",
        "#Concatnate the columns of Date and Temperature\n",
        "df = pd.concat([day, date, temperature], axis=1)\n",
        "df.columns = [\"day\", \"date\", \"temperature\"]\n",
        "\n",
        "df"
      ],
      "execution_count": null,
      "outputs": [
        {
          "output_type": "execute_result",
          "data": {
            "text/plain": [
              "          day                      date  temperature\n",
              "0      Friday 2022-07-01 07:00:00+07:00         21.0\n",
              "1      Friday 2022-07-01 10:00:00+07:00         30.0\n",
              "2      Friday 2022-07-01 13:00:00+07:00         30.0\n",
              "3      Friday 2022-07-01 16:00:00+07:00         23.0\n",
              "4      Friday 2022-07-01 19:00:00+07:00         17.0\n",
              "..        ...                       ...          ...\n",
              "231  Saturday 2022-07-30 10:00:00+07:00         28.0\n",
              "232  Saturday 2022-07-30 13:00:00+07:00         33.0\n",
              "233  Saturday 2022-07-30 16:00:00+07:00         25.0\n",
              "234  Saturday 2022-07-30 19:00:00+07:00         18.0\n",
              "235    Sunday 2022-07-31 04:00:00+07:00         15.0\n",
              "\n",
              "[236 rows x 3 columns]"
            ],
            "text/html": [
              "\n",
              "  <div id=\"df-5adde928-98cf-4b4b-ab60-ce525e484056\">\n",
              "    <div class=\"colab-df-container\">\n",
              "      <div>\n",
              "<style scoped>\n",
              "    .dataframe tbody tr th:only-of-type {\n",
              "        vertical-align: middle;\n",
              "    }\n",
              "\n",
              "    .dataframe tbody tr th {\n",
              "        vertical-align: top;\n",
              "    }\n",
              "\n",
              "    .dataframe thead th {\n",
              "        text-align: right;\n",
              "    }\n",
              "</style>\n",
              "<table border=\"1\" class=\"dataframe\">\n",
              "  <thead>\n",
              "    <tr style=\"text-align: right;\">\n",
              "      <th></th>\n",
              "      <th>day</th>\n",
              "      <th>date</th>\n",
              "      <th>temperature</th>\n",
              "    </tr>\n",
              "  </thead>\n",
              "  <tbody>\n",
              "    <tr>\n",
              "      <th>0</th>\n",
              "      <td>Friday</td>\n",
              "      <td>2022-07-01 07:00:00+07:00</td>\n",
              "      <td>21.0</td>\n",
              "    </tr>\n",
              "    <tr>\n",
              "      <th>1</th>\n",
              "      <td>Friday</td>\n",
              "      <td>2022-07-01 10:00:00+07:00</td>\n",
              "      <td>30.0</td>\n",
              "    </tr>\n",
              "    <tr>\n",
              "      <th>2</th>\n",
              "      <td>Friday</td>\n",
              "      <td>2022-07-01 13:00:00+07:00</td>\n",
              "      <td>30.0</td>\n",
              "    </tr>\n",
              "    <tr>\n",
              "      <th>3</th>\n",
              "      <td>Friday</td>\n",
              "      <td>2022-07-01 16:00:00+07:00</td>\n",
              "      <td>23.0</td>\n",
              "    </tr>\n",
              "    <tr>\n",
              "      <th>4</th>\n",
              "      <td>Friday</td>\n",
              "      <td>2022-07-01 19:00:00+07:00</td>\n",
              "      <td>17.0</td>\n",
              "    </tr>\n",
              "    <tr>\n",
              "      <th>...</th>\n",
              "      <td>...</td>\n",
              "      <td>...</td>\n",
              "      <td>...</td>\n",
              "    </tr>\n",
              "    <tr>\n",
              "      <th>231</th>\n",
              "      <td>Saturday</td>\n",
              "      <td>2022-07-30 10:00:00+07:00</td>\n",
              "      <td>28.0</td>\n",
              "    </tr>\n",
              "    <tr>\n",
              "      <th>232</th>\n",
              "      <td>Saturday</td>\n",
              "      <td>2022-07-30 13:00:00+07:00</td>\n",
              "      <td>33.0</td>\n",
              "    </tr>\n",
              "    <tr>\n",
              "      <th>233</th>\n",
              "      <td>Saturday</td>\n",
              "      <td>2022-07-30 16:00:00+07:00</td>\n",
              "      <td>25.0</td>\n",
              "    </tr>\n",
              "    <tr>\n",
              "      <th>234</th>\n",
              "      <td>Saturday</td>\n",
              "      <td>2022-07-30 19:00:00+07:00</td>\n",
              "      <td>18.0</td>\n",
              "    </tr>\n",
              "    <tr>\n",
              "      <th>235</th>\n",
              "      <td>Sunday</td>\n",
              "      <td>2022-07-31 04:00:00+07:00</td>\n",
              "      <td>15.0</td>\n",
              "    </tr>\n",
              "  </tbody>\n",
              "</table>\n",
              "<p>236 rows × 3 columns</p>\n",
              "</div>\n",
              "      <button class=\"colab-df-convert\" onclick=\"convertToInteractive('df-5adde928-98cf-4b4b-ab60-ce525e484056')\"\n",
              "              title=\"Convert this dataframe to an interactive table.\"\n",
              "              style=\"display:none;\">\n",
              "        \n",
              "  <svg xmlns=\"http://www.w3.org/2000/svg\" height=\"24px\"viewBox=\"0 0 24 24\"\n",
              "       width=\"24px\">\n",
              "    <path d=\"M0 0h24v24H0V0z\" fill=\"none\"/>\n",
              "    <path d=\"M18.56 5.44l.94 2.06.94-2.06 2.06-.94-2.06-.94-.94-2.06-.94 2.06-2.06.94zm-11 1L8.5 8.5l.94-2.06 2.06-.94-2.06-.94L8.5 2.5l-.94 2.06-2.06.94zm10 10l.94 2.06.94-2.06 2.06-.94-2.06-.94-.94-2.06-.94 2.06-2.06.94z\"/><path d=\"M17.41 7.96l-1.37-1.37c-.4-.4-.92-.59-1.43-.59-.52 0-1.04.2-1.43.59L10.3 9.45l-7.72 7.72c-.78.78-.78 2.05 0 2.83L4 21.41c.39.39.9.59 1.41.59.51 0 1.02-.2 1.41-.59l7.78-7.78 2.81-2.81c.8-.78.8-2.07 0-2.86zM5.41 20L4 18.59l7.72-7.72 1.47 1.35L5.41 20z\"/>\n",
              "  </svg>\n",
              "      </button>\n",
              "      \n",
              "  <style>\n",
              "    .colab-df-container {\n",
              "      display:flex;\n",
              "      flex-wrap:wrap;\n",
              "      gap: 12px;\n",
              "    }\n",
              "\n",
              "    .colab-df-convert {\n",
              "      background-color: #E8F0FE;\n",
              "      border: none;\n",
              "      border-radius: 50%;\n",
              "      cursor: pointer;\n",
              "      display: none;\n",
              "      fill: #1967D2;\n",
              "      height: 32px;\n",
              "      padding: 0 0 0 0;\n",
              "      width: 32px;\n",
              "    }\n",
              "\n",
              "    .colab-df-convert:hover {\n",
              "      background-color: #E2EBFA;\n",
              "      box-shadow: 0px 1px 2px rgba(60, 64, 67, 0.3), 0px 1px 3px 1px rgba(60, 64, 67, 0.15);\n",
              "      fill: #174EA6;\n",
              "    }\n",
              "\n",
              "    [theme=dark] .colab-df-convert {\n",
              "      background-color: #3B4455;\n",
              "      fill: #D2E3FC;\n",
              "    }\n",
              "\n",
              "    [theme=dark] .colab-df-convert:hover {\n",
              "      background-color: #434B5C;\n",
              "      box-shadow: 0px 1px 3px 1px rgba(0, 0, 0, 0.15);\n",
              "      filter: drop-shadow(0px 1px 2px rgba(0, 0, 0, 0.3));\n",
              "      fill: #FFFFFF;\n",
              "    }\n",
              "  </style>\n",
              "\n",
              "      <script>\n",
              "        const buttonEl =\n",
              "          document.querySelector('#df-5adde928-98cf-4b4b-ab60-ce525e484056 button.colab-df-convert');\n",
              "        buttonEl.style.display =\n",
              "          google.colab.kernel.accessAllowed ? 'block' : 'none';\n",
              "\n",
              "        async function convertToInteractive(key) {\n",
              "          const element = document.querySelector('#df-5adde928-98cf-4b4b-ab60-ce525e484056');\n",
              "          const dataTable =\n",
              "            await google.colab.kernel.invokeFunction('convertToInteractive',\n",
              "                                                     [key], {});\n",
              "          if (!dataTable) return;\n",
              "\n",
              "          const docLinkHtml = 'Like what you see? Visit the ' +\n",
              "            '<a target=\"_blank\" href=https://colab.research.google.com/notebooks/data_table.ipynb>data table notebook</a>'\n",
              "            + ' to learn more about interactive tables.';\n",
              "          element.innerHTML = '';\n",
              "          dataTable['output_type'] = 'display_data';\n",
              "          await google.colab.output.renderOutput(dataTable, element);\n",
              "          const docLink = document.createElement('div');\n",
              "          docLink.innerHTML = docLinkHtml;\n",
              "          element.appendChild(docLink);\n",
              "        }\n",
              "      </script>\n",
              "    </div>\n",
              "  </div>\n",
              "  "
            ]
          },
          "metadata": {},
          "execution_count": 19
        }
      ]
    },
    {
      "cell_type": "code",
      "source": [
        "#Visualize the data with Plotly\n",
        "import plotly.express as px\n",
        "\n",
        "#Define x and y values\n",
        "fig = px.line(df, x=\"date\", y=\"temperature\", \n",
        "              title=\"Surface Temperature on Malang City - GLDAS-2.1 (NASA)\")\n",
        "#Show the figure\n",
        "fig.show()"
      ],
      "metadata": {
        "colab": {
          "base_uri": "https://localhost:8080/",
          "height": 542
        },
        "id": "IekUNI5VhIBL",
        "outputId": "f9550369-c349-4483-e8ef-3722e9cffb51"
      },
      "execution_count": null,
      "outputs": [
        {
          "output_type": "display_data",
          "data": {
            "text/html": [
              "<html>\n",
              "<head><meta charset=\"utf-8\" /></head>\n",
              "<body>\n",
              "    <div>            <script src=\"https://cdnjs.cloudflare.com/ajax/libs/mathjax/2.7.5/MathJax.js?config=TeX-AMS-MML_SVG\"></script><script type=\"text/javascript\">if (window.MathJax) {MathJax.Hub.Config({SVG: {font: \"STIX-Web\"}});}</script>                <script type=\"text/javascript\">window.PlotlyConfig = {MathJaxConfig: 'local'};</script>\n",
              "        <script src=\"https://cdn.plot.ly/plotly-2.8.3.min.js\"></script>                <div id=\"f34b7d5c-316c-426f-8247-149523f95d5a\" class=\"plotly-graph-div\" style=\"height:525px; width:100%;\"></div>            <script type=\"text/javascript\">                                    window.PLOTLYENV=window.PLOTLYENV || {};                                    if (document.getElementById(\"f34b7d5c-316c-426f-8247-149523f95d5a\")) {                    Plotly.newPlot(                        \"f34b7d5c-316c-426f-8247-149523f95d5a\",                        [{\"hovertemplate\":\"date=%{x}<br>temperature=%{y}<extra></extra>\",\"legendgroup\":\"\",\"line\":{\"color\":\"#636efa\",\"dash\":\"solid\"},\"marker\":{\"symbol\":\"circle\"},\"mode\":\"lines\",\"name\":\"\",\"orientation\":\"v\",\"showlegend\":false,\"x\":[\"2022-07-01T07:00:00+07:00\",\"2022-07-01T10:00:00+07:00\",\"2022-07-01T13:00:00+07:00\",\"2022-07-01T16:00:00+07:00\",\"2022-07-01T19:00:00+07:00\",\"2022-07-01T22:00:00+07:00\",\"2022-07-02T01:00:00+07:00\",\"2022-07-02T04:00:00+07:00\",\"2022-07-02T07:00:00+07:00\",\"2022-07-02T10:00:00+07:00\",\"2022-07-02T13:00:00+07:00\",\"2022-07-02T16:00:00+07:00\",\"2022-07-02T19:00:00+07:00\",\"2022-07-02T22:00:00+07:00\",\"2022-07-03T01:00:00+07:00\",\"2022-07-03T04:00:00+07:00\",\"2022-07-03T07:00:00+07:00\",\"2022-07-03T10:00:00+07:00\",\"2022-07-03T13:00:00+07:00\",\"2022-07-03T16:00:00+07:00\",\"2022-07-03T19:00:00+07:00\",\"2022-07-03T22:00:00+07:00\",\"2022-07-04T01:00:00+07:00\",\"2022-07-04T04:00:00+07:00\",\"2022-07-04T07:00:00+07:00\",\"2022-07-04T10:00:00+07:00\",\"2022-07-04T13:00:00+07:00\",\"2022-07-04T16:00:00+07:00\",\"2022-07-04T19:00:00+07:00\",\"2022-07-04T22:00:00+07:00\",\"2022-07-05T01:00:00+07:00\",\"2022-07-05T04:00:00+07:00\",\"2022-07-05T07:00:00+07:00\",\"2022-07-05T10:00:00+07:00\",\"2022-07-05T13:00:00+07:00\",\"2022-07-05T16:00:00+07:00\",\"2022-07-05T19:00:00+07:00\",\"2022-07-05T22:00:00+07:00\",\"2022-07-06T01:00:00+07:00\",\"2022-07-06T04:00:00+07:00\",\"2022-07-06T07:00:00+07:00\",\"2022-07-06T10:00:00+07:00\",\"2022-07-06T13:00:00+07:00\",\"2022-07-06T16:00:00+07:00\",\"2022-07-06T19:00:00+07:00\",\"2022-07-06T22:00:00+07:00\",\"2022-07-07T01:00:00+07:00\",\"2022-07-07T04:00:00+07:00\",\"2022-07-07T07:00:00+07:00\",\"2022-07-07T10:00:00+07:00\",\"2022-07-07T13:00:00+07:00\",\"2022-07-07T16:00:00+07:00\",\"2022-07-07T19:00:00+07:00\",\"2022-07-07T22:00:00+07:00\",\"2022-07-08T01:00:00+07:00\",\"2022-07-08T04:00:00+07:00\",\"2022-07-08T07:00:00+07:00\",\"2022-07-08T10:00:00+07:00\",\"2022-07-08T13:00:00+07:00\",\"2022-07-08T16:00:00+07:00\",\"2022-07-08T19:00:00+07:00\",\"2022-07-08T22:00:00+07:00\",\"2022-07-09T01:00:00+07:00\",\"2022-07-09T04:00:00+07:00\",\"2022-07-09T07:00:00+07:00\",\"2022-07-09T10:00:00+07:00\",\"2022-07-09T13:00:00+07:00\",\"2022-07-09T16:00:00+07:00\",\"2022-07-09T19:00:00+07:00\",\"2022-07-09T22:00:00+07:00\",\"2022-07-10T01:00:00+07:00\",\"2022-07-10T04:00:00+07:00\",\"2022-07-10T07:00:00+07:00\",\"2022-07-10T10:00:00+07:00\",\"2022-07-10T13:00:00+07:00\",\"2022-07-10T16:00:00+07:00\",\"2022-07-10T19:00:00+07:00\",\"2022-07-10T22:00:00+07:00\",\"2022-07-11T01:00:00+07:00\",\"2022-07-11T04:00:00+07:00\",\"2022-07-11T07:00:00+07:00\",\"2022-07-11T10:00:00+07:00\",\"2022-07-11T13:00:00+07:00\",\"2022-07-11T16:00:00+07:00\",\"2022-07-11T19:00:00+07:00\",\"2022-07-11T22:00:00+07:00\",\"2022-07-12T01:00:00+07:00\",\"2022-07-12T04:00:00+07:00\",\"2022-07-12T07:00:00+07:00\",\"2022-07-12T10:00:00+07:00\",\"2022-07-12T13:00:00+07:00\",\"2022-07-12T16:00:00+07:00\",\"2022-07-12T19:00:00+07:00\",\"2022-07-12T22:00:00+07:00\",\"2022-07-13T01:00:00+07:00\",\"2022-07-13T04:00:00+07:00\",\"2022-07-13T07:00:00+07:00\",\"2022-07-13T10:00:00+07:00\",\"2022-07-13T13:00:00+07:00\",\"2022-07-13T16:00:00+07:00\",\"2022-07-13T19:00:00+07:00\",\"2022-07-13T22:00:00+07:00\",\"2022-07-14T01:00:00+07:00\",\"2022-07-14T04:00:00+07:00\",\"2022-07-14T07:00:00+07:00\",\"2022-07-14T10:00:00+07:00\",\"2022-07-14T13:00:00+07:00\",\"2022-07-14T16:00:00+07:00\",\"2022-07-14T19:00:00+07:00\",\"2022-07-14T22:00:00+07:00\",\"2022-07-15T01:00:00+07:00\",\"2022-07-15T04:00:00+07:00\",\"2022-07-15T07:00:00+07:00\",\"2022-07-15T10:00:00+07:00\",\"2022-07-15T13:00:00+07:00\",\"2022-07-15T16:00:00+07:00\",\"2022-07-15T19:00:00+07:00\",\"2022-07-15T22:00:00+07:00\",\"2022-07-16T01:00:00+07:00\",\"2022-07-16T04:00:00+07:00\",\"2022-07-16T07:00:00+07:00\",\"2022-07-16T10:00:00+07:00\",\"2022-07-16T13:00:00+07:00\",\"2022-07-16T16:00:00+07:00\",\"2022-07-16T19:00:00+07:00\",\"2022-07-16T22:00:00+07:00\",\"2022-07-17T01:00:00+07:00\",\"2022-07-17T04:00:00+07:00\",\"2022-07-17T07:00:00+07:00\",\"2022-07-17T10:00:00+07:00\",\"2022-07-17T13:00:00+07:00\",\"2022-07-17T16:00:00+07:00\",\"2022-07-17T19:00:00+07:00\",\"2022-07-17T22:00:00+07:00\",\"2022-07-18T01:00:00+07:00\",\"2022-07-18T04:00:00+07:00\",\"2022-07-18T07:00:00+07:00\",\"2022-07-18T10:00:00+07:00\",\"2022-07-18T13:00:00+07:00\",\"2022-07-18T16:00:00+07:00\",\"2022-07-18T19:00:00+07:00\",\"2022-07-18T22:00:00+07:00\",\"2022-07-19T01:00:00+07:00\",\"2022-07-19T04:00:00+07:00\",\"2022-07-19T07:00:00+07:00\",\"2022-07-19T10:00:00+07:00\",\"2022-07-19T13:00:00+07:00\",\"2022-07-19T16:00:00+07:00\",\"2022-07-19T19:00:00+07:00\",\"2022-07-19T22:00:00+07:00\",\"2022-07-20T01:00:00+07:00\",\"2022-07-20T04:00:00+07:00\",\"2022-07-20T07:00:00+07:00\",\"2022-07-20T10:00:00+07:00\",\"2022-07-20T13:00:00+07:00\",\"2022-07-20T16:00:00+07:00\",\"2022-07-20T19:00:00+07:00\",\"2022-07-20T22:00:00+07:00\",\"2022-07-21T01:00:00+07:00\",\"2022-07-21T04:00:00+07:00\",\"2022-07-21T07:00:00+07:00\",\"2022-07-21T10:00:00+07:00\",\"2022-07-21T13:00:00+07:00\",\"2022-07-21T16:00:00+07:00\",\"2022-07-21T19:00:00+07:00\",\"2022-07-21T22:00:00+07:00\",\"2022-07-22T01:00:00+07:00\",\"2022-07-22T04:00:00+07:00\",\"2022-07-22T07:00:00+07:00\",\"2022-07-22T10:00:00+07:00\",\"2022-07-22T13:00:00+07:00\",\"2022-07-22T16:00:00+07:00\",\"2022-07-22T19:00:00+07:00\",\"2022-07-22T22:00:00+07:00\",\"2022-07-23T01:00:00+07:00\",\"2022-07-23T04:00:00+07:00\",\"2022-07-23T07:00:00+07:00\",\"2022-07-23T10:00:00+07:00\",\"2022-07-23T13:00:00+07:00\",\"2022-07-23T16:00:00+07:00\",\"2022-07-23T19:00:00+07:00\",\"2022-07-23T22:00:00+07:00\",\"2022-07-24T01:00:00+07:00\",\"2022-07-24T04:00:00+07:00\",\"2022-07-24T07:00:00+07:00\",\"2022-07-24T10:00:00+07:00\",\"2022-07-24T13:00:00+07:00\",\"2022-07-24T16:00:00+07:00\",\"2022-07-24T19:00:00+07:00\",\"2022-07-24T22:00:00+07:00\",\"2022-07-25T01:00:00+07:00\",\"2022-07-25T04:00:00+07:00\",\"2022-07-25T07:00:00+07:00\",\"2022-07-25T10:00:00+07:00\",\"2022-07-25T13:00:00+07:00\",\"2022-07-25T16:00:00+07:00\",\"2022-07-25T19:00:00+07:00\",\"2022-07-25T22:00:00+07:00\",\"2022-07-26T01:00:00+07:00\",\"2022-07-26T04:00:00+07:00\",\"2022-07-26T07:00:00+07:00\",\"2022-07-26T10:00:00+07:00\",\"2022-07-26T13:00:00+07:00\",\"2022-07-26T16:00:00+07:00\",\"2022-07-26T19:00:00+07:00\",\"2022-07-26T22:00:00+07:00\",\"2022-07-27T01:00:00+07:00\",\"2022-07-27T04:00:00+07:00\",\"2022-07-27T07:00:00+07:00\",\"2022-07-27T10:00:00+07:00\",\"2022-07-27T13:00:00+07:00\",\"2022-07-27T16:00:00+07:00\",\"2022-07-27T19:00:00+07:00\",\"2022-07-27T22:00:00+07:00\",\"2022-07-28T01:00:00+07:00\",\"2022-07-28T04:00:00+07:00\",\"2022-07-28T07:00:00+07:00\",\"2022-07-28T10:00:00+07:00\",\"2022-07-28T13:00:00+07:00\",\"2022-07-28T16:00:00+07:00\",\"2022-07-28T19:00:00+07:00\",\"2022-07-28T22:00:00+07:00\",\"2022-07-29T01:00:00+07:00\",\"2022-07-29T04:00:00+07:00\",\"2022-07-29T07:00:00+07:00\",\"2022-07-29T10:00:00+07:00\",\"2022-07-29T13:00:00+07:00\",\"2022-07-29T16:00:00+07:00\",\"2022-07-29T19:00:00+07:00\",\"2022-07-29T22:00:00+07:00\",\"2022-07-30T01:00:00+07:00\",\"2022-07-30T10:00:00+07:00\",\"2022-07-30T13:00:00+07:00\",\"2022-07-30T16:00:00+07:00\",\"2022-07-30T19:00:00+07:00\",\"2022-07-31T04:00:00+07:00\"],\"xaxis\":\"x\",\"y\":[21.0,30.0,30.0,23.0,17.0,15.0,14.0,12.0,23.0,29.0,29.0,24.0,20.0,19.0,16.0,16.0,22.0,29.0,28.0,23.0,19.0,16.0,15.0,14.0,22.0,30.0,27.0,24.0,19.0,15.0,14.0,13.0,21.0,30.0,29.0,23.0,19.0,18.0,17.0,18.0,21.0,28.0,28.0,23.0,17.0,15.0,14.0,12.0,20.0,28.0,30.0,23.0,17.0,14.0,13.0,11.0,19.0,28.0,29.0,22.0,15.0,13.0,12.0,11.0,19.0,29.0,30.0,22.0,16.0,14.0,13.0,12.0,20.0,29.0,31.0,24.0,18.0,15.0,14.0,13.0,21.0,29.0,27.0,23.0,17.0,16.0,14.0,13.0,21.0,30.0,28.0,23.0,18.0,17.0,18.0,14.0,22.0,29.0,27.0,23.0,19.0,18.0,17.0,16.0,23.0,28.0,28.0,23.0,19.0,18.0,17.0,16.0,21.0,29.0,28.0,23.0,19.0,17.0,17.0,15.0,21.0,29.0,31.0,24.0,17.0,16.0,16.0,16.0,20.0,28.0,28.0,22.0,20.0,19.0,17.0,16.0,21.0,30.0,31.0,24.0,20.0,19.0,16.0,15.0,20.0,31.0,32.0,25.0,18.0,15.0,14.0,12.0,21.0,30.0,32.0,25.0,19.0,17.0,15.0,14.0,19.0,28.0,32.0,25.0,19.0,18.0,16.0,17.0,21.0,29.0,28.0,23.0,17.0,16.0,16.0,13.0,21.0,30.0,29.0,23.0,19.0,17.0,15.0,15.0,20.0,28.0,31.0,23.0,16.0,14.0,13.0,11.0,19.0,28.0,31.0,24.0,15.0,13.0,12.0,11.0,20.0,30.0,32.0,24.0,17.0,14.0,12.0,12.0,22.0,30.0,32.0,25.0,19.0,18.0,14.0,13.0,26.0,32.0,33.0,25.0,19.0,16.0,16.0,13.0,21.0,30.0,33.0,25.0,20.0,17.0,15.0,28.0,33.0,25.0,18.0,15.0],\"yaxis\":\"y\",\"type\":\"scatter\"}],                        {\"template\":{\"data\":{\"bar\":[{\"error_x\":{\"color\":\"#2a3f5f\"},\"error_y\":{\"color\":\"#2a3f5f\"},\"marker\":{\"line\":{\"color\":\"#E5ECF6\",\"width\":0.5},\"pattern\":{\"fillmode\":\"overlay\",\"size\":10,\"solidity\":0.2}},\"type\":\"bar\"}],\"barpolar\":[{\"marker\":{\"line\":{\"color\":\"#E5ECF6\",\"width\":0.5},\"pattern\":{\"fillmode\":\"overlay\",\"size\":10,\"solidity\":0.2}},\"type\":\"barpolar\"}],\"carpet\":[{\"aaxis\":{\"endlinecolor\":\"#2a3f5f\",\"gridcolor\":\"white\",\"linecolor\":\"white\",\"minorgridcolor\":\"white\",\"startlinecolor\":\"#2a3f5f\"},\"baxis\":{\"endlinecolor\":\"#2a3f5f\",\"gridcolor\":\"white\",\"linecolor\":\"white\",\"minorgridcolor\":\"white\",\"startlinecolor\":\"#2a3f5f\"},\"type\":\"carpet\"}],\"choropleth\":[{\"colorbar\":{\"outlinewidth\":0,\"ticks\":\"\"},\"type\":\"choropleth\"}],\"contour\":[{\"colorbar\":{\"outlinewidth\":0,\"ticks\":\"\"},\"colorscale\":[[0.0,\"#0d0887\"],[0.1111111111111111,\"#46039f\"],[0.2222222222222222,\"#7201a8\"],[0.3333333333333333,\"#9c179e\"],[0.4444444444444444,\"#bd3786\"],[0.5555555555555556,\"#d8576b\"],[0.6666666666666666,\"#ed7953\"],[0.7777777777777778,\"#fb9f3a\"],[0.8888888888888888,\"#fdca26\"],[1.0,\"#f0f921\"]],\"type\":\"contour\"}],\"contourcarpet\":[{\"colorbar\":{\"outlinewidth\":0,\"ticks\":\"\"},\"type\":\"contourcarpet\"}],\"heatmap\":[{\"colorbar\":{\"outlinewidth\":0,\"ticks\":\"\"},\"colorscale\":[[0.0,\"#0d0887\"],[0.1111111111111111,\"#46039f\"],[0.2222222222222222,\"#7201a8\"],[0.3333333333333333,\"#9c179e\"],[0.4444444444444444,\"#bd3786\"],[0.5555555555555556,\"#d8576b\"],[0.6666666666666666,\"#ed7953\"],[0.7777777777777778,\"#fb9f3a\"],[0.8888888888888888,\"#fdca26\"],[1.0,\"#f0f921\"]],\"type\":\"heatmap\"}],\"heatmapgl\":[{\"colorbar\":{\"outlinewidth\":0,\"ticks\":\"\"},\"colorscale\":[[0.0,\"#0d0887\"],[0.1111111111111111,\"#46039f\"],[0.2222222222222222,\"#7201a8\"],[0.3333333333333333,\"#9c179e\"],[0.4444444444444444,\"#bd3786\"],[0.5555555555555556,\"#d8576b\"],[0.6666666666666666,\"#ed7953\"],[0.7777777777777778,\"#fb9f3a\"],[0.8888888888888888,\"#fdca26\"],[1.0,\"#f0f921\"]],\"type\":\"heatmapgl\"}],\"histogram\":[{\"marker\":{\"pattern\":{\"fillmode\":\"overlay\",\"size\":10,\"solidity\":0.2}},\"type\":\"histogram\"}],\"histogram2d\":[{\"colorbar\":{\"outlinewidth\":0,\"ticks\":\"\"},\"colorscale\":[[0.0,\"#0d0887\"],[0.1111111111111111,\"#46039f\"],[0.2222222222222222,\"#7201a8\"],[0.3333333333333333,\"#9c179e\"],[0.4444444444444444,\"#bd3786\"],[0.5555555555555556,\"#d8576b\"],[0.6666666666666666,\"#ed7953\"],[0.7777777777777778,\"#fb9f3a\"],[0.8888888888888888,\"#fdca26\"],[1.0,\"#f0f921\"]],\"type\":\"histogram2d\"}],\"histogram2dcontour\":[{\"colorbar\":{\"outlinewidth\":0,\"ticks\":\"\"},\"colorscale\":[[0.0,\"#0d0887\"],[0.1111111111111111,\"#46039f\"],[0.2222222222222222,\"#7201a8\"],[0.3333333333333333,\"#9c179e\"],[0.4444444444444444,\"#bd3786\"],[0.5555555555555556,\"#d8576b\"],[0.6666666666666666,\"#ed7953\"],[0.7777777777777778,\"#fb9f3a\"],[0.8888888888888888,\"#fdca26\"],[1.0,\"#f0f921\"]],\"type\":\"histogram2dcontour\"}],\"mesh3d\":[{\"colorbar\":{\"outlinewidth\":0,\"ticks\":\"\"},\"type\":\"mesh3d\"}],\"parcoords\":[{\"line\":{\"colorbar\":{\"outlinewidth\":0,\"ticks\":\"\"}},\"type\":\"parcoords\"}],\"pie\":[{\"automargin\":true,\"type\":\"pie\"}],\"scatter\":[{\"marker\":{\"colorbar\":{\"outlinewidth\":0,\"ticks\":\"\"}},\"type\":\"scatter\"}],\"scatter3d\":[{\"line\":{\"colorbar\":{\"outlinewidth\":0,\"ticks\":\"\"}},\"marker\":{\"colorbar\":{\"outlinewidth\":0,\"ticks\":\"\"}},\"type\":\"scatter3d\"}],\"scattercarpet\":[{\"marker\":{\"colorbar\":{\"outlinewidth\":0,\"ticks\":\"\"}},\"type\":\"scattercarpet\"}],\"scattergeo\":[{\"marker\":{\"colorbar\":{\"outlinewidth\":0,\"ticks\":\"\"}},\"type\":\"scattergeo\"}],\"scattergl\":[{\"marker\":{\"colorbar\":{\"outlinewidth\":0,\"ticks\":\"\"}},\"type\":\"scattergl\"}],\"scattermapbox\":[{\"marker\":{\"colorbar\":{\"outlinewidth\":0,\"ticks\":\"\"}},\"type\":\"scattermapbox\"}],\"scatterpolar\":[{\"marker\":{\"colorbar\":{\"outlinewidth\":0,\"ticks\":\"\"}},\"type\":\"scatterpolar\"}],\"scatterpolargl\":[{\"marker\":{\"colorbar\":{\"outlinewidth\":0,\"ticks\":\"\"}},\"type\":\"scatterpolargl\"}],\"scatterternary\":[{\"marker\":{\"colorbar\":{\"outlinewidth\":0,\"ticks\":\"\"}},\"type\":\"scatterternary\"}],\"surface\":[{\"colorbar\":{\"outlinewidth\":0,\"ticks\":\"\"},\"colorscale\":[[0.0,\"#0d0887\"],[0.1111111111111111,\"#46039f\"],[0.2222222222222222,\"#7201a8\"],[0.3333333333333333,\"#9c179e\"],[0.4444444444444444,\"#bd3786\"],[0.5555555555555556,\"#d8576b\"],[0.6666666666666666,\"#ed7953\"],[0.7777777777777778,\"#fb9f3a\"],[0.8888888888888888,\"#fdca26\"],[1.0,\"#f0f921\"]],\"type\":\"surface\"}],\"table\":[{\"cells\":{\"fill\":{\"color\":\"#EBF0F8\"},\"line\":{\"color\":\"white\"}},\"header\":{\"fill\":{\"color\":\"#C8D4E3\"},\"line\":{\"color\":\"white\"}},\"type\":\"table\"}]},\"layout\":{\"annotationdefaults\":{\"arrowcolor\":\"#2a3f5f\",\"arrowhead\":0,\"arrowwidth\":1},\"autotypenumbers\":\"strict\",\"coloraxis\":{\"colorbar\":{\"outlinewidth\":0,\"ticks\":\"\"}},\"colorscale\":{\"diverging\":[[0,\"#8e0152\"],[0.1,\"#c51b7d\"],[0.2,\"#de77ae\"],[0.3,\"#f1b6da\"],[0.4,\"#fde0ef\"],[0.5,\"#f7f7f7\"],[0.6,\"#e6f5d0\"],[0.7,\"#b8e186\"],[0.8,\"#7fbc41\"],[0.9,\"#4d9221\"],[1,\"#276419\"]],\"sequential\":[[0.0,\"#0d0887\"],[0.1111111111111111,\"#46039f\"],[0.2222222222222222,\"#7201a8\"],[0.3333333333333333,\"#9c179e\"],[0.4444444444444444,\"#bd3786\"],[0.5555555555555556,\"#d8576b\"],[0.6666666666666666,\"#ed7953\"],[0.7777777777777778,\"#fb9f3a\"],[0.8888888888888888,\"#fdca26\"],[1.0,\"#f0f921\"]],\"sequentialminus\":[[0.0,\"#0d0887\"],[0.1111111111111111,\"#46039f\"],[0.2222222222222222,\"#7201a8\"],[0.3333333333333333,\"#9c179e\"],[0.4444444444444444,\"#bd3786\"],[0.5555555555555556,\"#d8576b\"],[0.6666666666666666,\"#ed7953\"],[0.7777777777777778,\"#fb9f3a\"],[0.8888888888888888,\"#fdca26\"],[1.0,\"#f0f921\"]]},\"colorway\":[\"#636efa\",\"#EF553B\",\"#00cc96\",\"#ab63fa\",\"#FFA15A\",\"#19d3f3\",\"#FF6692\",\"#B6E880\",\"#FF97FF\",\"#FECB52\"],\"font\":{\"color\":\"#2a3f5f\"},\"geo\":{\"bgcolor\":\"white\",\"lakecolor\":\"white\",\"landcolor\":\"#E5ECF6\",\"showlakes\":true,\"showland\":true,\"subunitcolor\":\"white\"},\"hoverlabel\":{\"align\":\"left\"},\"hovermode\":\"closest\",\"mapbox\":{\"style\":\"light\"},\"paper_bgcolor\":\"white\",\"plot_bgcolor\":\"#E5ECF6\",\"polar\":{\"angularaxis\":{\"gridcolor\":\"white\",\"linecolor\":\"white\",\"ticks\":\"\"},\"bgcolor\":\"#E5ECF6\",\"radialaxis\":{\"gridcolor\":\"white\",\"linecolor\":\"white\",\"ticks\":\"\"}},\"scene\":{\"xaxis\":{\"backgroundcolor\":\"#E5ECF6\",\"gridcolor\":\"white\",\"gridwidth\":2,\"linecolor\":\"white\",\"showbackground\":true,\"ticks\":\"\",\"zerolinecolor\":\"white\"},\"yaxis\":{\"backgroundcolor\":\"#E5ECF6\",\"gridcolor\":\"white\",\"gridwidth\":2,\"linecolor\":\"white\",\"showbackground\":true,\"ticks\":\"\",\"zerolinecolor\":\"white\"},\"zaxis\":{\"backgroundcolor\":\"#E5ECF6\",\"gridcolor\":\"white\",\"gridwidth\":2,\"linecolor\":\"white\",\"showbackground\":true,\"ticks\":\"\",\"zerolinecolor\":\"white\"}},\"shapedefaults\":{\"line\":{\"color\":\"#2a3f5f\"}},\"ternary\":{\"aaxis\":{\"gridcolor\":\"white\",\"linecolor\":\"white\",\"ticks\":\"\"},\"baxis\":{\"gridcolor\":\"white\",\"linecolor\":\"white\",\"ticks\":\"\"},\"bgcolor\":\"#E5ECF6\",\"caxis\":{\"gridcolor\":\"white\",\"linecolor\":\"white\",\"ticks\":\"\"}},\"title\":{\"x\":0.05},\"xaxis\":{\"automargin\":true,\"gridcolor\":\"white\",\"linecolor\":\"white\",\"ticks\":\"\",\"title\":{\"standoff\":15},\"zerolinecolor\":\"white\",\"zerolinewidth\":2},\"yaxis\":{\"automargin\":true,\"gridcolor\":\"white\",\"linecolor\":\"white\",\"ticks\":\"\",\"title\":{\"standoff\":15},\"zerolinecolor\":\"white\",\"zerolinewidth\":2}}},\"xaxis\":{\"anchor\":\"y\",\"domain\":[0.0,1.0],\"title\":{\"text\":\"date\"}},\"yaxis\":{\"anchor\":\"x\",\"domain\":[0.0,1.0],\"title\":{\"text\":\"temperature\"}},\"legend\":{\"tracegroupgap\":0},\"title\":{\"text\":\"Surface Temperature on Malang City - GLDAS-2.1 (NASA)\"}},                        {\"responsive\": true}                    ).then(function(){\n",
              "                            \n",
              "var gd = document.getElementById('f34b7d5c-316c-426f-8247-149523f95d5a');\n",
              "var x = new MutationObserver(function (mutations, observer) {{\n",
              "        var display = window.getComputedStyle(gd).display;\n",
              "        if (!display || display === 'none') {{\n",
              "            console.log([gd, 'removed!']);\n",
              "            Plotly.purge(gd);\n",
              "            observer.disconnect();\n",
              "        }}\n",
              "}});\n",
              "\n",
              "// Listen for the removal of the full notebook cells\n",
              "var notebookContainer = gd.closest('#notebook-container');\n",
              "if (notebookContainer) {{\n",
              "    x.observe(notebookContainer, {childList: true});\n",
              "}}\n",
              "\n",
              "// Listen for the clearing of the current output cell\n",
              "var outputEl = gd.closest('.output');\n",
              "if (outputEl) {{\n",
              "    x.observe(outputEl, {childList: true});\n",
              "}}\n",
              "\n",
              "                        })                };                            </script>        </div>\n",
              "</body>\n",
              "</html>"
            ]
          },
          "metadata": {}
        }
      ]
    }
  ]
}