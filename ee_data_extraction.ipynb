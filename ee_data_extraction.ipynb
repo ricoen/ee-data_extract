{
 "cells": [
  {
   "cell_type": "markdown",
   "metadata": {},
   "source": [
    "# Google Earth Engine Data Extract\n",
    "\n",
    "Author [@ricoen](https://github.com/ricoen)<br>\n",
    "Please cite me if you use this code :)"
   ]
  },
  {
   "cell_type": "code",
   "execution_count": 1,
   "metadata": {},
   "outputs": [],
   "source": [
    "# Import libraries\n",
    "import ee\n",
    "import geemap as geemap\n",
    "import os\n",
    "import json\n",
    "import pandas as pd\n",
    "import plotly.express as px\n",
    "import plotly.graph_objects as go\n",
    "from datetime import datetime as dt, date\n",
    "from geemap import geojson_to_ee, ee_to_geojson\n",
    "from ipyleaflet import GeoJSON"
   ]
  },
  {
   "cell_type": "code",
   "execution_count": 2,
   "metadata": {},
   "outputs": [
    {
     "data": {
      "text/html": [
       "\n",
       "            <style>\n",
       "                .geemap-dark {\n",
       "                    --jp-widgets-color: white;\n",
       "                    --jp-widgets-label-color: white;\n",
       "                    --jp-ui-font-color1: white;\n",
       "                    --jp-layout-color2: #454545;\n",
       "                    background-color: #383838;\n",
       "                }\n",
       "                    \n",
       "                .geemap-dark .jupyter-button {\n",
       "                    --jp-layout-color3: #383838;\n",
       "                }\n",
       "                \n",
       "                .geemap-colab {\n",
       "                    background-color: var(--colab-primary-surface-color, white);\n",
       "                }\n",
       "                    \n",
       "                .geemap-colab .jupyter-button {\n",
       "                    --jp-layout-color3: var(--colab-primary-surface-color, white);\n",
       "                }\n",
       "            </style>\n",
       "            "
      ],
      "text/plain": [
       "<IPython.core.display.HTML object>"
      ]
     },
     "metadata": {},
     "output_type": "display_data"
    },
    {
     "data": {
      "text/html": [
       "<p>To authorize access needed by Earth Engine, open the following\n",
       "        URL in a web browser and follow the instructions:</p>\n",
       "        <p><a href=https://code.earthengine.google.com/client-auth?scopes=https%3A//www.googleapis.com/auth/earthengine%20https%3A//www.googleapis.com/auth/devstorage.full_control&request_id=ChHxAY2sA50ek3scXtNTr3QtxxPcj0JwdsrLtGWP9aA&tc=9hn3d32CwtswxK7RW-AdcsiaQEE4eKdX407yS-3YZYc&cc=ZhPZTZmRzHhWPfm6eYFU2wNQO4q-4hGYLlWd1Nh-7R8>https://code.earthengine.google.com/client-auth?scopes=https%3A//www.googleapis.com/auth/earthengine%20https%3A//www.googleapis.com/auth/devstorage.full_control&request_id=ChHxAY2sA50ek3scXtNTr3QtxxPcj0JwdsrLtGWP9aA&tc=9hn3d32CwtswxK7RW-AdcsiaQEE4eKdX407yS-3YZYc&cc=ZhPZTZmRzHhWPfm6eYFU2wNQO4q-4hGYLlWd1Nh-7R8</a></p>\n",
       "        <p>The authorization workflow will generate a code, which you should paste in the box below.</p>\n",
       "        "
      ],
      "text/plain": [
       "<IPython.core.display.HTML object>"
      ]
     },
     "metadata": {},
     "output_type": "display_data"
    },
    {
     "name": "stdout",
     "output_type": "stream",
     "text": [
      "\n",
      "Successfully saved authorization token.\n"
     ]
    },
    {
     "data": {
      "application/vnd.jupyter.widget-view+json": {
       "model_id": "54200cd364374bef9cfe8b80996abdc4",
       "version_major": 2,
       "version_minor": 0
      },
      "text/plain": [
       "Map(center=[0, 0], controls=(WidgetControl(options=['position', 'transparent_bg'], widget=SearchDataGUI(childr…"
      ]
     },
     "execution_count": 2,
     "metadata": {},
     "output_type": "execute_result"
    }
   ],
   "source": [
    "# Initialize Google Earth Engine and Geemap\n",
    "geemap.Map()"
   ]
  },
  {
   "cell_type": "code",
   "execution_count": 3,
   "metadata": {},
   "outputs": [
    {
     "data": {
      "text/html": [
       "\n",
       "            <style>\n",
       "                .geemap-dark {\n",
       "                    --jp-widgets-color: white;\n",
       "                    --jp-widgets-label-color: white;\n",
       "                    --jp-ui-font-color1: white;\n",
       "                    --jp-layout-color2: #454545;\n",
       "                    background-color: #383838;\n",
       "                }\n",
       "                    \n",
       "                .geemap-dark .jupyter-button {\n",
       "                    --jp-layout-color3: #383838;\n",
       "                }\n",
       "                \n",
       "                .geemap-colab {\n",
       "                    background-color: var(--colab-primary-surface-color, white);\n",
       "                }\n",
       "                    \n",
       "                .geemap-colab .jupyter-button {\n",
       "                    --jp-layout-color3: var(--colab-primary-surface-color, white);\n",
       "                }\n",
       "            </style>\n",
       "            "
      ],
      "text/plain": [
       "<IPython.core.display.HTML object>"
      ]
     },
     "metadata": {},
     "output_type": "display_data"
    }
   ],
   "source": [
    "# Get AOI GeoJSON\n",
    "def get_geojson(file_path):\n",
    "    json_path = os.path.abspath(file_path)\n",
    "\n",
    "    with open(json_path) as f:\n",
    "        aoi_json = json.load(f)\n",
    "\n",
    "    features = aoi_json['features']\n",
    "    fc = ee.FeatureCollection(features)\n",
    "\n",
    "    return fc"
   ]
  },
  {
   "cell_type": "code",
   "execution_count": 4,
   "metadata": {},
   "outputs": [
    {
     "data": {
      "text/html": [
       "\n",
       "            <style>\n",
       "                .geemap-dark {\n",
       "                    --jp-widgets-color: white;\n",
       "                    --jp-widgets-label-color: white;\n",
       "                    --jp-ui-font-color1: white;\n",
       "                    --jp-layout-color2: #454545;\n",
       "                    background-color: #383838;\n",
       "                }\n",
       "                    \n",
       "                .geemap-dark .jupyter-button {\n",
       "                    --jp-layout-color3: #383838;\n",
       "                }\n",
       "                \n",
       "                .geemap-colab {\n",
       "                    background-color: var(--colab-primary-surface-color, white);\n",
       "                }\n",
       "                    \n",
       "                .geemap-colab .jupyter-button {\n",
       "                    --jp-layout-color3: var(--colab-primary-surface-color, white);\n",
       "                }\n",
       "            </style>\n",
       "            "
      ],
      "text/plain": [
       "<IPython.core.display.HTML object>"
      ]
     },
     "metadata": {},
     "output_type": "display_data"
    }
   ],
   "source": [
    "# Get image/raster data\n",
    "def get_image(image):\n",
    "    data = ee.ImageCollection(image)\n",
    "\n",
    "    return data"
   ]
  },
  {
   "cell_type": "code",
   "execution_count": 5,
   "metadata": {},
   "outputs": [
    {
     "data": {
      "text/html": [
       "\n",
       "            <style>\n",
       "                .geemap-dark {\n",
       "                    --jp-widgets-color: white;\n",
       "                    --jp-widgets-label-color: white;\n",
       "                    --jp-ui-font-color1: white;\n",
       "                    --jp-layout-color2: #454545;\n",
       "                    background-color: #383838;\n",
       "                }\n",
       "                    \n",
       "                .geemap-dark .jupyter-button {\n",
       "                    --jp-layout-color3: #383838;\n",
       "                }\n",
       "                \n",
       "                .geemap-colab {\n",
       "                    background-color: var(--colab-primary-surface-color, white);\n",
       "                }\n",
       "                    \n",
       "                .geemap-colab .jupyter-button {\n",
       "                    --jp-layout-color3: var(--colab-primary-surface-color, white);\n",
       "                }\n",
       "            </style>\n",
       "            "
      ],
      "text/plain": [
       "<IPython.core.display.HTML object>"
      ]
     },
     "metadata": {},
     "output_type": "display_data"
    }
   ],
   "source": [
    "# Clip raster\n",
    "def clip_raster(fc, data):\n",
    "    image_clip = data.clipToCollection(fc)\n",
    "\n",
    "    return image_clip"
   ]
  },
  {
   "cell_type": "code",
   "execution_count": 6,
   "metadata": {},
   "outputs": [
    {
     "data": {
      "text/html": [
       "\n",
       "            <style>\n",
       "                .geemap-dark {\n",
       "                    --jp-widgets-color: white;\n",
       "                    --jp-widgets-label-color: white;\n",
       "                    --jp-ui-font-color1: white;\n",
       "                    --jp-layout-color2: #454545;\n",
       "                    background-color: #383838;\n",
       "                }\n",
       "                    \n",
       "                .geemap-dark .jupyter-button {\n",
       "                    --jp-layout-color3: #383838;\n",
       "                }\n",
       "                \n",
       "                .geemap-colab {\n",
       "                    background-color: var(--colab-primary-surface-color, white);\n",
       "                }\n",
       "                    \n",
       "                .geemap-colab .jupyter-button {\n",
       "                    --jp-layout-color3: var(--colab-primary-surface-color, white);\n",
       "                }\n",
       "            </style>\n",
       "            "
      ],
      "text/plain": [
       "<IPython.core.display.HTML object>"
      ]
     },
     "metadata": {},
     "output_type": "display_data"
    }
   ],
   "source": [
    "# Calculate Zonal Statistic and export it as CSV\n",
    "def calculate_land_cover(fc, image_clip):\n",
    "    parent_dir = os.path.join('data')\n",
    "    land_cover_stats = os.path.join(parent_dir, 'land_cover.csv')\n",
    "\n",
    "    geemap.zonal_statistics_by_group(\n",
    "        image_clip,\n",
    "        fc,\n",
    "        land_cover_stats,\n",
    "        statistics_type='PERCENTAGE',\n",
    "        denominator=1000000,\n",
    "        decimal_places=2,\n",
    "    )"
   ]
  },
  {
   "cell_type": "code",
   "execution_count": 7,
   "metadata": {},
   "outputs": [
    {
     "data": {
      "text/html": [
       "\n",
       "            <style>\n",
       "                .geemap-dark {\n",
       "                    --jp-widgets-color: white;\n",
       "                    --jp-widgets-label-color: white;\n",
       "                    --jp-ui-font-color1: white;\n",
       "                    --jp-layout-color2: #454545;\n",
       "                    background-color: #383838;\n",
       "                }\n",
       "                    \n",
       "                .geemap-dark .jupyter-button {\n",
       "                    --jp-layout-color3: #383838;\n",
       "                }\n",
       "                \n",
       "                .geemap-colab {\n",
       "                    background-color: var(--colab-primary-surface-color, white);\n",
       "                }\n",
       "                    \n",
       "                .geemap-colab .jupyter-button {\n",
       "                    --jp-layout-color3: var(--colab-primary-surface-color, white);\n",
       "                }\n",
       "            </style>\n",
       "            "
      ],
      "text/plain": [
       "<IPython.core.display.HTML object>"
      ]
     },
     "metadata": {},
     "output_type": "display_data"
    }
   ],
   "source": [
    "# Get image series data\n",
    "def image_series(start, latest, image, bands):\n",
    "    images = ee.ImageCollection(image)\\\n",
    "        .select(bands)\\\n",
    "            .filterDate(start, latest)\n",
    "\n",
    "    return images"
   ]
  },
  {
   "cell_type": "code",
   "execution_count": 8,
   "metadata": {},
   "outputs": [
    {
     "data": {
      "text/html": [
       "\n",
       "            <style>\n",
       "                .geemap-dark {\n",
       "                    --jp-widgets-color: white;\n",
       "                    --jp-widgets-label-color: white;\n",
       "                    --jp-ui-font-color1: white;\n",
       "                    --jp-layout-color2: #454545;\n",
       "                    background-color: #383838;\n",
       "                }\n",
       "                    \n",
       "                .geemap-dark .jupyter-button {\n",
       "                    --jp-layout-color3: #383838;\n",
       "                }\n",
       "                \n",
       "                .geemap-colab {\n",
       "                    background-color: var(--colab-primary-surface-color, white);\n",
       "                }\n",
       "                    \n",
       "                .geemap-colab .jupyter-button {\n",
       "                    --jp-layout-color3: var(--colab-primary-surface-color, white);\n",
       "                }\n",
       "            </style>\n",
       "            "
      ],
      "text/plain": [
       "<IPython.core.display.HTML object>"
      ]
     },
     "metadata": {},
     "output_type": "display_data"
    }
   ],
   "source": [
    "# Reduce image region\n",
    "def reduce_region(image):\n",
    "    image_dict = image.reduceRegion(ee.Reducer.mean(), geometry=feature_collection)\n",
    "    \n",
    "    return image.set(image_dict)"
   ]
  },
  {
   "cell_type": "code",
   "execution_count": 9,
   "metadata": {},
   "outputs": [
    {
     "data": {
      "text/html": [
       "\n",
       "            <style>\n",
       "                .geemap-dark {\n",
       "                    --jp-widgets-color: white;\n",
       "                    --jp-widgets-label-color: white;\n",
       "                    --jp-ui-font-color1: white;\n",
       "                    --jp-layout-color2: #454545;\n",
       "                    background-color: #383838;\n",
       "                }\n",
       "                    \n",
       "                .geemap-dark .jupyter-button {\n",
       "                    --jp-layout-color3: #383838;\n",
       "                }\n",
       "                \n",
       "                .geemap-colab {\n",
       "                    background-color: var(--colab-primary-surface-color, white);\n",
       "                }\n",
       "                    \n",
       "                .geemap-colab .jupyter-button {\n",
       "                    --jp-layout-color3: var(--colab-primary-surface-color, white);\n",
       "                }\n",
       "            </style>\n",
       "            "
      ],
      "text/plain": [
       "<IPython.core.display.HTML object>"
      ]
     },
     "metadata": {},
     "output_type": "display_data"
    }
   ],
   "source": [
    "# Filter image data\n",
    "def filter_image(image):\n",
    "    image_fc = ee.FeatureCollection(image.map(reduce_region))\n",
    "    image_filtered = image_fc.filter(ee.Filter.notNull(image.first().bandNames()))\n",
    "\n",
    "    return image_filtered"
   ]
  },
  {
   "cell_type": "code",
   "execution_count": 10,
   "metadata": {},
   "outputs": [
    {
     "data": {
      "text/html": [
       "\n",
       "            <style>\n",
       "                .geemap-dark {\n",
       "                    --jp-widgets-color: white;\n",
       "                    --jp-widgets-label-color: white;\n",
       "                    --jp-ui-font-color1: white;\n",
       "                    --jp-layout-color2: #454545;\n",
       "                    background-color: #383838;\n",
       "                }\n",
       "                    \n",
       "                .geemap-dark .jupyter-button {\n",
       "                    --jp-layout-color3: #383838;\n",
       "                }\n",
       "                \n",
       "                .geemap-colab {\n",
       "                    background-color: var(--colab-primary-surface-color, white);\n",
       "                }\n",
       "                    \n",
       "                .geemap-colab .jupyter-button {\n",
       "                    --jp-layout-color3: var(--colab-primary-surface-color, white);\n",
       "                }\n",
       "            </style>\n",
       "            "
      ],
      "text/plain": [
       "<IPython.core.display.HTML object>"
      ]
     },
     "metadata": {},
     "output_type": "display_data"
    }
   ],
   "source": [
    "# Convert feature collection to dictionary\n",
    "def fc_to_dict(fc):\n",
    "    prop_names = fc.first().propertyNames()\n",
    "    prop_lists = fc.reduceColumns(\n",
    "        reducer=ee.Reducer.toList().repeat(prop_names.size()),\n",
    "        selectors=prop_names).get('list')\n",
    "\n",
    "    return ee.Dictionary.fromLists(prop_names, prop_lists)"
   ]
  },
  {
   "cell_type": "code",
   "execution_count": 11,
   "metadata": {},
   "outputs": [
    {
     "data": {
      "text/html": [
       "\n",
       "            <style>\n",
       "                .geemap-dark {\n",
       "                    --jp-widgets-color: white;\n",
       "                    --jp-widgets-label-color: white;\n",
       "                    --jp-ui-font-color1: white;\n",
       "                    --jp-layout-color2: #454545;\n",
       "                    background-color: #383838;\n",
       "                }\n",
       "                    \n",
       "                .geemap-dark .jupyter-button {\n",
       "                    --jp-layout-color3: #383838;\n",
       "                }\n",
       "                \n",
       "                .geemap-colab {\n",
       "                    background-color: var(--colab-primary-surface-color, white);\n",
       "                }\n",
       "                    \n",
       "                .geemap-colab .jupyter-button {\n",
       "                    --jp-layout-color3: var(--colab-primary-surface-color, white);\n",
       "                }\n",
       "            </style>\n",
       "            "
      ],
      "text/plain": [
       "<IPython.core.display.HTML object>"
      ]
     },
     "metadata": {},
     "output_type": "display_data"
    }
   ],
   "source": [
    "# Convert dictionary to dataframe\n",
    "def dict_to_df(fc):\n",
    "    fc_dict = fc_to_dict(fc).getInfo()\n",
    "    fc_df = pd.DataFrame(fc_dict)\n",
    "\n",
    "    return fc_df"
   ]
  },
  {
   "cell_type": "code",
   "execution_count": 17,
   "metadata": {},
   "outputs": [
    {
     "data": {
      "text/html": [
       "\n",
       "            <style>\n",
       "                .geemap-dark {\n",
       "                    --jp-widgets-color: white;\n",
       "                    --jp-widgets-label-color: white;\n",
       "                    --jp-ui-font-color1: white;\n",
       "                    --jp-layout-color2: #454545;\n",
       "                    background-color: #383838;\n",
       "                }\n",
       "                    \n",
       "                .geemap-dark .jupyter-button {\n",
       "                    --jp-layout-color3: #383838;\n",
       "                }\n",
       "                \n",
       "                .geemap-colab {\n",
       "                    background-color: var(--colab-primary-surface-color, white);\n",
       "                }\n",
       "                    \n",
       "                .geemap-colab .jupyter-button {\n",
       "                    --jp-layout-color3: var(--colab-primary-surface-color, white);\n",
       "                }\n",
       "            </style>\n",
       "            "
      ],
      "text/plain": [
       "<IPython.core.display.HTML object>"
      ]
     },
     "metadata": {},
     "output_type": "display_data"
    },
    {
     "name": "stdout",
     "output_type": "stream",
     "text": [
      "Computing ... \n",
      "Generating URL ...\n",
      "Downloading data from https://earthengine.googleapis.com/v1/projects/earthengine-legacy/tables/346fe62c7af5d361f4fe734830fce185-1227ceddfec981af3fae3f481cc6e709:getFeatures\n",
      "Please wait ...\n",
      "Data downloaded to /home/ricoen/Projects/google-ee-data-extraction/data/land_cover.csv\n"
     ]
    }
   ],
   "source": [
    "# Call functions\n",
    "# global feature_collection\n",
    "feature_collection = get_geojson(\n",
    "    file_path='data/kota_malang/malang.geojson'\n",
    "    )\n",
    "image_data = get_image(\n",
    "    image='ESA/WorldCover/v200'\n",
    "    ).first()\n",
    "clipped_image = clip_raster(\n",
    "    fc=feature_collection, \n",
    "    data=image_data\n",
    "    )\n",
    "    \n",
    "calculate_land_cover(\n",
    "    fc=feature_collection, \n",
    "    image_clip=clipped_image\n",
    "    )\n",
    "\n",
    "start_date = '2023-01-01'\n",
    "latest_date = date.today().strftime('%Y-%m-%d')\n",
    "\n",
    "images = image_series(\n",
    "    start=start_date, latest=latest_date, \n",
    "    image='NASA/GLDAS/V021/NOAH/G025/T3H', \n",
    "    bands='Tair_f_inst'\n",
    "    )\n",
    "fc_filtered = filter_image(\n",
    "    image=images\n",
    "    )"
   ]
  },
  {
   "cell_type": "code",
   "execution_count": 18,
   "metadata": {},
   "outputs": [
    {
     "data": {
      "text/html": [
       "\n",
       "            <style>\n",
       "                .geemap-dark {\n",
       "                    --jp-widgets-color: white;\n",
       "                    --jp-widgets-label-color: white;\n",
       "                    --jp-ui-font-color1: white;\n",
       "                    --jp-layout-color2: #454545;\n",
       "                    background-color: #383838;\n",
       "                }\n",
       "                    \n",
       "                .geemap-dark .jupyter-button {\n",
       "                    --jp-layout-color3: #383838;\n",
       "                }\n",
       "                \n",
       "                .geemap-colab {\n",
       "                    background-color: var(--colab-primary-surface-color, white);\n",
       "                }\n",
       "                    \n",
       "                .geemap-colab .jupyter-button {\n",
       "                    --jp-layout-color3: var(--colab-primary-surface-color, white);\n",
       "                }\n",
       "            </style>\n",
       "            "
      ],
      "text/plain": [
       "<IPython.core.display.HTML object>"
      ]
     },
     "metadata": {},
     "output_type": "display_data"
    },
    {
     "data": {
      "text/html": [
       "<div>\n",
       "<style scoped>\n",
       "    .dataframe tbody tr th:only-of-type {\n",
       "        vertical-align: middle;\n",
       "    }\n",
       "\n",
       "    .dataframe tbody tr th {\n",
       "        vertical-align: top;\n",
       "    }\n",
       "\n",
       "    .dataframe thead th {\n",
       "        text-align: right;\n",
       "    }\n",
       "</style>\n",
       "<table border=\"1\" class=\"dataframe\">\n",
       "  <thead>\n",
       "    <tr style=\"text-align: right;\">\n",
       "      <th></th>\n",
       "      <th>Tair_f_inst</th>\n",
       "      <th>end_hour</th>\n",
       "      <th>start_hour</th>\n",
       "      <th>status</th>\n",
       "      <th>system:asset_size</th>\n",
       "      <th>system:band_names</th>\n",
       "      <th>system:bands</th>\n",
       "      <th>system:footprint</th>\n",
       "      <th>system:id</th>\n",
       "      <th>system:index</th>\n",
       "      <th>system:time_end</th>\n",
       "      <th>system:time_start</th>\n",
       "      <th>system:version</th>\n",
       "    </tr>\n",
       "  </thead>\n",
       "  <tbody>\n",
       "    <tr>\n",
       "      <th>0</th>\n",
       "      <td>292.792227</td>\n",
       "      <td>3</td>\n",
       "      <td>0</td>\n",
       "      <td>permanent</td>\n",
       "      <td>25095776</td>\n",
       "      <td>[Tair_f_inst]</td>\n",
       "      <td>{'Tair_f_inst': {'data_type': {'type': 'PixelT...</td>\n",
       "      <td>{'type': 'LinearRing', 'coordinates': [[-180, ...</td>\n",
       "      <td>NASA/GLDAS/V021/NOAH/G025/T3H/A20230101_0000</td>\n",
       "      <td>A20230101_0000</td>\n",
       "      <td>1672542000000</td>\n",
       "      <td>1672531200000</td>\n",
       "      <td>1.681593e+15</td>\n",
       "    </tr>\n",
       "    <tr>\n",
       "      <th>1</th>\n",
       "      <td>295.164350</td>\n",
       "      <td>6</td>\n",
       "      <td>3</td>\n",
       "      <td>permanent</td>\n",
       "      <td>24927996</td>\n",
       "      <td>[Tair_f_inst]</td>\n",
       "      <td>{'Tair_f_inst': {'data_type': {'type': 'PixelT...</td>\n",
       "      <td>{'type': 'LinearRing', 'coordinates': [[-180, ...</td>\n",
       "      <td>NASA/GLDAS/V021/NOAH/G025/T3H/A20230101_0300</td>\n",
       "      <td>A20230101_0300</td>\n",
       "      <td>1672552800000</td>\n",
       "      <td>1672542000000</td>\n",
       "      <td>1.681593e+15</td>\n",
       "    </tr>\n",
       "    <tr>\n",
       "      <th>2</th>\n",
       "      <td>298.299421</td>\n",
       "      <td>9</td>\n",
       "      <td>6</td>\n",
       "      <td>permanent</td>\n",
       "      <td>25503123</td>\n",
       "      <td>[Tair_f_inst]</td>\n",
       "      <td>{'Tair_f_inst': {'data_type': {'type': 'PixelT...</td>\n",
       "      <td>{'type': 'LinearRing', 'coordinates': [[-180, ...</td>\n",
       "      <td>NASA/GLDAS/V021/NOAH/G025/T3H/A20230101_0600</td>\n",
       "      <td>A20230101_0600</td>\n",
       "      <td>1672563600000</td>\n",
       "      <td>1672552800000</td>\n",
       "      <td>1.681593e+15</td>\n",
       "    </tr>\n",
       "    <tr>\n",
       "      <th>3</th>\n",
       "      <td>295.487587</td>\n",
       "      <td>12</td>\n",
       "      <td>9</td>\n",
       "      <td>permanent</td>\n",
       "      <td>25856870</td>\n",
       "      <td>[Tair_f_inst]</td>\n",
       "      <td>{'Tair_f_inst': {'data_type': {'type': 'PixelT...</td>\n",
       "      <td>{'type': 'LinearRing', 'coordinates': [[-180, ...</td>\n",
       "      <td>NASA/GLDAS/V021/NOAH/G025/T3H/A20230101_0900</td>\n",
       "      <td>A20230101_0900</td>\n",
       "      <td>1672574400000</td>\n",
       "      <td>1672563600000</td>\n",
       "      <td>1.681593e+15</td>\n",
       "    </tr>\n",
       "    <tr>\n",
       "      <th>4</th>\n",
       "      <td>293.185316</td>\n",
       "      <td>15</td>\n",
       "      <td>12</td>\n",
       "      <td>permanent</td>\n",
       "      <td>25872287</td>\n",
       "      <td>[Tair_f_inst]</td>\n",
       "      <td>{'Tair_f_inst': {'data_type': {'type': 'PixelT...</td>\n",
       "      <td>{'type': 'LinearRing', 'coordinates': [[-180, ...</td>\n",
       "      <td>NASA/GLDAS/V021/NOAH/G025/T3H/A20230101_1200</td>\n",
       "      <td>A20230101_1200</td>\n",
       "      <td>1672585200000</td>\n",
       "      <td>1672574400000</td>\n",
       "      <td>1.681594e+15</td>\n",
       "    </tr>\n",
       "    <tr>\n",
       "      <th>...</th>\n",
       "      <td>...</td>\n",
       "      <td>...</td>\n",
       "      <td>...</td>\n",
       "      <td>...</td>\n",
       "      <td>...</td>\n",
       "      <td>...</td>\n",
       "      <td>...</td>\n",
       "      <td>...</td>\n",
       "      <td>...</td>\n",
       "      <td>...</td>\n",
       "      <td>...</td>\n",
       "      <td>...</td>\n",
       "      <td>...</td>\n",
       "    </tr>\n",
       "    <tr>\n",
       "      <th>2755</th>\n",
       "      <td>297.164348</td>\n",
       "      <td>12</td>\n",
       "      <td>9</td>\n",
       "      <td>early</td>\n",
       "      <td>26066199</td>\n",
       "      <td>[Tair_f_inst]</td>\n",
       "      <td>{'Tair_f_inst': {'data_type': {'type': 'PixelT...</td>\n",
       "      <td>{'type': 'LinearRing', 'coordinates': [[-180, ...</td>\n",
       "      <td>NASA/GLDAS/V021/NOAH/G025/T3H/A20231211_0900</td>\n",
       "      <td>A20231211_0900</td>\n",
       "      <td>1702296000000</td>\n",
       "      <td>1702285200000</td>\n",
       "      <td>1.702694e+15</td>\n",
       "    </tr>\n",
       "    <tr>\n",
       "      <th>2756</th>\n",
       "      <td>293.445233</td>\n",
       "      <td>15</td>\n",
       "      <td>12</td>\n",
       "      <td>early</td>\n",
       "      <td>26072794</td>\n",
       "      <td>[Tair_f_inst]</td>\n",
       "      <td>{'Tair_f_inst': {'data_type': {'type': 'PixelT...</td>\n",
       "      <td>{'type': 'LinearRing', 'coordinates': [[-180, ...</td>\n",
       "      <td>NASA/GLDAS/V021/NOAH/G025/T3H/A20231211_1200</td>\n",
       "      <td>A20231211_1200</td>\n",
       "      <td>1702306800000</td>\n",
       "      <td>1702296000000</td>\n",
       "      <td>1.702695e+15</td>\n",
       "    </tr>\n",
       "    <tr>\n",
       "      <th>2757</th>\n",
       "      <td>292.851942</td>\n",
       "      <td>18</td>\n",
       "      <td>15</td>\n",
       "      <td>early</td>\n",
       "      <td>25808332</td>\n",
       "      <td>[Tair_f_inst]</td>\n",
       "      <td>{'Tair_f_inst': {'data_type': {'type': 'PixelT...</td>\n",
       "      <td>{'type': 'LinearRing', 'coordinates': [[-180, ...</td>\n",
       "      <td>NASA/GLDAS/V021/NOAH/G025/T3H/A20231211_1500</td>\n",
       "      <td>A20231211_1500</td>\n",
       "      <td>1702317600000</td>\n",
       "      <td>1702306800000</td>\n",
       "      <td>1.702695e+15</td>\n",
       "    </tr>\n",
       "    <tr>\n",
       "      <th>2758</th>\n",
       "      <td>291.786064</td>\n",
       "      <td>21</td>\n",
       "      <td>18</td>\n",
       "      <td>early</td>\n",
       "      <td>25608046</td>\n",
       "      <td>[Tair_f_inst]</td>\n",
       "      <td>{'Tair_f_inst': {'data_type': {'type': 'PixelT...</td>\n",
       "      <td>{'type': 'LinearRing', 'coordinates': [[-180, ...</td>\n",
       "      <td>NASA/GLDAS/V021/NOAH/G025/T3H/A20231211_1800</td>\n",
       "      <td>A20231211_1800</td>\n",
       "      <td>1702328400000</td>\n",
       "      <td>1702317600000</td>\n",
       "      <td>1.702695e+15</td>\n",
       "    </tr>\n",
       "    <tr>\n",
       "      <th>2759</th>\n",
       "      <td>291.490385</td>\n",
       "      <td>0</td>\n",
       "      <td>21</td>\n",
       "      <td>early</td>\n",
       "      <td>25250018</td>\n",
       "      <td>[Tair_f_inst]</td>\n",
       "      <td>{'Tair_f_inst': {'data_type': {'type': 'PixelT...</td>\n",
       "      <td>{'type': 'LinearRing', 'coordinates': [[-180, ...</td>\n",
       "      <td>NASA/GLDAS/V021/NOAH/G025/T3H/A20231211_2100</td>\n",
       "      <td>A20231211_2100</td>\n",
       "      <td>1702339200000</td>\n",
       "      <td>1702328400000</td>\n",
       "      <td>1.702693e+15</td>\n",
       "    </tr>\n",
       "  </tbody>\n",
       "</table>\n",
       "<p>2760 rows × 13 columns</p>\n",
       "</div>"
      ],
      "text/plain": [
       "      Tair_f_inst  end_hour  start_hour     status  system:asset_size  \\\n",
       "0      292.792227         3           0  permanent           25095776   \n",
       "1      295.164350         6           3  permanent           24927996   \n",
       "2      298.299421         9           6  permanent           25503123   \n",
       "3      295.487587        12           9  permanent           25856870   \n",
       "4      293.185316        15          12  permanent           25872287   \n",
       "...           ...       ...         ...        ...                ...   \n",
       "2755   297.164348        12           9      early           26066199   \n",
       "2756   293.445233        15          12      early           26072794   \n",
       "2757   292.851942        18          15      early           25808332   \n",
       "2758   291.786064        21          18      early           25608046   \n",
       "2759   291.490385         0          21      early           25250018   \n",
       "\n",
       "     system:band_names                                       system:bands  \\\n",
       "0        [Tair_f_inst]  {'Tair_f_inst': {'data_type': {'type': 'PixelT...   \n",
       "1        [Tair_f_inst]  {'Tair_f_inst': {'data_type': {'type': 'PixelT...   \n",
       "2        [Tair_f_inst]  {'Tair_f_inst': {'data_type': {'type': 'PixelT...   \n",
       "3        [Tair_f_inst]  {'Tair_f_inst': {'data_type': {'type': 'PixelT...   \n",
       "4        [Tair_f_inst]  {'Tair_f_inst': {'data_type': {'type': 'PixelT...   \n",
       "...                ...                                                ...   \n",
       "2755     [Tair_f_inst]  {'Tair_f_inst': {'data_type': {'type': 'PixelT...   \n",
       "2756     [Tair_f_inst]  {'Tair_f_inst': {'data_type': {'type': 'PixelT...   \n",
       "2757     [Tair_f_inst]  {'Tair_f_inst': {'data_type': {'type': 'PixelT...   \n",
       "2758     [Tair_f_inst]  {'Tair_f_inst': {'data_type': {'type': 'PixelT...   \n",
       "2759     [Tair_f_inst]  {'Tair_f_inst': {'data_type': {'type': 'PixelT...   \n",
       "\n",
       "                                       system:footprint  \\\n",
       "0     {'type': 'LinearRing', 'coordinates': [[-180, ...   \n",
       "1     {'type': 'LinearRing', 'coordinates': [[-180, ...   \n",
       "2     {'type': 'LinearRing', 'coordinates': [[-180, ...   \n",
       "3     {'type': 'LinearRing', 'coordinates': [[-180, ...   \n",
       "4     {'type': 'LinearRing', 'coordinates': [[-180, ...   \n",
       "...                                                 ...   \n",
       "2755  {'type': 'LinearRing', 'coordinates': [[-180, ...   \n",
       "2756  {'type': 'LinearRing', 'coordinates': [[-180, ...   \n",
       "2757  {'type': 'LinearRing', 'coordinates': [[-180, ...   \n",
       "2758  {'type': 'LinearRing', 'coordinates': [[-180, ...   \n",
       "2759  {'type': 'LinearRing', 'coordinates': [[-180, ...   \n",
       "\n",
       "                                         system:id    system:index  \\\n",
       "0     NASA/GLDAS/V021/NOAH/G025/T3H/A20230101_0000  A20230101_0000   \n",
       "1     NASA/GLDAS/V021/NOAH/G025/T3H/A20230101_0300  A20230101_0300   \n",
       "2     NASA/GLDAS/V021/NOAH/G025/T3H/A20230101_0600  A20230101_0600   \n",
       "3     NASA/GLDAS/V021/NOAH/G025/T3H/A20230101_0900  A20230101_0900   \n",
       "4     NASA/GLDAS/V021/NOAH/G025/T3H/A20230101_1200  A20230101_1200   \n",
       "...                                            ...             ...   \n",
       "2755  NASA/GLDAS/V021/NOAH/G025/T3H/A20231211_0900  A20231211_0900   \n",
       "2756  NASA/GLDAS/V021/NOAH/G025/T3H/A20231211_1200  A20231211_1200   \n",
       "2757  NASA/GLDAS/V021/NOAH/G025/T3H/A20231211_1500  A20231211_1500   \n",
       "2758  NASA/GLDAS/V021/NOAH/G025/T3H/A20231211_1800  A20231211_1800   \n",
       "2759  NASA/GLDAS/V021/NOAH/G025/T3H/A20231211_2100  A20231211_2100   \n",
       "\n",
       "      system:time_end  system:time_start  system:version  \n",
       "0       1672542000000      1672531200000    1.681593e+15  \n",
       "1       1672552800000      1672542000000    1.681593e+15  \n",
       "2       1672563600000      1672552800000    1.681593e+15  \n",
       "3       1672574400000      1672563600000    1.681593e+15  \n",
       "4       1672585200000      1672574400000    1.681594e+15  \n",
       "...               ...                ...             ...  \n",
       "2755    1702296000000      1702285200000    1.702694e+15  \n",
       "2756    1702306800000      1702296000000    1.702695e+15  \n",
       "2757    1702317600000      1702306800000    1.702695e+15  \n",
       "2758    1702328400000      1702317600000    1.702695e+15  \n",
       "2759    1702339200000      1702328400000    1.702693e+15  \n",
       "\n",
       "[2760 rows x 13 columns]"
      ]
     },
     "execution_count": 18,
     "metadata": {},
     "output_type": "execute_result"
    }
   ],
   "source": [
    "dict_to_df(fc_filtered)"
   ]
  }
 ],
 "metadata": {
  "kernelspec": {
   "display_name": "ee",
   "language": "python",
   "name": "python3"
  },
  "language_info": {
   "codemirror_mode": {
    "name": "ipython",
    "version": 3
   },
   "file_extension": ".py",
   "mimetype": "text/x-python",
   "name": "python",
   "nbconvert_exporter": "python",
   "pygments_lexer": "ipython3",
   "version": "3.11.6"
  }
 },
 "nbformat": 4,
 "nbformat_minor": 2
}
