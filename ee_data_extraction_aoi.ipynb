{
  "nbformat": 4,
  "nbformat_minor": 0,
  "metadata": {
    "colab": {
      "provenance": [],
      "authorship_tag": "ABX9TyMjsu9LTeSRCCIfbDROlQgG",
      "include_colab_link": true
    },
    "kernelspec": {
      "name": "python3",
      "display_name": "Python 3"
    }
  },
  "cells": [
    {
      "cell_type": "markdown",
      "metadata": {
        "id": "view-in-github",
        "colab_type": "text"
      },
      "source": [
        "<a href=\"https://colab.research.google.com/github/ricoen/google-ee-data-extraction/blob/main/ee_data_extraction_aoi.ipynb\" target=\"_parent\"><img src=\"https://colab.research.google.com/assets/colab-badge.svg\" alt=\"Open In Colab\"/></a>"
      ]
    },
    {
      "cell_type": "markdown",
      "metadata": {
        "id": "jVC-vgBFzl5n"
      },
      "source": [
        "# Google Earth Engine Data Extract\n",
        "\n",
        "Author [@ricoen](https://github.com/ricoen)<br>\n",
        "Please cite me if you use this code :)"
      ]
    },
    {
      "cell_type": "code",
      "metadata": {
        "id": "yUsFNzL_YyR1"
      },
      "source": [
        "#Import Earth Engine\n",
        "import ee"
      ],
      "execution_count": null,
      "outputs": []
    },
    {
      "cell_type": "code",
      "metadata": {
        "id": "Ng4JRr6X279f"
      },
      "source": [
        "#Authenticate EE with your account\n",
        "ee.Authenticate()"
      ],
      "execution_count": null,
      "outputs": []
    },
    {
      "cell_type": "code",
      "metadata": {
        "id": "wF76mUYr3TK_"
      },
      "source": [
        "#Initialize EE\n",
        "ee.Initialize()"
      ],
      "execution_count": null,
      "outputs": []
    },
    {
      "cell_type": "code",
      "metadata": {
        "id": "ypKuzTz1oTBa"
      },
      "source": [
        "#Set the dataset from EE Image Collection\n",
        "dataset = ee.ImageCollection(\"NASA/GLDAS/V021/NOAH/G025/T3H\")"
      ],
      "execution_count": null,
      "outputs": []
    },
    {
      "cell_type": "code",
      "metadata": {
        "id": "22lIv_BGqL1t"
      },
      "source": [
        "#Set the dataset taken time\n",
        "taken = dataset.filterDate(\"2022-07-01\", \"2022-07-31\")"
      ],
      "execution_count": null,
      "outputs": []
    },
    {
      "cell_type": "code",
      "metadata": {
        "id": "z6VikaAxrAHn"
      },
      "source": [
        "#Get the first raster for visualize the data\n",
        "first_raster = ee.Image(taken.first())"
      ],
      "execution_count": null,
      "outputs": []
    },
    {
      "cell_type": "code",
      "metadata": {
        "id": "6xQk7FDMrQOY"
      },
      "source": [
        "#Get info from the selected raster\n",
        "img = first_raster\n",
        "\n",
        "img.getInfo()"
      ],
      "execution_count": null,
      "outputs": []
    },
    {
      "cell_type": "code",
      "metadata": {
        "id": "-LZWnrxMtVAQ"
      },
      "source": [
        "#Get the temperature value from T band\n",
        "temperature = img.select(\"Tair_f_inst\")"
      ],
      "execution_count": null,
      "outputs": []
    },
    {
      "cell_type": "code",
      "metadata": {
        "id": "GabtTCRr832J"
      },
      "source": [
        "#Set the AOI (Area of Interest)\n",
        "aoi = ee.Geometry.Polygon([\n",
        "          [\n",
        "            [\n",
        "              112.62535572052002,\n",
        "              -7.988390117845741\n",
        "            ],\n",
        "            [\n",
        "              112.64822959899902,\n",
        "              -7.988390117845741\n",
        "            ],\n",
        "            [\n",
        "              112.64822959899902,\n",
        "              -7.968202639589894\n",
        "            ],\n",
        "            [\n",
        "              112.62535572052002,\n",
        "              -7.968202639589894\n",
        "            ],\n",
        "            [\n",
        "              112.62535572052002,\n",
        "              -7.988390117845741\n",
        "            ]\n",
        "          ]\n",
        "        ], None, False)\n",
        "\n",
        "#poi = ee.Geometry.Point([112.644105, -7.9514187])"
      ],
      "execution_count": null,
      "outputs": []
    },
    {
      "cell_type": "code",
      "metadata": {
        "id": "cMyLqUAO-Og5"
      },
      "source": [
        "# Reduce the raster\n",
        "def setProperty(image):\n",
        "    dict = image.reduceRegion(ee.Reducer.mean(), aoi)\n",
        "    return image.set(dict)"
      ],
      "execution_count": null,
      "outputs": []
    },
    {
      "cell_type": "code",
      "metadata": {
        "id": "iFLfVjIA_m3r"
      },
      "source": [
        "#Calculate the raster property\n",
        "withMean = taken.map(setProperty)"
      ],
      "execution_count": null,
      "outputs": []
    },
    {
      "cell_type": "code",
      "metadata": {
        "id": "V3N2Dw-v-jh2"
      },
      "source": [
        "import pandas as pd\n",
        "\n",
        "#Convert temperature unit (Kelvin) to Celcius \n",
        "t_avg = withMean.aggregate_array(\"Tair_f_inst\").getInfo()\n",
        "t_c = [x - 273 for x in t_avg]\n",
        "t_c = pd.Series(t_c).round(decimals=0)\n",
        "\n",
        "#print(t_c)"
      ],
      "execution_count": null,
      "outputs": []
    },
    {
      "cell_type": "code",
      "metadata": {
        "id": "5tAcbgWJDZkS"
      },
      "source": [
        "#Get the date\n",
        "from datetime import datetime as dt\n",
        "\n",
        "time = withMean.aggregate_array(\"system:time_start\").getInfo()\n",
        "#Convert from miliseconds to true time (local time with 24-H format)\n",
        "date = [x // 1000 for x in time]\n",
        "captured = [dt.utcfromtimestamp(i).strftime(\"%c GMT\") for i in date]\n",
        "captured = pd.Series(captured)\n",
        "converted_date = pd.to_datetime(captured).dt.tz_convert(\"Asia/Jakarta\")\n",
        "\n",
        "# print(captured)"
      ],
      "execution_count": null,
      "outputs": []
    },
    {
      "cell_type": "code",
      "metadata": {
        "id": "PtnKAGyOdM3j"
      },
      "source": [
        "#Just look inside the array\n",
        "t_c"
      ],
      "execution_count": null,
      "outputs": []
    },
    {
      "cell_type": "code",
      "metadata": {
        "id": "hx1FcGardYAz"
      },
      "source": [
        "#Just look inside the array\n",
        "converted_date"
      ],
      "execution_count": null,
      "outputs": []
    },
    {
      "cell_type": "code",
      "metadata": {
        "id": "M3cPPuK4aCmp"
      },
      "source": [
        "#Visualize The Data\n",
        "\n",
        "#Convert from numpy array to Pandas Series\n",
        "date = pd.Series(converted_date)\n",
        "day = date.dt.day_name()\n",
        "temperature = pd.Series(t_c)\n",
        "#Concatnate the columns of Date and Temperature\n",
        "df = pd.concat([day, date, temperature], axis=1)\n",
        "df.columns = [\"day\", \"date\", \"temperature\"]\n",
        "\n",
        "df"
      ],
      "execution_count": null,
      "outputs": []
    },
    {
      "cell_type": "code",
      "source": [
        "#Visualize the data with Plotly\n",
        "import plotly.express as px\n",
        "\n",
        "#Define x and y values\n",
        "fig = px.line(df, x=\"date\", y=\"temperature\", \n",
        "              title=\"Air Temperature on Malang City - GLDAS-2.1 (NASA)\")\n",
        "#Show the figure\n",
        "fig.show()"
      ],
      "metadata": {
        "id": "IekUNI5VhIBL"
      },
      "execution_count": null,
      "outputs": []
    }
  ]
}