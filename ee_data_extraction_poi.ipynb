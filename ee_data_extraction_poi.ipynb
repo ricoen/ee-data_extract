{
  "nbformat": 4,
  "nbformat_minor": 0,
  "metadata": {
    "colab": {
      "provenance": [],
      "authorship_tag": "ABX9TyO1tQsD46LDXh9K96WquXCR",
      "include_colab_link": true
    },
    "kernelspec": {
      "name": "python3",
      "display_name": "Python 3"
    },
    "language_info": {
      "name": "python"
    }
  },
  "cells": [
    {
      "cell_type": "markdown",
      "metadata": {
        "id": "view-in-github",
        "colab_type": "text"
      },
      "source": [
        "<a href=\"https://colab.research.google.com/github/ricoen/google-ee-data-extraction/blob/main/ee_data_extraction_poi.ipynb\" target=\"_parent\"><img src=\"https://colab.research.google.com/assets/colab-badge.svg\" alt=\"Open In Colab\"/></a>"
      ]
    },
    {
      "cell_type": "markdown",
      "source": [
        "# Google Earth Engine Data Extract\n",
        "\n",
        "Author [@ricoen](https://github.com/ricoen)<br>\n",
        "Please cite me if you use this code :)"
      ],
      "metadata": {
        "id": "VQmE64DcqDVn"
      }
    },
    {
      "cell_type": "code",
      "execution_count": null,
      "metadata": {
        "id": "nb5SDVEZItPA"
      },
      "outputs": [],
      "source": [
        "import ee"
      ]
    },
    {
      "cell_type": "code",
      "source": [
        "ee.Authenticate()"
      ],
      "metadata": {
        "id": "qEybi-q0plhn"
      },
      "execution_count": null,
      "outputs": []
    },
    {
      "cell_type": "code",
      "source": [
        "ee.Initialize()"
      ],
      "metadata": {
        "id": "8Zt347weI7cZ"
      },
      "execution_count": null,
      "outputs": []
    },
    {
      "cell_type": "code",
      "source": [
        "dataset = ee.ImageCollection('NASA/GLDAS/V021/NOAH/G025/T3H')"
      ],
      "metadata": {
        "id": "L23ozfLuJAhq"
      },
      "execution_count": null,
      "outputs": []
    },
    {
      "cell_type": "code",
      "source": [
        "start_date = \"2022-07-01\"\n",
        "stop_date = \"2022-07-31\"\n",
        "\n",
        "dataset = dataset.select(\"Tair_f_inst\").filterDate(start_date, stop_date)"
      ],
      "metadata": {
        "id": "TnG5InYJJEWO"
      },
      "execution_count": null,
      "outputs": []
    },
    {
      "cell_type": "code",
      "source": [
        "lon = 112.611523\n",
        "lat = -7.951988\n",
        "\n",
        "poi = ee.Geometry.Point(lon, lat)"
      ],
      "metadata": {
        "id": "eJ3ERwlMOAYq"
      },
      "execution_count": null,
      "outputs": []
    },
    {
      "cell_type": "code",
      "source": [
        "res = 27830\n",
        "\n",
        "t_air = dataset.mean().sample(poi, res).first().get('Tair_f_inst').getInfo()\n",
        "print('Average daytime air termperature at urban point:', round(t_air -273.15, 2), '°C')"
      ],
      "metadata": {
        "id": "rr0GH25APOoh"
      },
      "execution_count": null,
      "outputs": []
    },
    {
      "cell_type": "code",
      "source": [
        "t_air_poi = dataset.getRegion(poi, res).getInfo()"
      ],
      "metadata": {
        "id": "jbO46MOUQJPK"
      },
      "execution_count": null,
      "outputs": []
    },
    {
      "cell_type": "code",
      "source": [
        "t_air_poi[:3]"
      ],
      "metadata": {
        "id": "bHmDQiwTQW0J"
      },
      "execution_count": null,
      "outputs": []
    },
    {
      "cell_type": "code",
      "source": [
        "import pandas as pd\n",
        "from datetime import datetime as dt\n",
        "\n",
        "def ee_array_to_df(arr, list_of_bands):\n",
        "    \"\"\"Transforms client-side ee.Image.getRegion array to pandas.DataFrame.\"\"\"\n",
        "    df = pd.DataFrame(arr)\n",
        "\n",
        "    # Rearrange the header.\n",
        "    headers = df.iloc[0]\n",
        "    df = pd.DataFrame(df.values[1:], columns=headers)\n",
        "\n",
        "    # Remove rows without data inside.\n",
        "    df = df[['longitude', 'latitude', 'time', *list_of_bands]].dropna()\n",
        "\n",
        "    # Convert the data to numeric values.\n",
        "    for band in list_of_bands:\n",
        "        df[band] = pd.to_numeric(df[band], errors='coerce')\n",
        "\n",
        "    # Convert the time field into a datetime.\n",
        "    time = dataset.aggregate_array(\"system:time_start\").getInfo()\n",
        "    date = [x // 1000 for x in time]\n",
        "    captured = [dt.utcfromtimestamp(i).strftime(\"%c GMT\") for i in date]\n",
        "    captured = pd.Series(captured)\n",
        "    df[\"datetime\"] = pd.to_datetime(captured).dt.tz_convert(\"Asia/Jakarta\")\n",
        "\n",
        "    # Keep the columns of interest.\n",
        "    df = df[['time','datetime',  *list_of_bands]]\n",
        "\n",
        "    return df"
      ],
      "metadata": {
        "id": "Wo8WgLxsQpjl"
      },
      "execution_count": null,
      "outputs": []
    },
    {
      "cell_type": "code",
      "source": [
        "t_air_df = ee_array_to_df(t_air_poi, ['Tair_f_inst'])"
      ],
      "metadata": {
        "id": "-_BOxfv0Q4XL"
      },
      "execution_count": null,
      "outputs": []
    },
    {
      "cell_type": "code",
      "source": [
        "t_air_df.head()"
      ],
      "metadata": {
        "id": "PLtIuEYXRRuD"
      },
      "execution_count": null,
      "outputs": []
    },
    {
      "cell_type": "code",
      "source": [
        "def t_air_to_celsius(t_air):\n",
        "    \"\"\"Converts MODIS LST units to degrees Celsius.\"\"\"\n",
        "    t_celsius =  t_air - 273.15\n",
        "    \n",
        "    return round(t_celsius)\n",
        "\n",
        "t_air_df['Tair_f_inst'] = t_air_df['Tair_f_inst'].apply(t_air_to_celsius)"
      ],
      "metadata": {
        "id": "Ft9oYDHoRg-T"
      },
      "execution_count": null,
      "outputs": []
    },
    {
      "cell_type": "code",
      "source": [
        "t_air_df.head()"
      ],
      "metadata": {
        "id": "M3nTUroMSGy3"
      },
      "execution_count": null,
      "outputs": []
    },
    {
      "cell_type": "code",
      "source": [
        "t_air_df"
      ],
      "metadata": {
        "id": "DaFn8Vk2WakS"
      },
      "execution_count": null,
      "outputs": []
    },
    {
      "cell_type": "code",
      "source": [
        "#Visualize the data with Plotly\n",
        "import plotly.express as px\n",
        "\n",
        "#Define x and y values\n",
        "fig = px.line(t_air_df, x=\"datetime\", y=\"Tair_f_inst\", \n",
        "              title=\"Air Temperature on Faculty of Mathematics and Natural Sciences, Universitas Brawijaya - GLDAS-2.1 (NASA)\")\n",
        "#Show the figure\n",
        "fig.show()"
      ],
      "metadata": {
        "collapsed": true,
        "id": "Ij3KCqPQYR5b"
      },
      "execution_count": null,
      "outputs": []
    }
  ]
}